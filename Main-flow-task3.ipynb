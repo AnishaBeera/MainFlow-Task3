<!DOCTYPE html>
<!-- saved from url=(0073)https://github.com/GedelaSruthipriya/Main-flow-task3/blob/main/tas3.ipynb -->
<html lang="en" data-color-mode="auto" data-light-theme="light" data-dark-theme="dark" data-a11y-animated-images="system" data-a11y-link-underlines="true" data-turbo-loaded="" class="js-focus-visible" data-js-focus-visible=""><head><meta http-equiv="Content-Type" content="text/html; charset=UTF-8"><style type="text/css">.turbo-progress-bar {
  position: fixed;
  display: block;
  top: 0;
  left: 0;
  height: 3px;
  background: #0076ff;
  z-index: 2147483647;
  transition:
    width 300ms ease-out,
    opacity 150ms 150ms ease-in;
  transform: translate3d(0, 0, 0);
}
</style>
    
  
  
  
  
  
  

  

  <link crossorigin="anonymous" media="all" rel="stylesheet" href="./Main-flow-task3_files/light-c59dc71e3a4c.css"><link crossorigin="anonymous" media="all" rel="stylesheet" href="./Main-flow-task3_files/light_high_contrast-4bf0cb726930.css"><link crossorigin="anonymous" media="all" rel="stylesheet" href="./Main-flow-task3_files/dark-89751e879f8b.css"><link crossorigin="anonymous" media="all" rel="stylesheet" href="./Main-flow-task3_files/dark_high_contrast-67c7180a598a.css"><link data-color-theme="light" crossorigin="anonymous" media="all" rel="stylesheet" data-href="https://github.githubassets.com/assets/light-c59dc71e3a4c.css"><link data-color-theme="light_high_contrast" crossorigin="anonymous" media="all" rel="stylesheet" data-href="https://github.githubassets.com/assets/light_high_contrast-4bf0cb726930.css"><link data-color-theme="light_colorblind" crossorigin="anonymous" media="all" rel="stylesheet" data-href="https://github.githubassets.com/assets/light_colorblind-6060e905eb78.css"><link data-color-theme="light_colorblind_high_contrast" crossorigin="anonymous" media="all" rel="stylesheet" data-href="https://github.githubassets.com/assets/light_colorblind_high_contrast-04e818620b9c.css"><link data-color-theme="light_tritanopia" crossorigin="anonymous" media="all" rel="stylesheet" data-href="https://github.githubassets.com/assets/light_tritanopia-ae65df249e0f.css"><link data-color-theme="light_tritanopia_high_contrast" crossorigin="anonymous" media="all" rel="stylesheet" data-href="https://github.githubassets.com/assets/light_tritanopia_high_contrast-fdadc12a1ec2.css"><link data-color-theme="dark" crossorigin="anonymous" media="all" rel="stylesheet" data-href="https://github.githubassets.com/assets/dark-89751e879f8b.css"><link data-color-theme="dark_high_contrast" crossorigin="anonymous" media="all" rel="stylesheet" data-href="https://github.githubassets.com/assets/dark_high_contrast-67c7180a598a.css"><link data-color-theme="dark_colorblind" crossorigin="anonymous" media="all" rel="stylesheet" data-href="https://github.githubassets.com/assets/dark_colorblind-4277e18a7c75.css"><link data-color-theme="dark_colorblind_high_contrast" crossorigin="anonymous" media="all" rel="stylesheet" data-href="https://github.githubassets.com/assets/dark_colorblind_high_contrast-2e33ed61bc8c.css"><link data-color-theme="dark_tritanopia" crossorigin="anonymous" media="all" rel="stylesheet" data-href="https://github.githubassets.com/assets/dark_tritanopia-48d44d87614d.css"><link data-color-theme="dark_tritanopia_high_contrast" crossorigin="anonymous" media="all" rel="stylesheet" data-href="https://github.githubassets.com/assets/dark_tritanopia_high_contrast-6adcb5080302.css"><link data-color-theme="dark_dimmed" crossorigin="anonymous" media="all" rel="stylesheet" data-href="https://github.githubassets.com/assets/dark_dimmed-250cee4c1ea8.css"><link data-color-theme="dark_dimmed_high_contrast" crossorigin="anonymous" media="all" rel="stylesheet" data-href="https://github.githubassets.com/assets/dark_dimmed_high_contrast-e3802beb8c06.css">


    <link crossorigin="anonymous" media="all" rel="stylesheet" href="./Main-flow-task3_files/primer-primitives-225433424a87.css">
    <link crossorigin="anonymous" media="all" rel="stylesheet" href="./Main-flow-task3_files/primer-b4bd0459f984.css">
    <link crossorigin="anonymous" media="all" rel="stylesheet" href="./Main-flow-task3_files/global-46e30a0a488d.css">
    <link crossorigin="anonymous" media="all" rel="stylesheet" href="./Main-flow-task3_files/github-ef14fd9f242b.css">
  <link crossorigin="anonymous" media="all" rel="stylesheet" href="./Main-flow-task3_files/repository-fa462f1c51f1.css">
<link crossorigin="anonymous" media="all" rel="stylesheet" href="./Main-flow-task3_files/code-e1352b16012f.css">

  


  <script type="application/json" id="client-env">{"locale":"en","featureFlags":["alternate_user_config_repo","api_insights_show_missing_data_banner","appearance_settings","codespaces_prebuild_region_target_update","contact_requests_implicit_opt_in","contentful_lp_flex_features","contentful_lp_footnotes","contentful_lp_form_phone_e164","copilot_chat_attach_multiple_images","copilot_chat_autocomplete","copilot_chat_custom_instructions","copilot_chat_repo_custom_instructions_preview","copilot_chat_vision_in_claude","copilot_chat_wholearea_dd","copilot_custom_copilots_feature_preview","copilot_duplicate_thread","copilot_free_to_paid_telem","copilot_ftp_settings_upgrade","copilot_ftp_upgrade_to_pro_from_models","copilot_ftp_your_copilot_settings","copilot_immersive_draft_issue_template_required","copilot_immersive_issue_preview","copilot_new_conversation_starters","copilot_new_immersive_references_ui","copilot_no_floating_button","copilot_read_shared_conversation","copilot_showcase_icebreakers","copilot_task_oriented_assistive_prompts","copilot_topics_as_references","copilot_workbench_iterate_panel","copilot_workbench_preview_analytics","copilot_workbench_refresh_on_wsod","copilot_workbench_user_limits","custom_copilots_capi_mode","direct_to_salesforce","dotcom_chat_client_side_skills","ghost_pilot_confidence_truncation_25","ghost_pilot_confidence_truncation_40","insert_before_patch","issues_react_blur_item_picker_on_close","issues_react_bots_timeline_pagination","issues_react_create_milestone","issues_react_prohibit_title_fallback","issues_react_remove_placeholders","lifecycle_label_name_updates","link_contact_sales_swp_marketo","marketing_pages_search_explore_provider","memex_mwl_filter_field_delimiter","nonreporting_relay_graphql_status_codes","primer_primitives_experimental","primer_react_css_modules_ga","primer_react_select_panel_with_modern_action_list","remove_child_patch","sample_network_conn_type","sanitize_nested_mathjax_macros","site_homepage_contentful","site_msbuild_hide_integrations","site_msbuild_launch","site_msbuild_webgl_hero","spark_auth_token_endpoint","spark_commit_on_default_branch","swp_enterprise_contact_form","use_copilot_avatar","use_paginated_repo_picker_cost_center_form"]}</script>
<script crossorigin="anonymous" type="application/javascript" src="./Main-flow-task3_files/high-contrast-cookie-a58297b2ebf8.js.download"></script>
<script crossorigin="anonymous" type="application/javascript" src="./Main-flow-task3_files/wp-runtime-692ff5106936.js.download" defer="defer"></script>
<script crossorigin="anonymous" type="application/javascript" src="./Main-flow-task3_files/vendors-node_modules_oddbird_popover-polyfill_dist_popover-fn_js-a8c266e5f126.js.download" defer="defer"></script>
<script crossorigin="anonymous" type="application/javascript" src="./Main-flow-task3_files/vendors-node_modules_github_mini-throttle_dist_index_js-node_modules_stacktrace-parser_dist_s-1d3d52-babac9434833.js.download" defer="defer"></script>
<script crossorigin="anonymous" type="application/javascript" src="./Main-flow-task3_files/ui_packages_failbot_failbot_ts-7cc3ec44644a.js.download" defer="defer"></script>
<script crossorigin="anonymous" type="application/javascript" src="./Main-flow-task3_files/environment-89128d48c6ff.js.download" defer="defer"></script>
<script crossorigin="anonymous" type="application/javascript" src="./Main-flow-task3_files/vendors-node_modules_primer_behaviors_dist_esm_index_mjs-c44edfed7f0d.js.download" defer="defer"></script>
<script crossorigin="anonymous" type="application/javascript" src="./Main-flow-task3_files/vendors-node_modules_github_selector-observer_dist_index_esm_js-cdf2757bd188.js.download" defer="defer"></script>
<script crossorigin="anonymous" type="application/javascript" src="./Main-flow-task3_files/vendors-node_modules_github_relative-time-element_dist_index_js-5913bc24f35d.js.download" defer="defer"></script>
<script crossorigin="anonymous" type="application/javascript" src="./Main-flow-task3_files/vendors-node_modules_github_text-expander-element_dist_index_js-e50fb7a5fe8c.js.download" defer="defer"></script>
<script crossorigin="anonymous" type="application/javascript" src="./Main-flow-task3_files/vendors-node_modules_github_auto-complete-element_dist_index_js-node_modules_github_catalyst_-8e9f78-c1e2fb329866.js.download" defer="defer"></script>
<script crossorigin="anonymous" type="application/javascript" src="./Main-flow-task3_files/vendors-node_modules_github_filter-input-element_dist_index_js-node_modules_github_remote-inp-d8c643-251bc3964eb6.js.download" defer="defer"></script>
<script crossorigin="anonymous" type="application/javascript" src="./Main-flow-task3_files/vendors-node_modules_github_markdown-toolbar-element_dist_index_js-6a8c7d9a08fe.js.download" defer="defer"></script>
<script crossorigin="anonymous" type="application/javascript" src="./Main-flow-task3_files/vendors-node_modules_github_file-attachment-element_dist_index_js-node_modules_primer_view-co-cadbad-fad3eaf3c7ec.js.download" defer="defer"></script>
<script crossorigin="anonymous" type="application/javascript" src="./Main-flow-task3_files/github-elements-a0eacac9865b.js.download" defer="defer"></script>
<script crossorigin="anonymous" type="application/javascript" src="./Main-flow-task3_files/element-registry-2a91e47d59c9.js.download" defer="defer"></script>
<script crossorigin="anonymous" type="application/javascript" src="./Main-flow-task3_files/vendors-node_modules_braintree_browser-detection_dist_browser-detection_js-node_modules_githu-bb80ec-34c4b68b1dd3.js.download" defer="defer"></script>
<script crossorigin="anonymous" type="application/javascript" src="./Main-flow-task3_files/vendors-node_modules_lit-html_lit-html_js-b93a87060d31.js.download" defer="defer"></script>
<script crossorigin="anonymous" type="application/javascript" src="./Main-flow-task3_files/vendors-node_modules_morphdom_dist_morphdom-esm_js-300e8e4e0414.js.download" defer="defer"></script>
<script crossorigin="anonymous" type="application/javascript" src="./Main-flow-task3_files/vendors-node_modules_fzy_js_index_js-node_modules_github_paste-markdown_dist_index_js-63a26702fa42.js.download" defer="defer"></script>
<script crossorigin="anonymous" type="application/javascript" src="./Main-flow-task3_files/vendors-node_modules_github_turbo_dist_turbo_es2017-esm_js-595819d3686f.js.download" defer="defer"></script>
<script crossorigin="anonymous" type="application/javascript" src="./Main-flow-task3_files/vendors-node_modules_github_remote-form_dist_index_js-node_modules_delegated-events_dist_inde-893f9f-1bcf38e06f01.js.download" defer="defer"></script>
<script crossorigin="anonymous" type="application/javascript" src="./Main-flow-task3_files/vendors-node_modules_color-convert_index_js-1a149db8dc99.js.download" defer="defer"></script>
<script crossorigin="anonymous" type="application/javascript" src="./Main-flow-task3_files/vendors-node_modules_github_quote-selection_dist_index_js-node_modules_github_session-resume_-c1aa61-91618cb63471.js.download" defer="defer"></script>
<script crossorigin="anonymous" type="application/javascript" src="./Main-flow-task3_files/ui_packages_updatable-content_updatable-content_ts-a5daa16ae903.js.download" defer="defer"></script>
<script crossorigin="anonymous" type="application/javascript" src="./Main-flow-task3_files/app_assets_modules_github_behaviors_task-list_ts-app_assets_modules_github_sso_ts-ui_packages-900dde-f953ddf42948.js.download" defer="defer"></script>
<script crossorigin="anonymous" type="application/javascript" src="./Main-flow-task3_files/app_assets_modules_github_sticky-scroll-into-view_ts-84e0c4a441a7.js.download" defer="defer"></script>
<script crossorigin="anonymous" type="application/javascript" src="./Main-flow-task3_files/app_assets_modules_github_behaviors_ajax-error_ts-app_assets_modules_github_behaviors_include-d0d0a6-a7da4270c5f4.js.download" defer="defer"></script>
<script crossorigin="anonymous" type="application/javascript" src="./Main-flow-task3_files/app_assets_modules_github_behaviors_commenting_edit_ts-app_assets_modules_github_behaviors_ht-83c235-567e0f340e27.js.download" defer="defer"></script>
<script crossorigin="anonymous" type="application/javascript" src="./Main-flow-task3_files/behaviors-86e4f0148f3f.js.download" defer="defer"></script>
<script crossorigin="anonymous" type="application/javascript" src="./Main-flow-task3_files/vendors-node_modules_delegated-events_dist_index_js-node_modules_github_catalyst_lib_index_js-ea8eaa-eefe25567449.js.download" defer="defer"></script>
<script crossorigin="anonymous" type="application/javascript" src="./Main-flow-task3_files/notifications-global-eadae94940d6.js.download" defer="defer"></script>
<script crossorigin="anonymous" type="application/javascript" src="./Main-flow-task3_files/vendors-node_modules_github_mini-throttle_dist_index_js-node_modules_virtualized-list_es_inde-5cfb7e-03a3356911e6.js.download" defer="defer"></script>
<script crossorigin="anonymous" type="application/javascript" src="./Main-flow-task3_files/vendors-node_modules_github_remote-form_dist_index_js-node_modules_delegated-events_dist_inde-70450e-bd02070d35a3.js.download" defer="defer"></script>
<script crossorigin="anonymous" type="application/javascript" src="./Main-flow-task3_files/app_assets_modules_github_ref-selector_ts-4c3b35d0e753.js.download" defer="defer"></script>
<script crossorigin="anonymous" type="application/javascript" src="./Main-flow-task3_files/codespaces-beb77f9a88fd.js.download" defer="defer"></script>
<script crossorigin="anonymous" type="application/javascript" src="./Main-flow-task3_files/vendors-node_modules_github_filter-input-element_dist_index_js-node_modules_github_remote-inp-3eebbd-c8d976843cc9.js.download" defer="defer"></script>
<script crossorigin="anonymous" type="application/javascript" src="./Main-flow-task3_files/vendors-node_modules_github_mini-throttle_dist_decorators_js-node_modules_delegated-events_di-e161aa-7cb68a617c15.js.download" defer="defer"></script>
<script crossorigin="anonymous" type="application/javascript" src="./Main-flow-task3_files/vendors-node_modules_github_file-attachment-element_dist_index_js-node_modules_github_remote--3c9c82-aa5ff674466d.js.download" defer="defer"></script>
<script crossorigin="anonymous" type="application/javascript" src="./Main-flow-task3_files/repositories-853f2e9a1ebb.js.download" defer="defer"></script>
<script crossorigin="anonymous" type="application/javascript" src="./Main-flow-task3_files/vendors-node_modules_github_mini-throttle_dist_index_js-node_modules_github_catalyst_lib_inde-dbbea9-558c1f223d1d.js.download" defer="defer"></script>
<script crossorigin="anonymous" type="application/javascript" src="./Main-flow-task3_files/code-menu-8c39716e9d81.js.download" defer="defer"></script>
<script crossorigin="anonymous" type="application/javascript" src="./Main-flow-task3_files/primer-react-957709c85fcc.js.download" defer="defer"></script>
<script crossorigin="anonymous" type="application/javascript" src="./Main-flow-task3_files/react-core-9ee8c3c69121.js.download" defer="defer"></script>
<script crossorigin="anonymous" type="application/javascript" src="./Main-flow-task3_files/react-lib-8705026b409a.js.download" defer="defer"></script>
<script crossorigin="anonymous" type="application/javascript" src="./Main-flow-task3_files/octicons-react-9fd6ca6872cc.js.download" defer="defer"></script>
<script crossorigin="anonymous" type="application/javascript" src="./Main-flow-task3_files/vendors-node_modules_emotion_is-prop-valid_dist_emotion-is-prop-valid_esm_js-node_modules_emo-b1c483-b5947865157f.js.download" defer="defer"></script>
<script crossorigin="anonymous" type="application/javascript" src="./Main-flow-task3_files/vendors-node_modules_github_catalyst_lib_index_js-node_modules_primer_live-region-element_dis-b2aea6-bfc50dd77594.js.download" defer="defer"></script>
<script crossorigin="anonymous" type="application/javascript" src="./Main-flow-task3_files/vendors-node_modules_tanstack_query-core_build_modern_queryObserver_js-node_modules_tanstack_-defd52-0024bc0658ed.js.download" defer="defer"></script>
<script crossorigin="anonymous" type="application/javascript" src="./Main-flow-task3_files/ui_packages_agent-sessions_utils_elapsed-time-util_ts-ui_packages_agent-sessions_hooks_useSes-bd1a31-873dacbf6d3b.js.download" defer="defer"></script>
<script crossorigin="anonymous" type="application/javascript" src="./Main-flow-task3_files/copilot-coding-agent-status-77b08765d435.js.download" defer="defer"></script>
<link crossorigin="anonymous" media="all" rel="stylesheet" href="./Main-flow-task3_files/primer-react.c212c596cc6bbefb1798.module.css">
<link crossorigin="anonymous" media="all" rel="stylesheet" href="./Main-flow-task3_files/copilot-coding-agent-status.32796c3e0ecdbdaa8ce6.module.css">
  
  <script crossorigin="anonymous" type="application/javascript" src="./Main-flow-task3_files/notifications-subscriptions-menu-6a6c51243b78.js.download" defer="defer"></script>
<link crossorigin="anonymous" media="all" rel="stylesheet" href="./Main-flow-task3_files/notifications-subscriptions-menu.e5e6e593370c808590a5.module.css">

  


  



  
  
  
  

    
  


  


    


  
  

  
  

    



  

  




    

  

    

    

      

      

    
    
    

      
  
  




      



        


  <meta http-equiv="x-pjax-version" content="6960099172efb206aa187226f1e284cb635ed5b2a934f7d2bc5e1d00d972f271" data-turbo-track="reload">
  <meta http-equiv="x-pjax-csp-version" content="352e51c42d5f5727a7c545752bf34d1f83f40219e7036c6959817149a51651bc" data-turbo-track="reload">
  <meta http-equiv="x-pjax-css-version" content="4e8d942c1e58aee61c7c4c8c9889c1c76351814c062c507d76d301fb8bcb7735" data-turbo-track="reload">
  <meta http-equiv="x-pjax-js-version" content="95781d94d3c22aaabf9c5e59c62f80001606d1f8bf59226d04d96f8214cfe5aa" data-turbo-track="reload">

  

      
  

  



      


    


  

  

  

  
  
  




  
  

  

  <style data-styled="active" data-styled-version="5.3.11"></style><link rel="stylesheet" type="text/css" href="./Main-flow-task3_files/ui_packages_code-view-shared_components_files-search_FileResultsList_tsx.b824b197dc91fa971d59.module.css" crossorigin="anonymous"><style id="ms-consent-banner-main-styles">.w8hcgFksdo30C8w-bygqu{color:#000}.ydkKdaztSS0AeHWIeIHsQ a{color:#0067B8}.erL690_8JwUW-R4bJRcfl{background-color:#EBEBEB;border:none;color:#000}.erL690_8JwUW-R4bJRcfl:enabled:hover{color:#000;background-color:#DBDBDB;box-shadow:0px 4px 10px rgba(0,0,0,0.25);border:none}.erL690_8JwUW-R4bJRcfl:enabled:focus{background-color:#DBDBDB;box-shadow:0px 4px 10px rgba(0,0,0,0.25);border:2px solid #000}.erL690_8JwUW-R4bJRcfl:disabled{opacity:1;color:rgba(0,0,0,0.2);background-color:rgba(0,0,0,0.2);border:none}._1zNQOqxpBFSokeCLGi_hGr{border:none;background-color:#0067B8;color:#fff}._1zNQOqxpBFSokeCLGi_hGr:enabled:hover{color:#fff;background-color:#0067B8;box-shadow:0px 4px 10px rgba(0,0,0,0.25);border:none}._1zNQOqxpBFSokeCLGi_hGr:enabled:focus{background-color:#0067B8;box-shadow:0px 4px 10px rgba(0,0,0,0.25);border:2px solid #000}._1zNQOqxpBFSokeCLGi_hGr:disabled{opacity:1;color:rgba(0,0,0,0.2);background-color:rgba(0,120,215,0.2);border:none}._23tra1HsiiP6cT-Cka-ycB{position:relative;display:flex;z-index:9999;width:100%;background-color:#F2F2F2;justify-content:space-between;text-align:left}div[dir="rtl"]._23tra1HsiiP6cT-Cka-ycB{text-align:right}._1Upc2NjY8AlDn177YoVj0y{margin:0;padding-left:5%;padding-top:8px;padding-bottom:8px}div[dir="rtl"] ._1Upc2NjY8AlDn177YoVj0y{margin:0;padding:8px 5% 8px 0;float:none}._23tra1HsiiP6cT-Cka-ycB svg{fill:none;max-width:none;max-height:none}._1V_hlU-7jdtPiooHMu89BB{display:table-cell;padding:12px;width:24px;height:24px;font-family:Segoe UI, SegoeUI, Arial, sans-serif;font-style:normal;font-weight:normal;font-size:24px;line-height:0}.f6QKJD7fhSbnJLarTL-W-{display:table-cell;vertical-align:middle;padding:0;font-family:Segoe UI, SegoeUI, Arial, sans-serif;font-style:normal;font-weight:normal;font-size:13px;line-height:16px}.f6QKJD7fhSbnJLarTL-W- a{text-decoration:underline}._2j0fmugLb1FgYz6KPuB91w{display:inline-block;margin-left:5%;margin-right:5%;min-width:40%;min-width:calc((150px + 3 * 4px) * 2 + 150px);min-width:-webkit-fit-content;min-width:-moz-fit-content;min-width:fit-content;align-self:center;position:relative}._1XuCi2WhiqeWRUVp3pnFG3{margin:4px;padding:5px;min-width:150px;min-height:36px;vertical-align:top;cursor:pointer;font-family:Segoe UI, SegoeUI, Arial, sans-serif;font-style:normal;font-weight:normal;font-size:15px;line-height:20px;text-align:center}._1XuCi2WhiqeWRUVp3pnFG3:focus{box-sizing:border-box}._1XuCi2WhiqeWRUVp3pnFG3:disabled{cursor:not-allowed}._2bvsb3ubApyZ0UGoQA9O9T{display:block;position:fixed;z-index:10000;top:0;left:0;width:100%;height:100%;background-color:rgba(255,255,255,0.6);overflow:auto;text-align:left}div[dir="rtl"]._2bvsb3ubApyZ0UGoQA9O9T{text-align:right}div[dir="rtl"] ._2bvsb3ubApyZ0UGoQA9O9T{left:auto;right:0}.AFsJE948muYyzCMktdzuk{position:relative;top:8%;margin-bottom:40px;margin-left:auto;margin-right:auto;box-sizing:border-box;width:640px;background-color:#fff;border:1px solid #0067B8}._3kWyBRbW_dgnMiEyx06Fu4{float:right;z-index:1;margin:2px;padding:12px;border:none;cursor:pointer;font-family:Segoe UI, SegoeUI, Arial, sans-serif;font-style:normal;font-weight:normal;font-size:13px;line-height:13px;display:flex;align-items:center;text-align:center;color:#666;background-color:#fff}div[dir="rtl"] ._3kWyBRbW_dgnMiEyx06Fu4{margin:2px;padding:12px;float:left}.uCYvKvHXrhjNgflv1VqdD{position:static;margin-top:36px;margin-left:36px;margin-right:36px}._17pX1m9O_W--iZbDt3Ta5r{margin-top:0;margin-bottom:12px;font-family:Segoe UI, SegoeUI, Arial, sans-serif;font-style:normal;font-weight:600;font-size:20px;line-height:24px;text-transform:none}._1kBkHQ1V1wu3kl-YcLgUr6{height:446px;overflow:auto}._20_nXDf6uFs9Q6wxRXG-I-{margin-top:0;font-family:Segoe UI, SegoeUI, Arial, sans-serif;font-style:normal;font-weight:normal;font-size:15px;line-height:20px}._20_nXDf6uFs9Q6wxRXG-I- a{text-decoration:underline}dl._2a0NH_GDQEQe5Ynfo7suVH{margin-top:36px;margin-bottom:0;padding:0;list-style:none;text-transform:none}dt._3j_LCPv7fyXv3A8FIXVwZ4{margin-top:20px;float:none;font-family:Segoe UI, SegoeUI, Arial, sans-serif;font-style:normal;font-weight:600;font-size:18px;line-height:24px;list-style:none}.k-vxTGFbdq1aOZB2HHpjh{margin:0;padding:0;border:none}._2Bucyy75c_ogoU1g-liB5R{margin:0;padding:0;border-bottom:none;font-family:Segoe UI, SegoeUI, Arial, sans-serif;font-style:normal;font-weight:600;font-size:18px;line-height:24px;text-transform:none}._63gwfzV8dclrsl2cfd90r{display:inline-block;margin-top:0;margin-bottom:13px;font-family:Segoe UI, SegoeUI, Arial, sans-serif;font-style:normal;font-weight:normal;font-size:15px;line-height:20px}._1l8wM_4mRYGz3Iu7l3BZR7{display:block}._2UE03QS02aZGkslegN_F-i{display:inline-block;position:relative;left:5px;margin-bottom:13px;margin-right:34px;padding:3px}div[dir="rtl"] ._2UE03QS02aZGkslegN_F-i{margin:0 0 13px 34px;padding:3px;float:none}div[dir="rtl"] ._2UE03QS02aZGkslegN_F-i{left:auto;right:5px}._23tra1HsiiP6cT-Cka-ycB *::before,._2bvsb3ubApyZ0UGoQA9O9T *::before,._23tra1HsiiP6cT-Cka-ycB *::after,._2bvsb3ubApyZ0UGoQA9O9T *::after{box-sizing:inherit}._1HSFn0HzGo6w4ADApV8-c4{outline:2px solid rgba(0,0,0,0.8)}input[type="radio"]._1dp8Vp5m3HwAqGx8qBmFV2{display:inline-block;position:relative;margin-top:0;margin-left:0;margin-right:0;height:0;width:0;border-radius:0;cursor:pointer;outline:none;box-sizing:border-box;-webkit-appearance:none;-moz-appearance:none;appearance:none}input[type="radio"]._1dp8Vp5m3HwAqGx8qBmFV2+label::before{display:block;position:absolute;top:5px;left:3px;height:19px;width:19px;content:"";border-radius:50%;border:1px solid #000;background-color:#fff}div[dir="rtl"] input[type="radio"]._1dp8Vp5m3HwAqGx8qBmFV2+label::before{left:auto;right:3px}input[type="radio"]._1dp8Vp5m3HwAqGx8qBmFV2:not(:disabled)+label:hover::before{border:1px solid #0067B8}input[type="radio"]._1dp8Vp5m3HwAqGx8qBmFV2:not(:disabled)+label:hover::after{display:block;position:absolute;top:10px;left:8px;height:9px;width:9px;content:"";border-radius:50%;background-color:rgba(0,0,0,0.8)}div[dir="rtl"] input[type="radio"]._1dp8Vp5m3HwAqGx8qBmFV2:not(:disabled)+label:hover::after{left:auto;right:8px}input[type="radio"]._1dp8Vp5m3HwAqGx8qBmFV2:not(:disabled)+label:focus::before{border:1px solid #0067B8}input[type="radio"]._1dp8Vp5m3HwAqGx8qBmFV2:not(:disabled)+label:focus::after{display:block;position:absolute;top:10px;left:8px;height:9px;width:9px;content:"";border-radius:50%;background-color:#000}div[dir="rtl"] input[type="radio"]._1dp8Vp5m3HwAqGx8qBmFV2:not(:disabled)+label:focus::after{left:auto;right:8px}input[type="radio"]._1dp8Vp5m3HwAqGx8qBmFV2:checked+label::after{display:block;position:absolute;top:10px;left:8px;height:9px;width:9px;content:"";border-radius:50%;background-color:#000}div[dir="rtl"] input[type="radio"]._1dp8Vp5m3HwAqGx8qBmFV2:checked+label::after{left:auto;right:8px}input[type="radio"]._1dp8Vp5m3HwAqGx8qBmFV2:disabled+label{cursor:not-allowed}input[type="radio"]._1dp8Vp5m3HwAqGx8qBmFV2:disabled+label::before{border:1px solid rgba(0,0,0,0.2);background-color:rgba(0,0,0,0.2)}._3RJzeL3l9Rl_lAQEm6VwdX{display:block;position:static;float:right;margin-top:0;margin-bottom:0;margin-left:19px;margin-right:0;padding-top:0;padding-bottom:0;padding-left:8px;padding-right:0;width:80%;width:calc(100% - 19px);font-family:Segoe UI, SegoeUI, Arial, sans-serif;font-style:normal;font-weight:normal;font-size:15px;line-height:20px;text-transform:none;cursor:pointer;box-sizing:border-box}div[dir="rtl"] ._3RJzeL3l9Rl_lAQEm6VwdX{margin:0 19px 0 0;padding:0 8px 0 0;float:left}.nohp3sIG12ZBhzcMnPala{margin-top:20px;margin-bottom:48px}._2uhaEsmeotZ3P-M0AXo2kF{padding:0;width:278px;height:36px;cursor:pointer;font-family:Segoe UI, SegoeUI, Arial, sans-serif;font-style:normal;font-weight:normal;font-size:15px;line-height:20px;text-align:center}._2uhaEsmeotZ3P-M0AXo2kF:focus{box-sizing:border-box}._2uhaEsmeotZ3P-M0AXo2kF:disabled{cursor:not-allowed}._3tOu1FJ59c_xz_PmI1lKV5{float:right;padding:0;width:278px;height:36px;cursor:pointer;font-family:Segoe UI, SegoeUI, Arial, sans-serif;font-style:normal;font-weight:normal;font-size:15px;line-height:20px;text-align:center}._3tOu1FJ59c_xz_PmI1lKV5:focus{box-sizing:border-box}._3tOu1FJ59c_xz_PmI1lKV5:disabled{cursor:not-allowed}div[dir="rtl"] ._3tOu1FJ59c_xz_PmI1lKV5{margin:0;padding:0;float:left}@media only screen and (max-width: 768px){._2j0fmugLb1FgYz6KPuB91w,._1Upc2NjY8AlDn177YoVj0y{padding-top:8px;padding-bottom:12px;padding-left:3.75%;padding-right:3.75%;margin:0;width:92.5%}._23tra1HsiiP6cT-Cka-ycB{display:block}._1XuCi2WhiqeWRUVp3pnFG3{margin-bottom:8px;margin-left:0;margin-right:0;width:100%}._2bvsb3ubApyZ0UGoQA9O9T{overflow:hidden}.AFsJE948muYyzCMktdzuk{top:1.8%;width:93.33%;height:96.4%;overflow:hidden}.uCYvKvHXrhjNgflv1VqdD{margin-top:24px;margin-left:24px;margin-right:24px;height:100%}._1kBkHQ1V1wu3kl-YcLgUr6{height:62%;height:calc(100% - 188px);min-height:50%}._2uhaEsmeotZ3P-M0AXo2kF{width:100%}._3tOu1FJ59c_xz_PmI1lKV5{margin-bottom:12px;margin-left:0;width:100%}div[dir="rtl"] ._3tOu1FJ59c_xz_PmI1lKV5{margin:0 0 12px 0;padding:0;float:none}}@media only screen and (max-width: 768px) and (orientation: landscape), only screen and (max-height: 260px), only screen and (max-width: 340px){.AFsJE948muYyzCMktdzuk{overflow:auto}}@media only screen and (max-height: 260px), only screen and (max-width: 340px){._1XuCi2WhiqeWRUVp3pnFG3{min-width:0}._3kWyBRbW_dgnMiEyx06Fu4{padding:3%}.uCYvKvHXrhjNgflv1VqdD{margin-top:3%;margin-left:3%;margin-right:3%}._17pX1m9O_W--iZbDt3Ta5r{margin-bottom:3%}._1kBkHQ1V1wu3kl-YcLgUr6{height:calc(79% - 64px)}.nohp3sIG12ZBhzcMnPala{margin-top:5%;margin-bottom:10%}._3tOu1FJ59c_xz_PmI1lKV5{margin-bottom:3%}div[dir="rtl"] ._3tOu1FJ59c_xz_PmI1lKV5{margin:0 0 3% 0;padding:0;float:none}}
</style><style type="text/css" id="ms-consent-banner-theme-styles">._23tra1HsiiP6cT-Cka-ycB {
            background-color: #24292f !important;
        }.w8hcgFksdo30C8w-bygqu {
            color: #ffffff !important;
        }.ydkKdaztSS0AeHWIeIHsQ a {
            color: #d8b9ff !important;
        }._2bvsb3ubApyZ0UGoQA9O9T {
            background-color: rgba(23, 23, 23, 0.8) !important;
        }.AFsJE948muYyzCMktdzuk {
            background-color: #24292f !important;
            border: 1px solid #d8b9ff !important;
        }._3kWyBRbW_dgnMiEyx06Fu4 {
            color: #d8b9ff !important;
            background-color: #24292f !important;
        }._1zNQOqxpBFSokeCLGi_hGr {
            border: 1px solid #ffffff !important;
            background-color: #ffffff !important;
            color: #1f2328 !important;
        }._1zNQOqxpBFSokeCLGi_hGr:enabled:hover {
            color: #1f2328 !important;
            background-color: #d8b9ff !important;
            box-shadow: none !important;
            border: 1px solid transparent !important;
        }._1zNQOqxpBFSokeCLGi_hGr:enabled:focus {
            background-color: #d8b9ff !important;
            box-shadow: none !important;
            border: 2px solid #ffffff !important;
        }._1zNQOqxpBFSokeCLGi_hGr:disabled {
            opacity: 0.5 !important;
            color: #1f2328 !important;
            background-color: #ffffff !important;
            border: 1px solid transparent !important;
        }.erL690_8JwUW-R4bJRcfl {
            border: 1px solid #eaeef2 !important;
            background-color: #32383f !important;
            color: #ffffff !important;
        }.erL690_8JwUW-R4bJRcfl:enabled:hover {
            color: #ffffff !important;
            background-color: #24292f !important;
            box-shadow: none !important;
            border: 1px solid #ffffff !important;
        }.erL690_8JwUW-R4bJRcfl:enabled:focus {
            background-color: #24292f !important;
            box-shadow: none !important;
            border: 2px solid #6e7781 !important;
        }.erL690_8JwUW-R4bJRcfl:disabled {
            opacity: 0.5 !important;
            color: #ffffff !important;
            background-color: #424a53 !important;
            border: 1px solid #6e7781 !important;
        }input[type="radio"]._1dp8Vp5m3HwAqGx8qBmFV2 + label::before {
            border: 1px solid #d8b9ff !important;
            background-color: #24292f !important;
        }._1HSFn0HzGo6w4ADApV8-c4 {
            outline: 2px solid #ffffff !important;
        }input[type="radio"]._1dp8Vp5m3HwAqGx8qBmFV2:checked + label::after {
            background-color: #d8b9ff !important;
        }input[type="radio"]._1dp8Vp5m3HwAqGx8qBmFV2 + label:hover::before {
            border: 1px solid #ffffff !important;
        }input[type="radio"]._1dp8Vp5m3HwAqGx8qBmFV2 + label:hover::after {
            background-color: #ffffff !important;
        }input[type="radio"]._1dp8Vp5m3HwAqGx8qBmFV2 + label:focus::before {
            border: 1px solid #ffffff !important;
        }input[type="radio"]._1dp8Vp5m3HwAqGx8qBmFV2 + label:focus::after {
            background-color: #d8b9ff !important;
        }input[type="radio"]._1dp8Vp5m3HwAqGx8qBmFV2:disabled + label::before {
            border: 1px solid rgba(227, 227, 227, 0.2) !important;
            background-color: rgba(227, 227, 227, 0.2) !important;
        }</style><link crossorigin="anonymous" media="all" rel="stylesheet" href="./Main-flow-task3_files/react-code-view.f828e7c17d2129f3c506.module.css"><script crossorigin="anonymous" type="application/javascript" src="./Main-flow-task3_files/vendors-node_modules_dompurify_dist_purify_es_mjs-7457ebdd1a1f.js.download" defer="defer"></script><script crossorigin="anonymous" type="application/javascript" src="./Main-flow-task3_files/vendors-node_modules_lodash-es__Stack_js-node_modules_lodash-es__Uint8Array_js-node_modules_l-4faaa6-16c4e2c524de.js.download" defer="defer"></script><script crossorigin="anonymous" type="application/javascript" src="./Main-flow-task3_files/vendors-node_modules_lodash-es_isEqual_js-a0841ced23fc.js.download" defer="defer"></script><script crossorigin="anonymous" type="application/javascript" src="./Main-flow-task3_files/vendors-node_modules_tanstack_react-virtual_dist_esm_index_js-807aab04afeb.js.download" defer="defer"></script><script crossorigin="anonymous" type="application/javascript" src="./Main-flow-task3_files/vendors-node_modules_focus-visible_dist_focus-visible_js-node_modules_github_hydro-analytics--e21ffd-0b758af67e69.js.download" defer="defer"></script><script crossorigin="anonymous" type="application/javascript" src="./Main-flow-task3_files/vendors-node_modules_fzy_js_index_js-node_modules_react-reverse-portal_dist_web_index_js-node-835def-721f0587143e.js.download" defer="defer"></script><script crossorigin="anonymous" type="application/javascript" src="./Main-flow-task3_files/ui_packages_document-metadata_document-metadata_ts-ui_packages_history_history_ts-ui_packages-417c81-00e1a3522739.js.download" defer="defer"></script><script crossorigin="anonymous" type="application/javascript" src="./Main-flow-task3_files/ui_packages_paths_index_ts-2b06ad269dc7.js.download" defer="defer"></script><script crossorigin="anonymous" type="application/javascript" src="./Main-flow-task3_files/ui_packages_ref-selector_RefSelector_tsx-2403bac2539f.js.download" defer="defer"></script><script crossorigin="anonymous" type="application/javascript" src="./Main-flow-task3_files/ui_packages_commit-attribution_index_ts-ui_packages_commit-checks-status_index_ts-ui_packages-762eaa-0e1369379126.js.download" defer="defer"></script><script crossorigin="anonymous" type="application/javascript" src="./Main-flow-task3_files/ui_packages_app-uuid_app-uuid_ts-ui_packages_repos-file-tree-view_repos-file-tree-view_ts-ui_-e7c631-d515915515f3.js.download" defer="defer"></script><script crossorigin="anonymous" type="application/javascript" src="./Main-flow-task3_files/ui_packages_hydro-analytics_hydro-analytics_ts-ui_packages_use-client-value_use-client-value_-6f712e-1a5c6e896470.js.download" defer="defer"></script><script crossorigin="anonymous" type="application/javascript" src="./Main-flow-task3_files/ui_packages_code-view-shared_hooks_use-canonical-object_ts-ui_packages_code-view-shared_hooks-7b64b1-2f677e5ac3a8.js.download" defer="defer"></script><script crossorigin="anonymous" type="application/javascript" src="./Main-flow-task3_files/app_assets_modules_github_blob-anchor_ts-ui_packages_code-nav_code-nav_ts-ui_packages_filter--8253c1-5fde020dbad1.js.download" defer="defer"></script><script crossorigin="anonymous" type="application/javascript" src="./Main-flow-task3_files/react-code-view-c40a581da207.js.download" defer="defer"></script><link rel="dns-prefetch" href="https://github.githubassets.com/"><link rel="dns-prefetch" href="https://avatars.githubusercontent.com/"><link rel="dns-prefetch" href="https://github-cloud.s3.amazonaws.com/"><link rel="dns-prefetch" href="https://user-images.githubusercontent.com/"><link rel="preconnect" href="https://github.githubassets.com/" crossorigin=""><link rel="preconnect" href="https://avatars.githubusercontent.com/"><link crossorigin="anonymous" media="all" rel="stylesheet" href="./Main-flow-task3_files/primer-react.c212c596cc6bbefb1798.module.css"><title>Main-flow-task3/tas3.ipynb at main · GedelaSruthipriya/Main-flow-task3 · GitHub</title><meta name="route-pattern" content="/:user_id/:repository/blob/*name(/*path)" data-turbo-transient=""><meta name="route-controller" content="blob" data-turbo-transient=""><meta name="route-action" content="show" data-turbo-transient=""><meta name="fetch-nonce" content="v2:bf1c3c6a-b153-bf1f-fac7-b55fb2fe89e2"><meta name="current-catalog-service-hash" content="f3abb0cc802f3d7b95fc8762b94bdcb13bf39634c40c357301c4aa1d67a256fb"><meta name="request-id" content="C0F6:33E5F8:8B34CB:AC0471:68511E04" data-pjax-transient="true"><meta name="html-safe-nonce" content="296e8733bf6cb8265b06d6e381588d86d1590d9868db731856058daaa88a887a" data-pjax-transient="true"><meta name="visitor-payload" content="eyJyZWZlcnJlciI6Imh0dHBzOi8vZ2l0aHViLmNvbS9HZWRlbGFTcnV0aGlwcml5YS9NYWluLWZsb3ctdGFzazMvYmxvYi9tYWluL3RhczMuaXB5bmIiLCJyZXF1ZXN0X2lkIjoiQzBGNjozM0U1Rjg6OEIzNENCOkFDMDQ3MTo2ODUxMUUwNCIsInZpc2l0b3JfaWQiOiI0MjIwNzIzNzU4NjI0MDQyNjY5IiwicmVnaW9uX2VkZ2UiOiJjZW50cmFsaW5kaWEiLCJyZWdpb25fcmVuZGVyIjoiY2VudHJhbGluZGlhIn0=" data-pjax-transient="true"><meta name="visitor-hmac" content="8db23620300ec89e480fdf0ee5df270ba84f46755c97b7219f2fda195431abd2" data-pjax-transient="true"><meta name="hovercard-subject-tag" content="repository:1002856541" data-turbo-transient=""><meta name="github-keyboard-shortcuts" content="repository,source-code,file-tree,copilot" data-turbo-transient="true"><meta name="selected-link" value="repo_source" data-turbo-transient=""><link rel="assets" href="https://github.githubassets.com/"><meta name="google-site-verification" content="Apib7-x98H0j5cPqHWwSMm6dNU4GmODRoqxLiDzdx9I"><meta name="octolytics-url" content="https://collector.github.com/github/collect"><meta name="analytics-location" content="/&lt;user-name&gt;/&lt;repo-name&gt;/blob/show" data-turbo-transient="true"><meta name="user-login" content=""><meta name="turbo-cache-control" content="no-preview" data-turbo-transient=""><meta name="turbo-cache-control" content="no-cache" data-turbo-transient=""><meta data-hydrostats="publish"><meta name="go-import" content="github.com/GedelaSruthipriya/Main-flow-task3 git https://github.com/GedelaSruthipriya/Main-flow-task3.git"><meta name="octolytics-dimension-user_id" content="210998044"><meta name="octolytics-dimension-user_login" content="GedelaSruthipriya"><meta name="octolytics-dimension-repository_id" content="1002856541"><meta name="octolytics-dimension-repository_nwo" content="GedelaSruthipriya/Main-flow-task3"><meta name="octolytics-dimension-repository_public" content="true"><meta name="octolytics-dimension-repository_is_fork" content="false"><meta name="octolytics-dimension-repository_network_root_id" content="1002856541"><meta name="octolytics-dimension-repository_network_root_nwo" content="GedelaSruthipriya/Main-flow-task3"><meta name="turbo-body-classes" content="logged-out env-production page-responsive"><meta name="browser-stats-url" content="https://api.github.com/_private/browser/stats"><meta name="browser-errors-url" content="https://api.github.com/_private/browser/errors"><meta name="release" content="78556de05a90bd13e138376758acb43aa9388597"><link rel="mask-icon" href="https://github.githubassets.com/assets/pinned-octocat-093da3e6fa40.svg" color="#000000"><link rel="alternate icon" class="js-site-favicon" type="image/png" href="https://github.githubassets.com/favicons/favicon-dark.png"><link rel="icon" class="js-site-favicon" type="image/svg+xml" href="https://github.githubassets.com/favicons/favicon-dark.svg" data-base-href="https://github.githubassets.com/favicons/favicon"><meta name="theme-color" content="#1e2327"><meta name="color-scheme" content="light dark"><meta name="msapplication-TileImage" content="/windows-tile.png"><meta name="msapplication-TileColor" content="#ffffff"><link rel="manifest" href="https://github.com/manifest.json" crossorigin="use-credentials"><style type="text/css" id="ms-consent-banner-theme-styles"></style><link rel="stylesheet" type="text/css" href="./Main-flow-task3_files/ui_packages_file-renderer-blob_FileRendererBlob_tsx.0e7f3b7b8366fa1f227d.module.css" crossorigin="anonymous"></head>

  <body class="logged-out env-production page-responsive" style="overflow-wrap: break-word; --dialog-scrollgutter: 15px;">
    <div data-turbo-body="" class="logged-out env-production page-responsive" style="word-wrap: break-word;">
      



    <div class="position-relative header-wrapper js-header-wrapper ">
      <a href="https://github.com/GedelaSruthipriya/Main-flow-task3/blob/main/tas3.ipynb#start-of-content" data-skip-target-assigned="false" class="px-2 py-4 color-bg-accent-emphasis color-fg-on-emphasis show-on-focus js-skip-to-content">Skip to content</a>

      <span data-view-component="true" class="progress-pjax-loader Progress position-fixed width-full">
    <span style="width: 0%;" data-view-component="true" class="Progress-item progress-pjax-loader-bar left-0 top-0 color-bg-accent-emphasis"></span>
</span>      
      
      <script crossorigin="anonymous" type="application/javascript" src="./Main-flow-task3_files/ui_packages_ui-commands_ui-commands_ts-eb77c4447210.js.download" defer="defer"></script>
<script crossorigin="anonymous" type="application/javascript" src="./Main-flow-task3_files/keyboard-shortcuts-dialog-6bb6aa2945d5.js.download" defer="defer"></script>
<link crossorigin="anonymous" media="all" rel="stylesheet" href="./Main-flow-task3_files/primer-react.c212c596cc6bbefb1798.module.css">
<link crossorigin="anonymous" media="all" rel="stylesheet" href="./Main-flow-task3_files/keyboard-shortcuts-dialog.47de85e2c17af43cefd5.module.css">

<react-partial partial-name="keyboard-shortcuts-dialog" data-ssr="false" data-attempted-ssr="false" data-react-profiling="false" data-catalyst="" class="loaded">
  
  <script type="application/json" data-target="react-partial.embeddedData">{"props":{"docsUrl":"https://docs.github.com/get-started/accessibility/keyboard-shortcuts"}}</script>
  <div data-target="react-partial.reactRoot"><div class="d-none"></div><script type="application/json" id="__PRIMER_DATA_:r9:__">{"resolvedServerColorMode":"night"}</script></div>
</react-partial>




      

          

              
<script crossorigin="anonymous" type="application/javascript" src="./Main-flow-task3_files/vendors-node_modules_github_remote-form_dist_index_js-node_modules_delegated-events_dist_inde-94fd67-99b04cc350b5.js.download" defer="defer"></script>
<script crossorigin="anonymous" type="application/javascript" src="./Main-flow-task3_files/sessions-eed3aa0554dd.js.download" defer="defer"></script>
<header class="HeaderMktg header-logged-out js-details-container js-header Details f4 py-3" role="banner" data-is-top="true" data-color-mode="light" data-light-theme="light" data-dark-theme="dark">
  <h2 class="sr-only">Navigation Menu</h2>

  <button type="button" class="HeaderMktg-backdrop d-lg-none border-0 position-fixed top-0 left-0 width-full height-full js-details-target" aria-label="Toggle navigation">
    <span class="d-none">Toggle navigation</span>
  </button>

  <div class="d-flex flex-column flex-lg-row flex-items-center px-3 px-md-4 px-lg-5 height-full position-relative z-1">
    <div class="d-flex flex-justify-between flex-items-center width-full width-lg-auto">
      <div class="flex-1">
        <button aria-label="Toggle navigation" aria-expanded="false" type="button" data-view-component="true" class="js-details-target js-nav-padding-recalculate js-header-menu-toggle Button--link Button--medium Button d-lg-none color-fg-inherit p-1">  <span class="Button-content">
    <span class="Button-label"><div class="HeaderMenu-toggle-bar rounded my-1"></div>
            <div class="HeaderMenu-toggle-bar rounded my-1"></div>
            <div class="HeaderMenu-toggle-bar rounded my-1"></div></span>
  </span>
</button>
      </div>

      <a class="mr-lg-3 color-fg-inherit flex-order-2 js-prevent-focus-on-mobile-nav" href="https://github.com/" aria-label="Homepage" data-analytics-event="{&quot;category&quot;:&quot;Marketing nav&quot;,&quot;action&quot;:&quot;click to go to homepage&quot;,&quot;label&quot;:&quot;ref_page:Marketing;ref_cta:Logomark;ref_loc:Header&quot;}">
        <svg height="32" aria-hidden="true" viewBox="0 0 24 24" version="1.1" width="32" data-view-component="true" class="octicon octicon-mark-github">
    <path d="M12 1C5.9225 1 1 5.9225 1 12C1 16.8675 4.14875 20.9787 8.52125 22.4362C9.07125 22.5325 9.2775 22.2025 9.2775 21.9137C9.2775 21.6525 9.26375 20.7862 9.26375 19.865C6.5 20.3737 5.785 19.1912 5.565 18.5725C5.44125 18.2562 4.905 17.28 4.4375 17.0187C4.0525 16.8125 3.5025 16.3037 4.42375 16.29C5.29 16.2762 5.90875 17.0875 6.115 17.4175C7.105 19.0812 8.68625 18.6137 9.31875 18.325C9.415 17.61 9.70375 17.1287 10.02 16.8537C7.5725 16.5787 5.015 15.63 5.015 11.4225C5.015 10.2262 5.44125 9.23625 6.1425 8.46625C6.0325 8.19125 5.6475 7.06375 6.2525 5.55125C6.2525 5.55125 7.17375 5.2625 9.2775 6.67875C10.1575 6.43125 11.0925 6.3075 12.0275 6.3075C12.9625 6.3075 13.8975 6.43125 14.7775 6.67875C16.8813 5.24875 17.8025 5.55125 17.8025 5.55125C18.4075 7.06375 18.0225 8.19125 17.9125 8.46625C18.6138 9.23625 19.04 10.2125 19.04 11.4225C19.04 15.6437 16.4688 16.5787 14.0213 16.8537C14.42 17.1975 14.7638 17.8575 14.7638 18.8887C14.7638 20.36 14.75 21.5425 14.75 21.9137C14.75 22.2025 14.9563 22.5462 15.5063 22.4362C19.8513 20.9787 23 16.8537 23 12C23 5.9225 18.0775 1 12 1Z"></path>
</svg>
      </a>

      <div class="d-flex flex-1 flex-order-2 text-right d-lg-none gap-2 flex-justify-end">
          <a href="https://github.com/login?return_to=https%3A%2F%2Fgithub.com%2FGedelaSruthipriya%2FMain-flow-task3%2Fblob%2Fmain%2Ftas3.ipynb" class="HeaderMenu-link HeaderMenu-button d-inline-flex f5 no-underline border color-border-default rounded-2 px-2 py-1 color-fg-inherit js-prevent-focus-on-mobile-nav" data-hydro-click="{&quot;event_type&quot;:&quot;authentication.click&quot;,&quot;payload&quot;:{&quot;location_in_page&quot;:&quot;site header menu&quot;,&quot;repository_id&quot;:null,&quot;auth_type&quot;:&quot;SIGN_UP&quot;,&quot;originating_url&quot;:&quot;https://github.com/GedelaSruthipriya/Main-flow-task3/blob/main/tas3.ipynb&quot;,&quot;user_id&quot;:null}}" data-hydro-click-hmac="6702763a55a568d5428181d2645798c877531b8f41791ac4a899747e9f250ac4" data-analytics-event="{&quot;category&quot;:&quot;Marketing nav&quot;,&quot;action&quot;:&quot;click to Sign in&quot;,&quot;label&quot;:&quot;ref_page:Marketing;ref_cta:Sign in;ref_loc:Header&quot;}">
            Sign in
          </a>
              <div class="AppHeader-appearanceSettings">
    <react-partial-anchor data-catalyst="">
      <button data-target="react-partial-anchor.anchor" id="icon-button-fcb4b8b2-9db3-47db-ae11-9eeeb2f03bc8" aria-labelledby="tooltip-40bc7bb1-edab-4109-b505-6f1e45c078c4" type="button" data-view-component="true" class="Button Button--iconOnly Button--invisible Button--medium AppHeader-button HeaderMenu-link border" aria-expanded="false" aria-haspopup="true">  <svg aria-hidden="true" height="16" viewBox="0 0 16 16" version="1.1" width="16" data-view-component="true" class="octicon octicon-sliders Button-visual">
    <path d="M15 2.75a.75.75 0 0 1-.75.75h-4a.75.75 0 0 1 0-1.5h4a.75.75 0 0 1 .75.75Zm-8.5.75v1.25a.75.75 0 0 0 1.5 0v-4a.75.75 0 0 0-1.5 0V2H1.75a.75.75 0 0 0 0 1.5H6.5Zm1.25 5.25a.75.75 0 0 0 0-1.5h-6a.75.75 0 0 0 0 1.5h6ZM15 8a.75.75 0 0 1-.75.75H11.5V10a.75.75 0 1 1-1.5 0V6a.75.75 0 0 1 1.5 0v1.25h2.75A.75.75 0 0 1 15 8Zm-9 5.25v-2a.75.75 0 0 0-1.5 0v1.25H1.75a.75.75 0 0 0 0 1.5H4.5v1.25a.75.75 0 0 0 1.5 0v-2Zm9 0a.75.75 0 0 1-.75.75h-6a.75.75 0 0 1 0-1.5h6a.75.75 0 0 1 .75.75Z"></path>
</svg>
</button><tool-tip id="tooltip-40bc7bb1-edab-4109-b505-6f1e45c078c4" for="icon-button-fcb4b8b2-9db3-47db-ae11-9eeeb2f03bc8" popover="manual" data-direction="s" data-type="label" data-view-component="true" class="sr-only position-absolute" aria-hidden="true" role="tooltip"><template shadowrootmode="open"><style>
      :host {
        --tooltip-top: var(--tool-tip-position-top, 0);
        --tooltip-left: var(--tool-tip-position-left, 0);
        padding: var(--overlay-paddingBlock-condensed) var(--overlay-padding-condensed) !important;
        font: var(--text-body-shorthand-small);
        color: var(--tooltip-fgColor, var(--fgColor-onEmphasis)) !important;
        text-align: center;
        text-decoration: none;
        text-shadow: none;
        text-transform: none;
        letter-spacing: normal;
        word-wrap: break-word;
        white-space: pre;
        background: var(--tooltip-bgColor, var(--bgColor-emphasis)) !important;
        border-radius: var(--borderRadius-medium);
        border: 0 !important;
        opacity: 0;
        max-width: var(--overlay-width-small);
        word-wrap: break-word;
        white-space: normal;
        width: max-content !important;
        inset: var(--tooltip-top) auto auto var(--tooltip-left) !important;
        overflow: visible !important;
        text-wrap: balance;
      }

      :host(:is(.tooltip-n, .tooltip-nw, .tooltip-ne)) {
        --tooltip-top: calc(var(--tool-tip-position-top, 0) - var(--overlay-offset, 0.25rem));
        --tooltip-left: var(--tool-tip-position-left);
      }

      :host(:is(.tooltip-s, .tooltip-sw, .tooltip-se)) {
        --tooltip-top: calc(var(--tool-tip-position-top, 0) + var(--overlay-offset, 0.25rem));
        --tooltip-left: var(--tool-tip-position-left);
      }

      :host(.tooltip-w) {
        --tooltip-top: var(--tool-tip-position-top);
        --tooltip-left: calc(var(--tool-tip-position-left, 0) - var(--overlay-offset, 0.25rem));
      }

      :host(.tooltip-e) {
        --tooltip-top: var(--tool-tip-position-top);
        --tooltip-left: calc(var(--tool-tip-position-left, 0) + var(--overlay-offset, 0.25rem));
      }

      :host:after{
        position: absolute;
        display: block;
        right: 0;
        left: 0;
        height: var(--overlay-offset, 0.25rem);
        content: "";
      }

      :host(.tooltip-s):after,
      :host(.tooltip-se):after,
      :host(.tooltip-sw):after {
        bottom: 100%
      }

      :host(.tooltip-n):after,
      :host(.tooltip-ne):after,
      :host(.tooltip-nw):after {
        top: 100%;
      }

      @keyframes tooltip-appear {
        from {
          opacity: 0;
        }
        to {
          opacity: 1;
        }
      }

      :host(:popover-open),
      :host(:popover-open):before {
        animation-name: tooltip-appear;
        animation-duration: .1s;
        animation-fill-mode: forwards;
        animation-timing-function: ease-in;
      }

      :host(.\:popover-open) {
        animation-name: tooltip-appear;
        animation-duration: .1s;
        animation-fill-mode: forwards;
        animation-timing-function: ease-in;
      }

      @media (forced-colors: active) {
        :host {
          outline: solid 1px transparent;
        }

        :host:before {
          display: none;
        }
      }
    </style><slot></slot></template>Appearance settings</tool-tip>

      
    
        <script crossorigin="anonymous" type="application/javascript" src="./Main-flow-task3_files/ui_packages_document-metadata_document-metadata_ts-ui_packages_promise-with-resolvers-polyfil-40d47c-d5b8454ad019.js.download" defer="defer"></script>
<script crossorigin="anonymous" type="application/javascript" src="./Main-flow-task3_files/appearance-settings-ca5eb47b4f39.js.download" defer="defer"></script>
<link crossorigin="anonymous" media="all" rel="stylesheet" href="./Main-flow-task3_files/primer-react.c212c596cc6bbefb1798.module.css">
<link crossorigin="anonymous" media="all" rel="stylesheet" href="./Main-flow-task3_files/appearance-settings.4e1ca273f504ba849f8c.module.css">

<react-partial partial-name="appearance-settings" data-ssr="false" data-attempted-ssr="false" data-react-profiling="false" data-catalyst="" class="loaded">
  
  <script type="application/json" data-target="react-partial.embeddedData">{"props":{}}</script>
  <div data-target="react-partial.reactRoot"><script type="application/json" id="__PRIMER_DATA_:rb:__">{"resolvedServerColorMode":"night"}</script></div>
</react-partial>

      </react-partial-anchor>
  </div>

      </div>
    </div>


    <div class="HeaderMenu js-header-menu height-fit position-lg-relative d-lg-flex flex-column flex-auto top-0">
      <div class="HeaderMenu-wrapper d-flex flex-column flex-self-start flex-lg-row flex-auto rounded rounded-lg-0">
          <nav class="HeaderMenu-nav" aria-label="Global">
            <ul class="d-lg-flex list-style-none">


                <li class="HeaderMenu-item position-relative flex-wrap flex-justify-between flex-items-center d-block d-lg-flex flex-lg-nowrap flex-lg-items-center js-details-container js-header-menu-item">
      <button type="button" class="HeaderMenu-link border-0 width-full width-lg-auto px-0 px-lg-2 py-lg-2 no-wrap d-flex flex-items-center flex-justify-between js-details-target" aria-expanded="false">
        Product
        <svg opacity="0.5" aria-hidden="true" height="16" viewBox="0 0 16 16" version="1.1" width="16" data-view-component="true" class="octicon octicon-chevron-down HeaderMenu-icon ml-1">
    <path d="M12.78 5.22a.749.749 0 0 1 0 1.06l-4.25 4.25a.749.749 0 0 1-1.06 0L3.22 6.28a.749.749 0 1 1 1.06-1.06L8 8.939l3.72-3.719a.749.749 0 0 1 1.06 0Z"></path>
</svg>
      </button>

      <div class="HeaderMenu-dropdown dropdown-menu rounded m-0 p-0 pt-2 pt-lg-4 position-relative position-lg-absolute left-0 left-lg-n3 pb-2 pb-lg-4 d-lg-flex flex-wrap dropdown-menu-wide">
          <div class="HeaderMenu-column px-lg-4 border-lg-right mb-4 mb-lg-0 pr-lg-7">
              <div class="border-bottom pb-3 pb-lg-0 border-lg-bottom-0">

                <ul class="list-style-none f5">
                    <li>
  <a class="HeaderMenu-dropdown-link d-block no-underline position-relative py-2 Link--secondary d-flex flex-items-center Link--has-description pb-lg-3" data-analytics-event="{&quot;location&quot;:&quot;navbar&quot;,&quot;action&quot;:&quot;github_copilot&quot;,&quot;context&quot;:&quot;product&quot;,&quot;tag&quot;:&quot;link&quot;,&quot;label&quot;:&quot;github_copilot_link_product_navbar&quot;}" href="https://github.com/features/copilot">
      <svg aria-hidden="true" height="24" viewBox="0 0 24 24" version="1.1" width="24" data-view-component="true" class="octicon octicon-copilot color-fg-subtle mr-3">
    <path d="M23.922 16.992c-.861 1.495-5.859 5.023-11.922 5.023-6.063 0-11.061-3.528-11.922-5.023A.641.641 0 0 1 0 16.736v-2.869a.841.841 0 0 1 .053-.22c.372-.935 1.347-2.292 2.605-2.656.167-.429.414-1.055.644-1.517a10.195 10.195 0 0 1-.052-1.086c0-1.331.282-2.499 1.132-3.368.397-.406.89-.717 1.474-.952 1.399-1.136 3.392-2.093 6.122-2.093 2.731 0 4.767.957 6.166 2.093.584.235 1.077.546 1.474.952.85.869 1.132 2.037 1.132 3.368 0 .368-.014.733-.052 1.086.23.462.477 1.088.644 1.517 1.258.364 2.233 1.721 2.605 2.656a.832.832 0 0 1 .053.22v2.869a.641.641 0 0 1-.078.256ZM12.172 11h-.344a4.323 4.323 0 0 1-.355.508C10.703 12.455 9.555 13 7.965 13c-1.725 0-2.989-.359-3.782-1.259a2.005 2.005 0 0 1-.085-.104L4 11.741v6.585c1.435.779 4.514 2.179 8 2.179 3.486 0 6.565-1.4 8-2.179v-6.585l-.098-.104s-.033.045-.085.104c-.793.9-2.057 1.259-3.782 1.259-1.59 0-2.738-.545-3.508-1.492a4.323 4.323 0 0 1-.355-.508h-.016.016Zm.641-2.935c.136 1.057.403 1.913.878 2.497.442.544 1.134.938 2.344.938 1.573 0 2.292-.337 2.657-.751.384-.435.558-1.15.558-2.361 0-1.14-.243-1.847-.705-2.319-.477-.488-1.319-.862-2.824-1.025-1.487-.161-2.192.138-2.533.529-.269.307-.437.808-.438 1.578v.021c0 .265.021.562.063.893Zm-1.626 0c.042-.331.063-.628.063-.894v-.02c-.001-.77-.169-1.271-.438-1.578-.341-.391-1.046-.69-2.533-.529-1.505.163-2.347.537-2.824 1.025-.462.472-.705 1.179-.705 2.319 0 1.211.175 1.926.558 2.361.365.414 1.084.751 2.657.751 1.21 0 1.902-.394 2.344-.938.475-.584.742-1.44.878-2.497Z"></path><path d="M14.5 14.25a1 1 0 0 1 1 1v2a1 1 0 0 1-2 0v-2a1 1 0 0 1 1-1Zm-5 0a1 1 0 0 1 1 1v2a1 1 0 0 1-2 0v-2a1 1 0 0 1 1-1Z"></path>
</svg>
      <div>
          <div class="color-fg-default h4">
            GitHub Copilot
          </div>
        Write better code with AI
      </div>

    
</a></li>

                    <li>
  <a class="HeaderMenu-dropdown-link d-block no-underline position-relative py-2 Link--secondary d-flex flex-items-center Link--has-description pb-lg-3" data-analytics-event="{&quot;location&quot;:&quot;navbar&quot;,&quot;action&quot;:&quot;github_models&quot;,&quot;context&quot;:&quot;product&quot;,&quot;tag&quot;:&quot;link&quot;,&quot;label&quot;:&quot;github_models_link_product_navbar&quot;}" href="https://github.com/features/models">
      <svg aria-hidden="true" height="24" viewBox="0 0 24 24" version="1.1" width="24" data-view-component="true" class="octicon octicon-ai-model color-fg-subtle mr-3">
    <path d="M19.375 8.5a3.25 3.25 0 1 1-3.163 4h-3a3.252 3.252 0 0 1-4.443 2.509L7.214 17.76a3.25 3.25 0 1 1-1.342-.674l1.672-2.957A3.238 3.238 0 0 1 6.75 12c0-.907.371-1.727.97-2.316L6.117 6.846A3.253 3.253 0 0 1 1.875 3.75a3.25 3.25 0 1 1 5.526 2.32l1.603 2.836A3.25 3.25 0 0 1 13.093 11h3.119a3.252 3.252 0 0 1 3.163-2.5ZM10 10.25a1.75 1.75 0 1 0-.001 3.499A1.75 1.75 0 0 0 10 10.25ZM5.125 2a1.75 1.75 0 1 0 0 3.5 1.75 1.75 0 0 0 0-3.5Zm12.5 9.75a1.75 1.75 0 1 0 3.5 0 1.75 1.75 0 0 0-3.5 0Zm-14.25 8.5a1.75 1.75 0 1 0 3.501-.001 1.75 1.75 0 0 0-3.501.001Z"></path>
</svg>
      <div>
          <div class="color-fg-default h4">
            GitHub Models
              <span class="HeaderMenu-label">
                New
              </span>
          </div>
        Manage and compare prompts
      </div>

    
</a></li>

                    <li>
  <a class="HeaderMenu-dropdown-link d-block no-underline position-relative py-2 Link--secondary d-flex flex-items-center Link--has-description pb-lg-3" data-analytics-event="{&quot;location&quot;:&quot;navbar&quot;,&quot;action&quot;:&quot;github_advanced_security&quot;,&quot;context&quot;:&quot;product&quot;,&quot;tag&quot;:&quot;link&quot;,&quot;label&quot;:&quot;github_advanced_security_link_product_navbar&quot;}" href="https://github.com/security/advanced-security">
      <svg aria-hidden="true" height="24" viewBox="0 0 24 24" version="1.1" width="24" data-view-component="true" class="octicon octicon-shield-check color-fg-subtle mr-3">
    <path d="M16.53 9.78a.75.75 0 0 0-1.06-1.06L11 13.19l-1.97-1.97a.75.75 0 0 0-1.06 1.06l2.5 2.5a.75.75 0 0 0 1.06 0l5-5Z"></path><path d="m12.54.637 8.25 2.675A1.75 1.75 0 0 1 22 4.976V10c0 6.19-3.771 10.704-9.401 12.83a1.704 1.704 0 0 1-1.198 0C5.77 20.705 2 16.19 2 10V4.976c0-.758.489-1.43 1.21-1.664L11.46.637a1.748 1.748 0 0 1 1.08 0Zm-.617 1.426-8.25 2.676a.249.249 0 0 0-.173.237V10c0 5.46 3.28 9.483 8.43 11.426a.199.199 0 0 0 .14 0C17.22 19.483 20.5 15.461 20.5 10V4.976a.25.25 0 0 0-.173-.237l-8.25-2.676a.253.253 0 0 0-.154 0Z"></path>
</svg>
      <div>
          <div class="color-fg-default h4">
            GitHub Advanced Security
          </div>
        Find and fix vulnerabilities
      </div>

    
</a></li>

                    <li>
  <a class="HeaderMenu-dropdown-link d-block no-underline position-relative py-2 Link--secondary d-flex flex-items-center Link--has-description pb-lg-3" data-analytics-event="{&quot;location&quot;:&quot;navbar&quot;,&quot;action&quot;:&quot;actions&quot;,&quot;context&quot;:&quot;product&quot;,&quot;tag&quot;:&quot;link&quot;,&quot;label&quot;:&quot;actions_link_product_navbar&quot;}" href="https://github.com/features/actions">
      <svg aria-hidden="true" height="24" viewBox="0 0 24 24" version="1.1" width="24" data-view-component="true" class="octicon octicon-workflow color-fg-subtle mr-3">
    <path d="M1 3a2 2 0 0 1 2-2h6.5a2 2 0 0 1 2 2v6.5a2 2 0 0 1-2 2H7v4.063C7 16.355 7.644 17 8.438 17H12.5v-2.5a2 2 0 0 1 2-2H21a2 2 0 0 1 2 2V21a2 2 0 0 1-2 2h-6.5a2 2 0 0 1-2-2v-2.5H8.437A2.939 2.939 0 0 1 5.5 15.562V11.5H3a2 2 0 0 1-2-2Zm2-.5a.5.5 0 0 0-.5.5v6.5a.5.5 0 0 0 .5.5h6.5a.5.5 0 0 0 .5-.5V3a.5.5 0 0 0-.5-.5ZM14.5 14a.5.5 0 0 0-.5.5V21a.5.5 0 0 0 .5.5H21a.5.5 0 0 0 .5-.5v-6.5a.5.5 0 0 0-.5-.5Z"></path>
</svg>
      <div>
          <div class="color-fg-default h4">
            Actions
          </div>
        Automate any workflow
      </div>

    
</a></li>

                    <li>
  <a class="HeaderMenu-dropdown-link d-block no-underline position-relative py-2 Link--secondary d-flex flex-items-center Link--has-description" data-analytics-event="{&quot;location&quot;:&quot;navbar&quot;,&quot;action&quot;:&quot;codespaces&quot;,&quot;context&quot;:&quot;product&quot;,&quot;tag&quot;:&quot;link&quot;,&quot;label&quot;:&quot;codespaces_link_product_navbar&quot;}" href="https://github.com/features/codespaces">
      <svg aria-hidden="true" height="24" viewBox="0 0 24 24" version="1.1" width="24" data-view-component="true" class="octicon octicon-codespaces color-fg-subtle mr-3">
    <path d="M3.5 3.75C3.5 2.784 4.284 2 5.25 2h13.5c.966 0 1.75.784 1.75 1.75v7.5A1.75 1.75 0 0 1 18.75 13H5.25a1.75 1.75 0 0 1-1.75-1.75Zm-2 12c0-.966.784-1.75 1.75-1.75h17.5c.966 0 1.75.784 1.75 1.75v4a1.75 1.75 0 0 1-1.75 1.75H3.25a1.75 1.75 0 0 1-1.75-1.75ZM5.25 3.5a.25.25 0 0 0-.25.25v7.5c0 .138.112.25.25.25h13.5a.25.25 0 0 0 .25-.25v-7.5a.25.25 0 0 0-.25-.25Zm-2 12a.25.25 0 0 0-.25.25v4c0 .138.112.25.25.25h17.5a.25.25 0 0 0 .25-.25v-4a.25.25 0 0 0-.25-.25Z"></path><path d="M10 17.75a.75.75 0 0 1 .75-.75h6.5a.75.75 0 0 1 0 1.5h-6.5a.75.75 0 0 1-.75-.75Zm-4 0a.75.75 0 0 1 .75-.75h.5a.75.75 0 0 1 0 1.5h-.5a.75.75 0 0 1-.75-.75Z"></path>
</svg>
      <div>
          <div class="color-fg-default h4">
            Codespaces
          </div>
        Instant dev environments
      </div>

    
</a></li>

                </ul>
              </div>
          </div>
          <div class="HeaderMenu-column px-lg-4 border-lg-right mb-4 mb-lg-0 pr-lg-7">
              <div class="border-bottom pb-3 pb-lg-0 border-lg-bottom-0">

                <ul class="list-style-none f5">
                    <li>
  <a class="HeaderMenu-dropdown-link d-block no-underline position-relative py-2 Link--secondary d-flex flex-items-center Link--has-description pb-lg-3" data-analytics-event="{&quot;location&quot;:&quot;navbar&quot;,&quot;action&quot;:&quot;issues&quot;,&quot;context&quot;:&quot;product&quot;,&quot;tag&quot;:&quot;link&quot;,&quot;label&quot;:&quot;issues_link_product_navbar&quot;}" href="https://github.com/features/issues">
      <svg aria-hidden="true" height="24" viewBox="0 0 24 24" version="1.1" width="24" data-view-component="true" class="octicon octicon-issue-opened color-fg-subtle mr-3">
    <path d="M12 1c6.075 0 11 4.925 11 11s-4.925 11-11 11S1 18.075 1 12 5.925 1 12 1ZM2.5 12a9.5 9.5 0 0 0 9.5 9.5 9.5 9.5 0 0 0 9.5-9.5A9.5 9.5 0 0 0 12 2.5 9.5 9.5 0 0 0 2.5 12Zm9.5 2a2 2 0 1 1-.001-3.999A2 2 0 0 1 12 14Z"></path>
</svg>
      <div>
          <div class="color-fg-default h4">
            Issues
          </div>
        Plan and track work
      </div>

    
</a></li>

                    <li>
  <a class="HeaderMenu-dropdown-link d-block no-underline position-relative py-2 Link--secondary d-flex flex-items-center Link--has-description pb-lg-3" data-analytics-event="{&quot;location&quot;:&quot;navbar&quot;,&quot;action&quot;:&quot;code_review&quot;,&quot;context&quot;:&quot;product&quot;,&quot;tag&quot;:&quot;link&quot;,&quot;label&quot;:&quot;code_review_link_product_navbar&quot;}" href="https://github.com/features/code-review">
      <svg aria-hidden="true" height="24" viewBox="0 0 24 24" version="1.1" width="24" data-view-component="true" class="octicon octicon-code-review color-fg-subtle mr-3">
    <path d="M10.3 6.74a.75.75 0 0 1-.04 1.06l-2.908 2.7 2.908 2.7a.75.75 0 1 1-1.02 1.1l-3.5-3.25a.75.75 0 0 1 0-1.1l3.5-3.25a.75.75 0 0 1 1.06.04Zm3.44 1.06a.75.75 0 1 1 1.02-1.1l3.5 3.25a.75.75 0 0 1 0 1.1l-3.5 3.25a.75.75 0 1 1-1.02-1.1l2.908-2.7-2.908-2.7Z"></path><path d="M1.5 4.25c0-.966.784-1.75 1.75-1.75h17.5c.966 0 1.75.784 1.75 1.75v12.5a1.75 1.75 0 0 1-1.75 1.75h-9.69l-3.573 3.573A1.458 1.458 0 0 1 5 21.043V18.5H3.25a1.75 1.75 0 0 1-1.75-1.75ZM3.25 4a.25.25 0 0 0-.25.25v12.5c0 .138.112.25.25.25h2.5a.75.75 0 0 1 .75.75v3.19l3.72-3.72a.749.749 0 0 1 .53-.22h10a.25.25 0 0 0 .25-.25V4.25a.25.25 0 0 0-.25-.25Z"></path>
</svg>
      <div>
          <div class="color-fg-default h4">
            Code Review
          </div>
        Manage code changes
      </div>

    
</a></li>

                    <li>
  <a class="HeaderMenu-dropdown-link d-block no-underline position-relative py-2 Link--secondary d-flex flex-items-center Link--has-description pb-lg-3" data-analytics-event="{&quot;location&quot;:&quot;navbar&quot;,&quot;action&quot;:&quot;discussions&quot;,&quot;context&quot;:&quot;product&quot;,&quot;tag&quot;:&quot;link&quot;,&quot;label&quot;:&quot;discussions_link_product_navbar&quot;}" href="https://github.com/features/discussions">
      <svg aria-hidden="true" height="24" viewBox="0 0 24 24" version="1.1" width="24" data-view-component="true" class="octicon octicon-comment-discussion color-fg-subtle mr-3">
    <path d="M1.75 1h12.5c.966 0 1.75.784 1.75 1.75v9.5A1.75 1.75 0 0 1 14.25 14H8.061l-2.574 2.573A1.458 1.458 0 0 1 3 15.543V14H1.75A1.75 1.75 0 0 1 0 12.25v-9.5C0 1.784.784 1 1.75 1ZM1.5 2.75v9.5c0 .138.112.25.25.25h2a.75.75 0 0 1 .75.75v2.19l2.72-2.72a.749.749 0 0 1 .53-.22h6.5a.25.25 0 0 0 .25-.25v-9.5a.25.25 0 0 0-.25-.25H1.75a.25.25 0 0 0-.25.25Z"></path><path d="M22.5 8.75a.25.25 0 0 0-.25-.25h-3.5a.75.75 0 0 1 0-1.5h3.5c.966 0 1.75.784 1.75 1.75v9.5A1.75 1.75 0 0 1 22.25 20H21v1.543a1.457 1.457 0 0 1-2.487 1.03L15.939 20H10.75A1.75 1.75 0 0 1 9 18.25v-1.465a.75.75 0 0 1 1.5 0v1.465c0 .138.112.25.25.25h5.5a.75.75 0 0 1 .53.22l2.72 2.72v-2.19a.75.75 0 0 1 .75-.75h2a.25.25 0 0 0 .25-.25v-9.5Z"></path>
</svg>
      <div>
          <div class="color-fg-default h4">
            Discussions
          </div>
        Collaborate outside of code
      </div>

    
</a></li>

                    <li>
  <a class="HeaderMenu-dropdown-link d-block no-underline position-relative py-2 Link--secondary d-flex flex-items-center Link--has-description" data-analytics-event="{&quot;location&quot;:&quot;navbar&quot;,&quot;action&quot;:&quot;code_search&quot;,&quot;context&quot;:&quot;product&quot;,&quot;tag&quot;:&quot;link&quot;,&quot;label&quot;:&quot;code_search_link_product_navbar&quot;}" href="https://github.com/features/code-search">
      <svg aria-hidden="true" height="24" viewBox="0 0 24 24" version="1.1" width="24" data-view-component="true" class="octicon octicon-code-square color-fg-subtle mr-3">
    <path d="M10.3 8.24a.75.75 0 0 1-.04 1.06L7.352 12l2.908 2.7a.75.75 0 1 1-1.02 1.1l-3.5-3.25a.75.75 0 0 1 0-1.1l3.5-3.25a.75.75 0 0 1 1.06.04Zm3.44 1.06a.75.75 0 1 1 1.02-1.1l3.5 3.25a.75.75 0 0 1 0 1.1l-3.5 3.25a.75.75 0 1 1-1.02-1.1l2.908-2.7-2.908-2.7Z"></path><path d="M2 3.75C2 2.784 2.784 2 3.75 2h16.5c.966 0 1.75.784 1.75 1.75v16.5A1.75 1.75 0 0 1 20.25 22H3.75A1.75 1.75 0 0 1 2 20.25Zm1.75-.25a.25.25 0 0 0-.25.25v16.5c0 .138.112.25.25.25h16.5a.25.25 0 0 0 .25-.25V3.75a.25.25 0 0 0-.25-.25Z"></path>
</svg>
      <div>
          <div class="color-fg-default h4">
            Code Search
          </div>
        Find more, search less
      </div>

    
</a></li>

                </ul>
              </div>
          </div>
          <div class="HeaderMenu-column px-lg-4">
              <div class="border-bottom pb-3 pb-lg-0 border-lg-bottom-0 border-bottom-0">
                    <span class="d-block h4 color-fg-default my-1" id="product-explore-heading">Explore</span>

                <ul class="list-style-none f5" aria-labelledby="product-explore-heading">
                    <li>
  <a class="HeaderMenu-dropdown-link d-block no-underline position-relative py-2 Link--secondary" data-analytics-event="{&quot;location&quot;:&quot;navbar&quot;,&quot;action&quot;:&quot;why_github&quot;,&quot;context&quot;:&quot;product&quot;,&quot;tag&quot;:&quot;link&quot;,&quot;label&quot;:&quot;why_github_link_product_navbar&quot;}" href="https://github.com/why-github">
      Why GitHub

    
</a></li>

                    <li>
  <a class="HeaderMenu-dropdown-link d-block no-underline position-relative py-2 Link--secondary" data-analytics-event="{&quot;location&quot;:&quot;navbar&quot;,&quot;action&quot;:&quot;all_features&quot;,&quot;context&quot;:&quot;product&quot;,&quot;tag&quot;:&quot;link&quot;,&quot;label&quot;:&quot;all_features_link_product_navbar&quot;}" href="https://github.com/features">
      All features

    
</a></li>

                    <li>
  <a class="HeaderMenu-dropdown-link d-block no-underline position-relative py-2 Link--secondary Link--external" target="_blank" data-analytics-event="{&quot;location&quot;:&quot;navbar&quot;,&quot;action&quot;:&quot;documentation&quot;,&quot;context&quot;:&quot;product&quot;,&quot;tag&quot;:&quot;link&quot;,&quot;label&quot;:&quot;documentation_link_product_navbar&quot;}" href="https://docs.github.com/">
      Documentation

    <svg aria-hidden="true" height="16" viewBox="0 0 16 16" version="1.1" width="16" data-view-component="true" class="octicon octicon-link-external HeaderMenu-external-icon color-fg-subtle">
    <path d="M3.75 2h3.5a.75.75 0 0 1 0 1.5h-3.5a.25.25 0 0 0-.25.25v8.5c0 .138.112.25.25.25h8.5a.25.25 0 0 0 .25-.25v-3.5a.75.75 0 0 1 1.5 0v3.5A1.75 1.75 0 0 1 12.25 14h-8.5A1.75 1.75 0 0 1 2 12.25v-8.5C2 2.784 2.784 2 3.75 2Zm6.854-1h4.146a.25.25 0 0 1 .25.25v4.146a.25.25 0 0 1-.427.177L13.03 4.03 9.28 7.78a.751.751 0 0 1-1.042-.018.751.751 0 0 1-.018-1.042l3.75-3.75-1.543-1.543A.25.25 0 0 1 10.604 1Z"></path>
</svg>
</a></li>

                    <li>
  <a class="HeaderMenu-dropdown-link d-block no-underline position-relative py-2 Link--secondary Link--external" target="_blank" data-analytics-event="{&quot;location&quot;:&quot;navbar&quot;,&quot;action&quot;:&quot;github_skills&quot;,&quot;context&quot;:&quot;product&quot;,&quot;tag&quot;:&quot;link&quot;,&quot;label&quot;:&quot;github_skills_link_product_navbar&quot;}" href="https://skills.github.com/">
      GitHub Skills

    <svg aria-hidden="true" height="16" viewBox="0 0 16 16" version="1.1" width="16" data-view-component="true" class="octicon octicon-link-external HeaderMenu-external-icon color-fg-subtle">
    <path d="M3.75 2h3.5a.75.75 0 0 1 0 1.5h-3.5a.25.25 0 0 0-.25.25v8.5c0 .138.112.25.25.25h8.5a.25.25 0 0 0 .25-.25v-3.5a.75.75 0 0 1 1.5 0v3.5A1.75 1.75 0 0 1 12.25 14h-8.5A1.75 1.75 0 0 1 2 12.25v-8.5C2 2.784 2.784 2 3.75 2Zm6.854-1h4.146a.25.25 0 0 1 .25.25v4.146a.25.25 0 0 1-.427.177L13.03 4.03 9.28 7.78a.751.751 0 0 1-1.042-.018.751.751 0 0 1-.018-1.042l3.75-3.75-1.543-1.543A.25.25 0 0 1 10.604 1Z"></path>
</svg>
</a></li>

                    <li>
  <a class="HeaderMenu-dropdown-link d-block no-underline position-relative py-2 Link--secondary Link--external" target="_blank" data-analytics-event="{&quot;location&quot;:&quot;navbar&quot;,&quot;action&quot;:&quot;blog&quot;,&quot;context&quot;:&quot;product&quot;,&quot;tag&quot;:&quot;link&quot;,&quot;label&quot;:&quot;blog_link_product_navbar&quot;}" href="https://github.blog/">
      Blog

    <svg aria-hidden="true" height="16" viewBox="0 0 16 16" version="1.1" width="16" data-view-component="true" class="octicon octicon-link-external HeaderMenu-external-icon color-fg-subtle">
    <path d="M3.75 2h3.5a.75.75 0 0 1 0 1.5h-3.5a.25.25 0 0 0-.25.25v8.5c0 .138.112.25.25.25h8.5a.25.25 0 0 0 .25-.25v-3.5a.75.75 0 0 1 1.5 0v3.5A1.75 1.75 0 0 1 12.25 14h-8.5A1.75 1.75 0 0 1 2 12.25v-8.5C2 2.784 2.784 2 3.75 2Zm6.854-1h4.146a.25.25 0 0 1 .25.25v4.146a.25.25 0 0 1-.427.177L13.03 4.03 9.28 7.78a.751.751 0 0 1-1.042-.018.751.751 0 0 1-.018-1.042l3.75-3.75-1.543-1.543A.25.25 0 0 1 10.604 1Z"></path>
</svg>
</a></li>

                </ul>
              </div>
          </div>

      </div>
</li>


                <li class="HeaderMenu-item position-relative flex-wrap flex-justify-between flex-items-center d-block d-lg-flex flex-lg-nowrap flex-lg-items-center js-details-container js-header-menu-item">
      <button type="button" class="HeaderMenu-link border-0 width-full width-lg-auto px-0 px-lg-2 py-lg-2 no-wrap d-flex flex-items-center flex-justify-between js-details-target" aria-expanded="false">
        Solutions
        <svg opacity="0.5" aria-hidden="true" height="16" viewBox="0 0 16 16" version="1.1" width="16" data-view-component="true" class="octicon octicon-chevron-down HeaderMenu-icon ml-1">
    <path d="M12.78 5.22a.749.749 0 0 1 0 1.06l-4.25 4.25a.749.749 0 0 1-1.06 0L3.22 6.28a.749.749 0 1 1 1.06-1.06L8 8.939l3.72-3.719a.749.749 0 0 1 1.06 0Z"></path>
</svg>
      </button>

      <div class="HeaderMenu-dropdown dropdown-menu rounded m-0 p-0 pt-2 pt-lg-4 position-relative position-lg-absolute left-0 left-lg-n3 d-lg-flex flex-wrap dropdown-menu-wide">
          <div class="HeaderMenu-column px-lg-4 border-lg-right mb-4 mb-lg-0 pr-lg-7">
              <div class="border-bottom pb-3 pb-lg-0 border-lg-bottom-0 pb-lg-3 mb-3 mb-lg-0">
                    <span class="d-block h4 color-fg-default my-1" id="solutions-by-company-size-heading">By company size</span>

                <ul class="list-style-none f5" aria-labelledby="solutions-by-company-size-heading">
                    <li>
  <a class="HeaderMenu-dropdown-link d-block no-underline position-relative py-2 Link--secondary" data-analytics-event="{&quot;location&quot;:&quot;navbar&quot;,&quot;action&quot;:&quot;enterprises&quot;,&quot;context&quot;:&quot;solutions&quot;,&quot;tag&quot;:&quot;link&quot;,&quot;label&quot;:&quot;enterprises_link_solutions_navbar&quot;}" href="https://github.com/enterprise">
      Enterprises

    
</a></li>

                    <li>
  <a class="HeaderMenu-dropdown-link d-block no-underline position-relative py-2 Link--secondary" data-analytics-event="{&quot;location&quot;:&quot;navbar&quot;,&quot;action&quot;:&quot;small_and_medium_teams&quot;,&quot;context&quot;:&quot;solutions&quot;,&quot;tag&quot;:&quot;link&quot;,&quot;label&quot;:&quot;small_and_medium_teams_link_solutions_navbar&quot;}" href="https://github.com/team">
      Small and medium teams

    
</a></li>

                    <li>
  <a class="HeaderMenu-dropdown-link d-block no-underline position-relative py-2 Link--secondary" data-analytics-event="{&quot;location&quot;:&quot;navbar&quot;,&quot;action&quot;:&quot;startups&quot;,&quot;context&quot;:&quot;solutions&quot;,&quot;tag&quot;:&quot;link&quot;,&quot;label&quot;:&quot;startups_link_solutions_navbar&quot;}" href="https://github.com/enterprise/startups">
      Startups

    
</a></li>

                    <li>
  <a class="HeaderMenu-dropdown-link d-block no-underline position-relative py-2 Link--secondary" data-analytics-event="{&quot;location&quot;:&quot;navbar&quot;,&quot;action&quot;:&quot;nonprofits&quot;,&quot;context&quot;:&quot;solutions&quot;,&quot;tag&quot;:&quot;link&quot;,&quot;label&quot;:&quot;nonprofits_link_solutions_navbar&quot;}" href="https://github.com/solutions/industry/nonprofits">
      Nonprofits

    
</a></li>

                </ul>
              </div>
              <div class="border-bottom pb-3 pb-lg-0 border-lg-bottom-0">
                    <span class="d-block h4 color-fg-default my-1" id="solutions-by-use-case-heading">By use case</span>

                <ul class="list-style-none f5" aria-labelledby="solutions-by-use-case-heading">
                    <li>
  <a class="HeaderMenu-dropdown-link d-block no-underline position-relative py-2 Link--secondary" data-analytics-event="{&quot;location&quot;:&quot;navbar&quot;,&quot;action&quot;:&quot;devsecops&quot;,&quot;context&quot;:&quot;solutions&quot;,&quot;tag&quot;:&quot;link&quot;,&quot;label&quot;:&quot;devsecops_link_solutions_navbar&quot;}" href="https://github.com/solutions/use-case/devsecops">
      DevSecOps

    
</a></li>

                    <li>
  <a class="HeaderMenu-dropdown-link d-block no-underline position-relative py-2 Link--secondary" data-analytics-event="{&quot;location&quot;:&quot;navbar&quot;,&quot;action&quot;:&quot;devops&quot;,&quot;context&quot;:&quot;solutions&quot;,&quot;tag&quot;:&quot;link&quot;,&quot;label&quot;:&quot;devops_link_solutions_navbar&quot;}" href="https://github.com/solutions/use-case/devops">
      DevOps

    
</a></li>

                    <li>
  <a class="HeaderMenu-dropdown-link d-block no-underline position-relative py-2 Link--secondary" data-analytics-event="{&quot;location&quot;:&quot;navbar&quot;,&quot;action&quot;:&quot;ci_cd&quot;,&quot;context&quot;:&quot;solutions&quot;,&quot;tag&quot;:&quot;link&quot;,&quot;label&quot;:&quot;ci_cd_link_solutions_navbar&quot;}" href="https://github.com/solutions/use-case/ci-cd">
      CI/CD

    
</a></li>

                    <li>
  <a class="HeaderMenu-dropdown-link d-block no-underline position-relative py-2 Link--secondary" data-analytics-event="{&quot;location&quot;:&quot;navbar&quot;,&quot;action&quot;:&quot;view_all_use_cases&quot;,&quot;context&quot;:&quot;solutions&quot;,&quot;tag&quot;:&quot;link&quot;,&quot;label&quot;:&quot;view_all_use_cases_link_solutions_navbar&quot;}" href="https://github.com/solutions/use-case">
      View all use cases

    
</a></li>

                </ul>
              </div>
          </div>
          <div class="HeaderMenu-column px-lg-4">
              <div class="border-bottom pb-3 pb-lg-0 border-lg-bottom-0">
                    <span class="d-block h4 color-fg-default my-1" id="solutions-by-industry-heading">By industry</span>

                <ul class="list-style-none f5" aria-labelledby="solutions-by-industry-heading">
                    <li>
  <a class="HeaderMenu-dropdown-link d-block no-underline position-relative py-2 Link--secondary" data-analytics-event="{&quot;location&quot;:&quot;navbar&quot;,&quot;action&quot;:&quot;healthcare&quot;,&quot;context&quot;:&quot;solutions&quot;,&quot;tag&quot;:&quot;link&quot;,&quot;label&quot;:&quot;healthcare_link_solutions_navbar&quot;}" href="https://github.com/solutions/industry/healthcare">
      Healthcare

    
</a></li>

                    <li>
  <a class="HeaderMenu-dropdown-link d-block no-underline position-relative py-2 Link--secondary" data-analytics-event="{&quot;location&quot;:&quot;navbar&quot;,&quot;action&quot;:&quot;financial_services&quot;,&quot;context&quot;:&quot;solutions&quot;,&quot;tag&quot;:&quot;link&quot;,&quot;label&quot;:&quot;financial_services_link_solutions_navbar&quot;}" href="https://github.com/solutions/industry/financial-services">
      Financial services

    
</a></li>

                    <li>
  <a class="HeaderMenu-dropdown-link d-block no-underline position-relative py-2 Link--secondary" data-analytics-event="{&quot;location&quot;:&quot;navbar&quot;,&quot;action&quot;:&quot;manufacturing&quot;,&quot;context&quot;:&quot;solutions&quot;,&quot;tag&quot;:&quot;link&quot;,&quot;label&quot;:&quot;manufacturing_link_solutions_navbar&quot;}" href="https://github.com/solutions/industry/manufacturing">
      Manufacturing

    
</a></li>

                    <li>
  <a class="HeaderMenu-dropdown-link d-block no-underline position-relative py-2 Link--secondary" data-analytics-event="{&quot;location&quot;:&quot;navbar&quot;,&quot;action&quot;:&quot;government&quot;,&quot;context&quot;:&quot;solutions&quot;,&quot;tag&quot;:&quot;link&quot;,&quot;label&quot;:&quot;government_link_solutions_navbar&quot;}" href="https://github.com/solutions/industry/government">
      Government

    
</a></li>

                    <li>
  <a class="HeaderMenu-dropdown-link d-block no-underline position-relative py-2 Link--secondary" data-analytics-event="{&quot;location&quot;:&quot;navbar&quot;,&quot;action&quot;:&quot;view_all_industries&quot;,&quot;context&quot;:&quot;solutions&quot;,&quot;tag&quot;:&quot;link&quot;,&quot;label&quot;:&quot;view_all_industries_link_solutions_navbar&quot;}" href="https://github.com/solutions/industry">
      View all industries

    
</a></li>

                </ul>
              </div>
          </div>

         <div class="HeaderMenu-trailing-link rounded-bottom-2 flex-shrink-0 mt-lg-4 px-lg-4 py-4 py-lg-3 f5 text-semibold">
            <a href="https://github.com/solutions">
              View all solutions
              <svg aria-hidden="true" height="16" viewBox="0 0 16 16" version="1.1" width="16" data-view-component="true" class="octicon octicon-chevron-right HeaderMenu-trailing-link-icon">
    <path d="M6.22 3.22a.75.75 0 0 1 1.06 0l4.25 4.25a.75.75 0 0 1 0 1.06l-4.25 4.25a.751.751 0 0 1-1.042-.018.751.751 0 0 1-.018-1.042L9.94 8 6.22 4.28a.75.75 0 0 1 0-1.06Z"></path>
</svg>
</a>         </div>
      </div>
</li>


                <li class="HeaderMenu-item position-relative flex-wrap flex-justify-between flex-items-center d-block d-lg-flex flex-lg-nowrap flex-lg-items-center js-details-container js-header-menu-item">
      <button type="button" class="HeaderMenu-link border-0 width-full width-lg-auto px-0 px-lg-2 py-lg-2 no-wrap d-flex flex-items-center flex-justify-between js-details-target" aria-expanded="false">
        Resources
        <svg opacity="0.5" aria-hidden="true" height="16" viewBox="0 0 16 16" version="1.1" width="16" data-view-component="true" class="octicon octicon-chevron-down HeaderMenu-icon ml-1">
    <path d="M12.78 5.22a.749.749 0 0 1 0 1.06l-4.25 4.25a.749.749 0 0 1-1.06 0L3.22 6.28a.749.749 0 1 1 1.06-1.06L8 8.939l3.72-3.719a.749.749 0 0 1 1.06 0Z"></path>
</svg>
      </button>

      <div class="HeaderMenu-dropdown dropdown-menu rounded m-0 p-0 pt-2 pt-lg-4 position-relative position-lg-absolute left-0 left-lg-n3 pb-2 pb-lg-4 d-lg-flex flex-wrap dropdown-menu-wide">
          <div class="HeaderMenu-column px-lg-4 border-lg-right mb-4 mb-lg-0 pr-lg-7">
              <div class="border-bottom pb-3 pb-lg-0 border-lg-bottom-0">
                    <span class="d-block h4 color-fg-default my-1" id="resources-topics-heading">Topics</span>

                <ul class="list-style-none f5" aria-labelledby="resources-topics-heading">
                    <li>
  <a class="HeaderMenu-dropdown-link d-block no-underline position-relative py-2 Link--secondary" data-analytics-event="{&quot;location&quot;:&quot;navbar&quot;,&quot;action&quot;:&quot;ai&quot;,&quot;context&quot;:&quot;resources&quot;,&quot;tag&quot;:&quot;link&quot;,&quot;label&quot;:&quot;ai_link_resources_navbar&quot;}" href="https://github.com/resources/articles/ai">
      AI

    
</a></li>

                    <li>
  <a class="HeaderMenu-dropdown-link d-block no-underline position-relative py-2 Link--secondary" data-analytics-event="{&quot;location&quot;:&quot;navbar&quot;,&quot;action&quot;:&quot;devops&quot;,&quot;context&quot;:&quot;resources&quot;,&quot;tag&quot;:&quot;link&quot;,&quot;label&quot;:&quot;devops_link_resources_navbar&quot;}" href="https://github.com/resources/articles/devops">
      DevOps

    
</a></li>

                    <li>
  <a class="HeaderMenu-dropdown-link d-block no-underline position-relative py-2 Link--secondary" data-analytics-event="{&quot;location&quot;:&quot;navbar&quot;,&quot;action&quot;:&quot;security&quot;,&quot;context&quot;:&quot;resources&quot;,&quot;tag&quot;:&quot;link&quot;,&quot;label&quot;:&quot;security_link_resources_navbar&quot;}" href="https://github.com/resources/articles/security">
      Security

    
</a></li>

                    <li>
  <a class="HeaderMenu-dropdown-link d-block no-underline position-relative py-2 Link--secondary" data-analytics-event="{&quot;location&quot;:&quot;navbar&quot;,&quot;action&quot;:&quot;software_development&quot;,&quot;context&quot;:&quot;resources&quot;,&quot;tag&quot;:&quot;link&quot;,&quot;label&quot;:&quot;software_development_link_resources_navbar&quot;}" href="https://github.com/resources/articles/software-development">
      Software Development

    
</a></li>

                    <li>
  <a class="HeaderMenu-dropdown-link d-block no-underline position-relative py-2 Link--secondary" data-analytics-event="{&quot;location&quot;:&quot;navbar&quot;,&quot;action&quot;:&quot;view_all&quot;,&quot;context&quot;:&quot;resources&quot;,&quot;tag&quot;:&quot;link&quot;,&quot;label&quot;:&quot;view_all_link_resources_navbar&quot;}" href="https://github.com/resources/articles">
      View all

    
</a></li>

                </ul>
              </div>
          </div>
          <div class="HeaderMenu-column px-lg-4">
              <div class="border-bottom pb-3 pb-lg-0 border-lg-bottom-0 border-bottom-0">
                    <span class="d-block h4 color-fg-default my-1" id="resources-explore-heading">Explore</span>

                <ul class="list-style-none f5" aria-labelledby="resources-explore-heading">
                    <li>
  <a class="HeaderMenu-dropdown-link d-block no-underline position-relative py-2 Link--secondary Link--external" target="_blank" data-analytics-event="{&quot;location&quot;:&quot;navbar&quot;,&quot;action&quot;:&quot;learning_pathways&quot;,&quot;context&quot;:&quot;resources&quot;,&quot;tag&quot;:&quot;link&quot;,&quot;label&quot;:&quot;learning_pathways_link_resources_navbar&quot;}" href="https://resources.github.com/learn/pathways">
      Learning Pathways

    <svg aria-hidden="true" height="16" viewBox="0 0 16 16" version="1.1" width="16" data-view-component="true" class="octicon octicon-link-external HeaderMenu-external-icon color-fg-subtle">
    <path d="M3.75 2h3.5a.75.75 0 0 1 0 1.5h-3.5a.25.25 0 0 0-.25.25v8.5c0 .138.112.25.25.25h8.5a.25.25 0 0 0 .25-.25v-3.5a.75.75 0 0 1 1.5 0v3.5A1.75 1.75 0 0 1 12.25 14h-8.5A1.75 1.75 0 0 1 2 12.25v-8.5C2 2.784 2.784 2 3.75 2Zm6.854-1h4.146a.25.25 0 0 1 .25.25v4.146a.25.25 0 0 1-.427.177L13.03 4.03 9.28 7.78a.751.751 0 0 1-1.042-.018.751.751 0 0 1-.018-1.042l3.75-3.75-1.543-1.543A.25.25 0 0 1 10.604 1Z"></path>
</svg>
</a></li>

                    <li>
  <a class="HeaderMenu-dropdown-link d-block no-underline position-relative py-2 Link--secondary Link--external" target="_blank" data-analytics-event="{&quot;location&quot;:&quot;navbar&quot;,&quot;action&quot;:&quot;events_amp_webinars&quot;,&quot;context&quot;:&quot;resources&quot;,&quot;tag&quot;:&quot;link&quot;,&quot;label&quot;:&quot;events_amp_webinars_link_resources_navbar&quot;}" href="https://resources.github.com/">
      Events &amp; Webinars

    <svg aria-hidden="true" height="16" viewBox="0 0 16 16" version="1.1" width="16" data-view-component="true" class="octicon octicon-link-external HeaderMenu-external-icon color-fg-subtle">
    <path d="M3.75 2h3.5a.75.75 0 0 1 0 1.5h-3.5a.25.25 0 0 0-.25.25v8.5c0 .138.112.25.25.25h8.5a.25.25 0 0 0 .25-.25v-3.5a.75.75 0 0 1 1.5 0v3.5A1.75 1.75 0 0 1 12.25 14h-8.5A1.75 1.75 0 0 1 2 12.25v-8.5C2 2.784 2.784 2 3.75 2Zm6.854-1h4.146a.25.25 0 0 1 .25.25v4.146a.25.25 0 0 1-.427.177L13.03 4.03 9.28 7.78a.751.751 0 0 1-1.042-.018.751.751 0 0 1-.018-1.042l3.75-3.75-1.543-1.543A.25.25 0 0 1 10.604 1Z"></path>
</svg>
</a></li>

                    <li>
  <a class="HeaderMenu-dropdown-link d-block no-underline position-relative py-2 Link--secondary" data-analytics-event="{&quot;location&quot;:&quot;navbar&quot;,&quot;action&quot;:&quot;ebooks_amp_whitepapers&quot;,&quot;context&quot;:&quot;resources&quot;,&quot;tag&quot;:&quot;link&quot;,&quot;label&quot;:&quot;ebooks_amp_whitepapers_link_resources_navbar&quot;}" href="https://github.com/resources/whitepapers">
      Ebooks &amp; Whitepapers

    
</a></li>

                    <li>
  <a class="HeaderMenu-dropdown-link d-block no-underline position-relative py-2 Link--secondary" data-analytics-event="{&quot;location&quot;:&quot;navbar&quot;,&quot;action&quot;:&quot;customer_stories&quot;,&quot;context&quot;:&quot;resources&quot;,&quot;tag&quot;:&quot;link&quot;,&quot;label&quot;:&quot;customer_stories_link_resources_navbar&quot;}" href="https://github.com/customer-stories">
      Customer Stories

    
</a></li>

                    <li>
  <a class="HeaderMenu-dropdown-link d-block no-underline position-relative py-2 Link--secondary Link--external" target="_blank" data-analytics-event="{&quot;location&quot;:&quot;navbar&quot;,&quot;action&quot;:&quot;partners&quot;,&quot;context&quot;:&quot;resources&quot;,&quot;tag&quot;:&quot;link&quot;,&quot;label&quot;:&quot;partners_link_resources_navbar&quot;}" href="https://partner.github.com/">
      Partners

    <svg aria-hidden="true" height="16" viewBox="0 0 16 16" version="1.1" width="16" data-view-component="true" class="octicon octicon-link-external HeaderMenu-external-icon color-fg-subtle">
    <path d="M3.75 2h3.5a.75.75 0 0 1 0 1.5h-3.5a.25.25 0 0 0-.25.25v8.5c0 .138.112.25.25.25h8.5a.25.25 0 0 0 .25-.25v-3.5a.75.75 0 0 1 1.5 0v3.5A1.75 1.75 0 0 1 12.25 14h-8.5A1.75 1.75 0 0 1 2 12.25v-8.5C2 2.784 2.784 2 3.75 2Zm6.854-1h4.146a.25.25 0 0 1 .25.25v4.146a.25.25 0 0 1-.427.177L13.03 4.03 9.28 7.78a.751.751 0 0 1-1.042-.018.751.751 0 0 1-.018-1.042l3.75-3.75-1.543-1.543A.25.25 0 0 1 10.604 1Z"></path>
</svg>
</a></li>

                    <li>
  <a class="HeaderMenu-dropdown-link d-block no-underline position-relative py-2 Link--secondary" data-analytics-event="{&quot;location&quot;:&quot;navbar&quot;,&quot;action&quot;:&quot;executive_insights&quot;,&quot;context&quot;:&quot;resources&quot;,&quot;tag&quot;:&quot;link&quot;,&quot;label&quot;:&quot;executive_insights_link_resources_navbar&quot;}" href="https://github.com/solutions/executive-insights">
      Executive Insights

    
</a></li>

                </ul>
              </div>
          </div>

      </div>
</li>


                <li class="HeaderMenu-item position-relative flex-wrap flex-justify-between flex-items-center d-block d-lg-flex flex-lg-nowrap flex-lg-items-center js-details-container js-header-menu-item">
      <button type="button" class="HeaderMenu-link border-0 width-full width-lg-auto px-0 px-lg-2 py-lg-2 no-wrap d-flex flex-items-center flex-justify-between js-details-target" aria-expanded="false">
        Open Source
        <svg opacity="0.5" aria-hidden="true" height="16" viewBox="0 0 16 16" version="1.1" width="16" data-view-component="true" class="octicon octicon-chevron-down HeaderMenu-icon ml-1">
    <path d="M12.78 5.22a.749.749 0 0 1 0 1.06l-4.25 4.25a.749.749 0 0 1-1.06 0L3.22 6.28a.749.749 0 1 1 1.06-1.06L8 8.939l3.72-3.719a.749.749 0 0 1 1.06 0Z"></path>
</svg>
      </button>

      <div class="HeaderMenu-dropdown dropdown-menu rounded m-0 p-0 pt-2 pt-lg-4 position-relative position-lg-absolute left-0 left-lg-n3 pb-2 pb-lg-4 px-lg-4">
          <div class="HeaderMenu-column">
              <div class="border-bottom pb-3 pb-lg-0 pb-lg-3 mb-3 mb-lg-0 mb-lg-3">

                <ul class="list-style-none f5">
                    <li>
  <a class="HeaderMenu-dropdown-link d-block no-underline position-relative py-2 Link--secondary d-flex flex-items-center Link--has-description" data-analytics-event="{&quot;location&quot;:&quot;navbar&quot;,&quot;action&quot;:&quot;github_sponsors&quot;,&quot;context&quot;:&quot;open_source&quot;,&quot;tag&quot;:&quot;link&quot;,&quot;label&quot;:&quot;github_sponsors_link_open_source_navbar&quot;}" href="https://github.com/sponsors">
      
      <div>
          <div class="color-fg-default h4">
            GitHub Sponsors
          </div>
        Fund open source developers
      </div>

    
</a></li>

                </ul>
              </div>
              <div class="border-bottom pb-3 pb-lg-0 pb-lg-3 mb-3 mb-lg-0 mb-lg-3">

                <ul class="list-style-none f5">
                    <li>
  <a class="HeaderMenu-dropdown-link d-block no-underline position-relative py-2 Link--secondary d-flex flex-items-center Link--has-description" data-analytics-event="{&quot;location&quot;:&quot;navbar&quot;,&quot;action&quot;:&quot;the_readme_project&quot;,&quot;context&quot;:&quot;open_source&quot;,&quot;tag&quot;:&quot;link&quot;,&quot;label&quot;:&quot;the_readme_project_link_open_source_navbar&quot;}" href="https://github.com/readme">
      
      <div>
          <div class="color-fg-default h4">
            The ReadME Project
          </div>
        GitHub community articles
      </div>

    
</a></li>

                </ul>
              </div>
              <div class="border-bottom pb-3 pb-lg-0 border-bottom-0">
                    <span class="d-block h4 color-fg-default my-1" id="open-source-repositories-heading">Repositories</span>

                <ul class="list-style-none f5" aria-labelledby="open-source-repositories-heading">
                    <li>
  <a class="HeaderMenu-dropdown-link d-block no-underline position-relative py-2 Link--secondary" data-analytics-event="{&quot;location&quot;:&quot;navbar&quot;,&quot;action&quot;:&quot;topics&quot;,&quot;context&quot;:&quot;open_source&quot;,&quot;tag&quot;:&quot;link&quot;,&quot;label&quot;:&quot;topics_link_open_source_navbar&quot;}" href="https://github.com/topics">
      Topics

    
</a></li>

                    <li>
  <a class="HeaderMenu-dropdown-link d-block no-underline position-relative py-2 Link--secondary" data-analytics-event="{&quot;location&quot;:&quot;navbar&quot;,&quot;action&quot;:&quot;trending&quot;,&quot;context&quot;:&quot;open_source&quot;,&quot;tag&quot;:&quot;link&quot;,&quot;label&quot;:&quot;trending_link_open_source_navbar&quot;}" href="https://github.com/trending">
      Trending

    
</a></li>

                    <li>
  <a class="HeaderMenu-dropdown-link d-block no-underline position-relative py-2 Link--secondary" data-analytics-event="{&quot;location&quot;:&quot;navbar&quot;,&quot;action&quot;:&quot;collections&quot;,&quot;context&quot;:&quot;open_source&quot;,&quot;tag&quot;:&quot;link&quot;,&quot;label&quot;:&quot;collections_link_open_source_navbar&quot;}" href="https://github.com/collections">
      Collections

    
</a></li>

                </ul>
              </div>
          </div>

      </div>
</li>


                <li class="HeaderMenu-item position-relative flex-wrap flex-justify-between flex-items-center d-block d-lg-flex flex-lg-nowrap flex-lg-items-center js-details-container js-header-menu-item">
      <button type="button" class="HeaderMenu-link border-0 width-full width-lg-auto px-0 px-lg-2 py-lg-2 no-wrap d-flex flex-items-center flex-justify-between js-details-target" aria-expanded="false">
        Enterprise
        <svg opacity="0.5" aria-hidden="true" height="16" viewBox="0 0 16 16" version="1.1" width="16" data-view-component="true" class="octicon octicon-chevron-down HeaderMenu-icon ml-1">
    <path d="M12.78 5.22a.749.749 0 0 1 0 1.06l-4.25 4.25a.749.749 0 0 1-1.06 0L3.22 6.28a.749.749 0 1 1 1.06-1.06L8 8.939l3.72-3.719a.749.749 0 0 1 1.06 0Z"></path>
</svg>
      </button>

      <div class="HeaderMenu-dropdown dropdown-menu rounded m-0 p-0 pt-2 pt-lg-4 position-relative position-lg-absolute left-0 left-lg-n3 pb-2 pb-lg-4 px-lg-4">
          <div class="HeaderMenu-column">
              <div class="border-bottom pb-3 pb-lg-0 pb-lg-3 mb-3 mb-lg-0 mb-lg-3">

                <ul class="list-style-none f5">
                    <li>
  <a class="HeaderMenu-dropdown-link d-block no-underline position-relative py-2 Link--secondary d-flex flex-items-center Link--has-description" data-analytics-event="{&quot;location&quot;:&quot;navbar&quot;,&quot;action&quot;:&quot;enterprise_platform&quot;,&quot;context&quot;:&quot;enterprise&quot;,&quot;tag&quot;:&quot;link&quot;,&quot;label&quot;:&quot;enterprise_platform_link_enterprise_navbar&quot;}" href="https://github.com/enterprise">
      <svg aria-hidden="true" height="24" viewBox="0 0 24 24" version="1.1" width="24" data-view-component="true" class="octicon octicon-stack color-fg-subtle mr-3">
    <path d="M11.063 1.456a1.749 1.749 0 0 1 1.874 0l8.383 5.316a1.751 1.751 0 0 1 0 2.956l-8.383 5.316a1.749 1.749 0 0 1-1.874 0L2.68 9.728a1.751 1.751 0 0 1 0-2.956Zm1.071 1.267a.25.25 0 0 0-.268 0L3.483 8.039a.25.25 0 0 0 0 .422l8.383 5.316a.25.25 0 0 0 .268 0l8.383-5.316a.25.25 0 0 0 0-.422Z"></path><path d="M1.867 12.324a.75.75 0 0 1 1.035-.232l8.964 5.685a.25.25 0 0 0 .268 0l8.964-5.685a.75.75 0 0 1 .804 1.267l-8.965 5.685a1.749 1.749 0 0 1-1.874 0l-8.965-5.685a.75.75 0 0 1-.231-1.035Z"></path><path d="M1.867 16.324a.75.75 0 0 1 1.035-.232l8.964 5.685a.25.25 0 0 0 .268 0l8.964-5.685a.75.75 0 0 1 .804 1.267l-8.965 5.685a1.749 1.749 0 0 1-1.874 0l-8.965-5.685a.75.75 0 0 1-.231-1.035Z"></path>
</svg>
      <div>
          <div class="color-fg-default h4">
            Enterprise platform
          </div>
        AI-powered developer platform
      </div>

    
</a></li>

                </ul>
              </div>
              <div class="border-bottom pb-3 pb-lg-0 border-bottom-0">
                    <span class="d-block h4 color-fg-default my-1" id="enterprise-available-add-ons-heading">Available add-ons</span>

                <ul class="list-style-none f5" aria-labelledby="enterprise-available-add-ons-heading">
                    <li>
  <a class="HeaderMenu-dropdown-link d-block no-underline position-relative py-2 Link--secondary d-flex flex-items-center Link--has-description pb-lg-3" data-analytics-event="{&quot;location&quot;:&quot;navbar&quot;,&quot;action&quot;:&quot;github_advanced_security&quot;,&quot;context&quot;:&quot;enterprise&quot;,&quot;tag&quot;:&quot;link&quot;,&quot;label&quot;:&quot;github_advanced_security_link_enterprise_navbar&quot;}" href="https://github.com/security/advanced-security">
      <svg aria-hidden="true" height="24" viewBox="0 0 24 24" version="1.1" width="24" data-view-component="true" class="octicon octicon-shield-check color-fg-subtle mr-3">
    <path d="M16.53 9.78a.75.75 0 0 0-1.06-1.06L11 13.19l-1.97-1.97a.75.75 0 0 0-1.06 1.06l2.5 2.5a.75.75 0 0 0 1.06 0l5-5Z"></path><path d="m12.54.637 8.25 2.675A1.75 1.75 0 0 1 22 4.976V10c0 6.19-3.771 10.704-9.401 12.83a1.704 1.704 0 0 1-1.198 0C5.77 20.705 2 16.19 2 10V4.976c0-.758.489-1.43 1.21-1.664L11.46.637a1.748 1.748 0 0 1 1.08 0Zm-.617 1.426-8.25 2.676a.249.249 0 0 0-.173.237V10c0 5.46 3.28 9.483 8.43 11.426a.199.199 0 0 0 .14 0C17.22 19.483 20.5 15.461 20.5 10V4.976a.25.25 0 0 0-.173-.237l-8.25-2.676a.253.253 0 0 0-.154 0Z"></path>
</svg>
      <div>
          <div class="color-fg-default h4">
            GitHub Advanced Security
          </div>
        Enterprise-grade security features
      </div>

    
</a></li>

                    <li>
  <a class="HeaderMenu-dropdown-link d-block no-underline position-relative py-2 Link--secondary d-flex flex-items-center Link--has-description pb-lg-3" data-analytics-event="{&quot;location&quot;:&quot;navbar&quot;,&quot;action&quot;:&quot;copilot_for_business&quot;,&quot;context&quot;:&quot;enterprise&quot;,&quot;tag&quot;:&quot;link&quot;,&quot;label&quot;:&quot;copilot_for_business_link_enterprise_navbar&quot;}" href="https://github.com/features/copilot/copilot-business">
      <svg aria-hidden="true" height="24" viewBox="0 0 24 24" version="1.1" width="24" data-view-component="true" class="octicon octicon-copilot color-fg-subtle mr-3">
    <path d="M23.922 16.992c-.861 1.495-5.859 5.023-11.922 5.023-6.063 0-11.061-3.528-11.922-5.023A.641.641 0 0 1 0 16.736v-2.869a.841.841 0 0 1 .053-.22c.372-.935 1.347-2.292 2.605-2.656.167-.429.414-1.055.644-1.517a10.195 10.195 0 0 1-.052-1.086c0-1.331.282-2.499 1.132-3.368.397-.406.89-.717 1.474-.952 1.399-1.136 3.392-2.093 6.122-2.093 2.731 0 4.767.957 6.166 2.093.584.235 1.077.546 1.474.952.85.869 1.132 2.037 1.132 3.368 0 .368-.014.733-.052 1.086.23.462.477 1.088.644 1.517 1.258.364 2.233 1.721 2.605 2.656a.832.832 0 0 1 .053.22v2.869a.641.641 0 0 1-.078.256ZM12.172 11h-.344a4.323 4.323 0 0 1-.355.508C10.703 12.455 9.555 13 7.965 13c-1.725 0-2.989-.359-3.782-1.259a2.005 2.005 0 0 1-.085-.104L4 11.741v6.585c1.435.779 4.514 2.179 8 2.179 3.486 0 6.565-1.4 8-2.179v-6.585l-.098-.104s-.033.045-.085.104c-.793.9-2.057 1.259-3.782 1.259-1.59 0-2.738-.545-3.508-1.492a4.323 4.323 0 0 1-.355-.508h-.016.016Zm.641-2.935c.136 1.057.403 1.913.878 2.497.442.544 1.134.938 2.344.938 1.573 0 2.292-.337 2.657-.751.384-.435.558-1.15.558-2.361 0-1.14-.243-1.847-.705-2.319-.477-.488-1.319-.862-2.824-1.025-1.487-.161-2.192.138-2.533.529-.269.307-.437.808-.438 1.578v.021c0 .265.021.562.063.893Zm-1.626 0c.042-.331.063-.628.063-.894v-.02c-.001-.77-.169-1.271-.438-1.578-.341-.391-1.046-.69-2.533-.529-1.505.163-2.347.537-2.824 1.025-.462.472-.705 1.179-.705 2.319 0 1.211.175 1.926.558 2.361.365.414 1.084.751 2.657.751 1.21 0 1.902-.394 2.344-.938.475-.584.742-1.44.878-2.497Z"></path><path d="M14.5 14.25a1 1 0 0 1 1 1v2a1 1 0 0 1-2 0v-2a1 1 0 0 1 1-1Zm-5 0a1 1 0 0 1 1 1v2a1 1 0 0 1-2 0v-2a1 1 0 0 1 1-1Z"></path>
</svg>
      <div>
          <div class="color-fg-default h4">
            Copilot for business
          </div>
        Enterprise-grade AI features
      </div>

    
</a></li>

                    <li>
  <a class="HeaderMenu-dropdown-link d-block no-underline position-relative py-2 Link--secondary d-flex flex-items-center Link--has-description" data-analytics-event="{&quot;location&quot;:&quot;navbar&quot;,&quot;action&quot;:&quot;premium_support&quot;,&quot;context&quot;:&quot;enterprise&quot;,&quot;tag&quot;:&quot;link&quot;,&quot;label&quot;:&quot;premium_support_link_enterprise_navbar&quot;}" href="https://github.com/premium-support">
      <svg aria-hidden="true" height="24" viewBox="0 0 24 24" version="1.1" width="24" data-view-component="true" class="octicon octicon-comment-discussion color-fg-subtle mr-3">
    <path d="M1.75 1h12.5c.966 0 1.75.784 1.75 1.75v9.5A1.75 1.75 0 0 1 14.25 14H8.061l-2.574 2.573A1.458 1.458 0 0 1 3 15.543V14H1.75A1.75 1.75 0 0 1 0 12.25v-9.5C0 1.784.784 1 1.75 1ZM1.5 2.75v9.5c0 .138.112.25.25.25h2a.75.75 0 0 1 .75.75v2.19l2.72-2.72a.749.749 0 0 1 .53-.22h6.5a.25.25 0 0 0 .25-.25v-9.5a.25.25 0 0 0-.25-.25H1.75a.25.25 0 0 0-.25.25Z"></path><path d="M22.5 8.75a.25.25 0 0 0-.25-.25h-3.5a.75.75 0 0 1 0-1.5h3.5c.966 0 1.75.784 1.75 1.75v9.5A1.75 1.75 0 0 1 22.25 20H21v1.543a1.457 1.457 0 0 1-2.487 1.03L15.939 20H10.75A1.75 1.75 0 0 1 9 18.25v-1.465a.75.75 0 0 1 1.5 0v1.465c0 .138.112.25.25.25h5.5a.75.75 0 0 1 .53.22l2.72 2.72v-2.19a.75.75 0 0 1 .75-.75h2a.25.25 0 0 0 .25-.25v-9.5Z"></path>
</svg>
      <div>
          <div class="color-fg-default h4">
            Premium Support
          </div>
        Enterprise-grade 24/7 support
      </div>

    
</a></li>

                </ul>
              </div>
          </div>

      </div>
</li>


                <li class="HeaderMenu-item position-relative flex-wrap flex-justify-between flex-items-center d-block d-lg-flex flex-lg-nowrap flex-lg-items-center js-details-container js-header-menu-item">
    <a class="HeaderMenu-link no-underline px-0 px-lg-2 py-3 py-lg-2 d-block d-lg-inline-block" data-analytics-event="{&quot;location&quot;:&quot;navbar&quot;,&quot;action&quot;:&quot;pricing&quot;,&quot;context&quot;:&quot;global&quot;,&quot;tag&quot;:&quot;link&quot;,&quot;label&quot;:&quot;pricing_link_global_navbar&quot;}" href="https://github.com/pricing">Pricing</a>
</li>

            </ul>
          </nav>

        <div class="d-flex flex-column flex-lg-row width-full flex-justify-end flex-lg-items-center text-center mt-3 mt-lg-0 text-lg-left ml-lg-3">
                


<qbsearch-input class="search-input" data-scope="repo:GedelaSruthipriya/Main-flow-task3" data-custom-scopes-path="/search/custom_scopes" data-delete-custom-scopes-csrf="sR6x3G08uRq193uhUhAfalAGGybfGFleD7nupj0sjeGlHkz1g1vXSzTIE2QkIhTQ8POuEDxOTihTL68mmeOdqQ" data-max-custom-scopes="10" data-header-redesign-enabled="false" data-initial-value="" data-blackbird-suggestions-path="/search/suggestions" data-jump-to-suggestions-path="/_graphql/GetSuggestedNavigationDestinations" data-current-repository="GedelaSruthipriya/Main-flow-task3" data-current-org="" data-current-owner="GedelaSruthipriya" data-logged-in="false" data-copilot-chat-enabled="false" data-nl-search-enabled="false" data-retain-scroll-position="true" data-catalyst="">
  <div class="search-input-container search-with-dialog position-relative d-flex flex-row flex-items-center mr-4 rounded" data-action="click:qbsearch-input#searchInputContainerClicked">
      <button type="button" class="header-search-button placeholder input-button form-control d-flex flex-1 flex-self-stretch flex-items-center no-wrap width-full py-0 pl-2 pr-0 text-left border-0 box-shadow-none" data-target="qbsearch-input.inputButton" aria-label="Search or jump to…" aria-haspopup="dialog" placeholder="Search or jump to..." data-hotkey="s,/" autocapitalize="off" data-analytics-event="{&quot;location&quot;:&quot;navbar&quot;,&quot;action&quot;:&quot;searchbar&quot;,&quot;context&quot;:&quot;global&quot;,&quot;tag&quot;:&quot;input&quot;,&quot;label&quot;:&quot;searchbar_input_global_navbar&quot;}" data-action="click:qbsearch-input#handleExpand">
        <div class="mr-2 color-fg-muted">
          <svg aria-hidden="true" height="16" viewBox="0 0 16 16" version="1.1" width="16" data-view-component="true" class="octicon octicon-search">
    <path d="M10.68 11.74a6 6 0 0 1-7.922-8.982 6 6 0 0 1 8.982 7.922l3.04 3.04a.749.749 0 0 1-.326 1.275.749.749 0 0 1-.734-.215ZM11.5 7a4.499 4.499 0 1 0-8.997 0A4.499 4.499 0 0 0 11.5 7Z"></path>
</svg>
        </div>
        <span class="flex-1" data-target="qbsearch-input.inputButtonText">Search or jump to...</span>
          <div class="d-flex" data-target="qbsearch-input.hotkeyIndicator">
            <svg xmlns="http://www.w3.org/2000/svg" width="22" height="20" aria-hidden="true" class="mr-1"><path fill="none" stroke="#979A9C" opacity=".4" d="M3.5.5h12c1.7 0 3 1.3 3 3v13c0 1.7-1.3 3-3 3h-12c-1.7 0-3-1.3-3-3v-13c0-1.7 1.3-3 3-3z"></path><path fill="#979A9C" d="M11.8 6L8 15.1h-.9L10.8 6h1z"></path></svg>
          </div>
      </button>

    <input type="hidden" name="type" class="js-site-search-type-field">

    
<div class="Overlay--hidden " data-modal-dialog-overlay="">
  <modal-dialog data-action="close:qbsearch-input#handleClose cancel:qbsearch-input#handleClose" data-target="qbsearch-input.searchSuggestionsDialog" role="dialog" id="search-suggestions-dialog" aria-modal="true" aria-labelledby="search-suggestions-dialog-header" data-view-component="true" class="Overlay Overlay--width-large Overlay--height-auto">
      <h1 id="search-suggestions-dialog-header" class="sr-only">Search code, repositories, users, issues, pull requests...</h1>
    <div class="Overlay-body Overlay-body--paddingNone">
      
          <div data-view-component="true">        <div class="search-suggestions position-fixed width-full color-shadow-large border color-fg-default color-bg-default overflow-hidden d-flex flex-column query-builder-container" style="border-radius: 12px;" data-target="qbsearch-input.queryBuilderContainer" hidden="">
          <!-- '"` --><!-- </textarea></xmp> --><form id="query-builder-test-form" action="https://github.com/GedelaSruthipriya/Main-flow-task3/blob/main/tas3.ipynb" accept-charset="UTF-8" method="get">
  <query-builder data-target="qbsearch-input.queryBuilder" id="query-builder-query-builder-test" data-filter-key=":" data-view-component="true" class="QueryBuilder search-query-builder" data-min-width="300" data-catalyst="">
    <div class="FormControl FormControl--fullWidth">
      <label id="query-builder-test-label" for="query-builder-test" class="FormControl-label sr-only">
        Search
      </label>
      <div class="QueryBuilder-StyledInput width-fit " data-target="query-builder.styledInput">
          <span id="query-builder-test-leadingvisual-wrap" class="FormControl-input-leadingVisualWrap QueryBuilder-leadingVisualWrap">
            <svg aria-hidden="true" height="16" viewBox="0 0 16 16" version="1.1" width="16" data-view-component="true" class="octicon octicon-search FormControl-input-leadingVisual">
    <path d="M10.68 11.74a6 6 0 0 1-7.922-8.982 6 6 0 0 1 8.982 7.922l3.04 3.04a.749.749 0 0 1-.326 1.275.749.749 0 0 1-.734-.215ZM11.5 7a4.499 4.499 0 1 0-8.997 0A4.499 4.499 0 0 0 11.5 7Z"></path>
</svg>
          </span>
        <div data-target="query-builder.styledInputContainer" class="QueryBuilder-StyledInputContainer">
          <div aria-hidden="true" class="QueryBuilder-StyledInputContent" data-target="query-builder.styledInputContent"></div>
          <div class="QueryBuilder-InputWrapper">
            <div aria-hidden="true" class="QueryBuilder-Sizer" data-target="query-builder.sizer"><span></span></div>
            <input id="query-builder-test" name="query-builder-test" value="" autocomplete="off" type="text" role="combobox" spellcheck="false" aria-expanded="false" aria-describedby="validation-3f276294-d15c-4647-b4b5-0c89ac2872d9" data-target="query-builder.input" data-action="
          input:query-builder#inputChange
          blur:query-builder#inputBlur
          keydown:query-builder#inputKeydown
          focus:query-builder#inputFocus
        " data-view-component="true" class="FormControl-input QueryBuilder-Input FormControl-medium" aria-controls="query-builder-test-results" aria-autocomplete="list" aria-haspopup="listbox" style="width: 300px;">
          </div>
        </div>
          <span class="sr-only" id="query-builder-test-clear">Clear</span>
          <button role="button" id="query-builder-test-clear-button" aria-labelledby="query-builder-test-clear query-builder-test-label" data-target="query-builder.clearButton" data-action="
                click:query-builder#clear
                focus:query-builder#clearButtonFocus
                blur:query-builder#clearButtonBlur
              " variant="small" hidden="" type="button" data-view-component="true" class="Button Button--iconOnly Button--invisible Button--medium mr-1 px-2 py-0 d-flex flex-items-center rounded-1 color-fg-muted">  <svg aria-hidden="true" height="16" viewBox="0 0 16 16" version="1.1" width="16" data-view-component="true" class="octicon octicon-x-circle-fill Button-visual">
    <path d="M2.343 13.657A8 8 0 1 1 13.658 2.343 8 8 0 0 1 2.343 13.657ZM6.03 4.97a.751.751 0 0 0-1.042.018.751.751 0 0 0-.018 1.042L6.94 8 4.97 9.97a.749.749 0 0 0 .326 1.275.749.749 0 0 0 .734-.215L8 9.06l1.97 1.97a.749.749 0 0 0 1.275-.326.749.749 0 0 0-.215-.734L9.06 8l1.97-1.97a.749.749 0 0 0-.326-1.275.749.749 0 0 0-.734.215L8 6.94Z"></path>
</svg>
</button>

      </div>
      <template id="search-icon"></template>

<template id="code-icon"></template>

<template id="file-code-icon"></template>

<template id="history-icon"></template>

<template id="repo-icon"></template>

<template id="bookmark-icon"></template>

<template id="plus-circle-icon"></template>

<template id="circle-icon"></template>

<template id="trash-icon"></template>

<template id="team-icon"></template>

<template id="project-icon"></template>

<template id="pencil-icon"></template>

<template id="copilot-icon"></template>

<template id="copilot-error-icon"></template>

<template id="workflow-icon"></template>

<template id="book-icon"></template>

<template id="code-review-icon"></template>

<template id="codespaces-icon"></template>

<template id="comment-icon"></template>

<template id="comment-discussion-icon"></template>

<template id="organization-icon"></template>

<template id="rocket-icon"></template>

<template id="shield-check-icon"></template>

<template id="heart-icon"></template>

<template id="server-icon"></template>

<template id="globe-icon"></template>

<template id="issue-opened-icon"></template>

<template id="device-mobile-icon"></template>

<template id="package-icon"></template>

<template id="credit-card-icon"></template>

<template id="play-icon"></template>

<template id="gift-icon"></template>

<template id="code-square-icon"></template>

<template id="device-desktop-icon"></template>

        <div class="position-relative">
                <ul role="listbox" class="ActionListWrap QueryBuilder-ListWrap" aria-label="Suggestions" data-action="
                    combobox-commit:query-builder#comboboxCommit
                    mousedown:query-builder#resultsMousedown
                  " data-target="query-builder.resultsList" data-persist-list="false" id="query-builder-test-results"></ul>
        </div>
      <div class="FormControl-inlineValidation" id="validation-3f276294-d15c-4647-b4b5-0c89ac2872d9" hidden="hidden">
        <span class="FormControl-inlineValidation--visual">
          <svg aria-hidden="true" height="12" viewBox="0 0 12 12" version="1.1" width="12" data-view-component="true" class="octicon octicon-alert-fill">
    <path d="M4.855.708c.5-.896 1.79-.896 2.29 0l4.675 8.351a1.312 1.312 0 0 1-1.146 1.954H1.33A1.313 1.313 0 0 1 .183 9.058ZM7 7V3H5v4Zm-1 3a1 1 0 1 0 0-2 1 1 0 0 0 0 2Z"></path>
</svg>
        </span>
        <span></span>
</div>    </div>
    <div data-target="query-builder.screenReaderFeedback" aria-live="polite" aria-atomic="true" class="sr-only"></div>
</query-builder></form>
          <div class="d-flex flex-row color-fg-muted px-3 text-small color-bg-default search-feedback-prompt">
            <a target="_blank" href="https://docs.github.com/search-github/github-code-search/understanding-github-code-search-syntax" data-view-component="true" class="Link color-fg-accent text-normal ml-2">Search syntax tips</a>            <div class="d-flex flex-1"></div>
          </div>
        </div>
</div>

    </div>
</modal-dialog></div>
  </div>
  <div data-action="click:qbsearch-input#retract" class="dark-backdrop position-fixed" hidden="" data-target="qbsearch-input.darkBackdrop"></div>
  <div class="color-fg-default">
    
<dialog-helper>
  <dialog data-target="qbsearch-input.feedbackDialog" data-action="close:qbsearch-input#handleDialogClose cancel:qbsearch-input#handleDialogClose" id="feedback-dialog" aria-modal="true" aria-labelledby="feedback-dialog-title" aria-describedby="feedback-dialog-description" data-view-component="true" class="Overlay Overlay-whenNarrow Overlay--size-medium Overlay--motion-scaleFade Overlay--disableScroll">
    <div data-view-component="true" class="Overlay-header">
  <div class="Overlay-headerContentWrap">
    <div class="Overlay-titleWrap">
      <h1 class="Overlay-title " id="feedback-dialog-title">
        Provide feedback
      </h1>
        
    </div>
    <div class="Overlay-actionWrap">
      <button data-close-dialog-id="feedback-dialog" aria-label="Close" type="button" data-view-component="true" class="close-button Overlay-closeButton"><svg aria-hidden="true" height="16" viewBox="0 0 16 16" version="1.1" width="16" data-view-component="true" class="octicon octicon-x">
    <path d="M3.72 3.72a.75.75 0 0 1 1.06 0L8 6.94l3.22-3.22a.749.749 0 0 1 1.275.326.749.749 0 0 1-.215.734L9.06 8l3.22 3.22a.749.749 0 0 1-.326 1.275.749.749 0 0 1-.734-.215L8 9.06l-3.22 3.22a.751.751 0 0 1-1.042-.018.751.751 0 0 1-.018-1.042L6.94 8 3.72 4.78a.75.75 0 0 1 0-1.06Z"></path>
</svg></button>
    </div>
  </div>
  
</div>
      <scrollable-region data-labelled-by="feedback-dialog-title" data-catalyst="" style="overflow: auto;">
        <div data-view-component="true" class="Overlay-body">        <!-- '"` --><!-- </textarea></xmp> --><form id="code-search-feedback-form" data-turbo="false" action="https://github.com/search/feedback" accept-charset="UTF-8" method="post"><input type="hidden" data-csrf="true" name="authenticity_token" value="b+uEdDKUGaNaUeOEd9BMEsnkGILZOKJvRPV8YfEf/BYU8bKddkfPMpQe3uqlRgt1uJOpewlogQ9p/EFVXIuiEg==">
          <p>We read every piece of feedback, and take your input very seriously.</p>
          <textarea name="feedback" class="form-control width-full mb-2" style="height: 120px" id="feedback"></textarea>
          <input name="include_email" id="include_email" aria-label="Include my email address so I can be contacted" class="form-control mr-2" type="checkbox">
          <label for="include_email" style="font-weight: normal">Include my email address so I can be contacted</label>
</form></div>
      </scrollable-region>
      <div data-view-component="true" class="Overlay-footer Overlay-footer--alignEnd">          <button data-close-dialog-id="feedback-dialog" type="button" data-view-component="true" class="btn">    Cancel
</button>
          <button form="code-search-feedback-form" data-action="click:qbsearch-input#submitFeedback" type="submit" data-view-component="true" class="btn-primary btn">    Submit feedback
</button>
</div>
</dialog></dialog-helper>

    <custom-scopes data-target="qbsearch-input.customScopesManager" data-catalyst="">
    
<dialog-helper>
  <dialog data-target="custom-scopes.customScopesModalDialog" data-action="close:qbsearch-input#handleDialogClose cancel:qbsearch-input#handleDialogClose" id="custom-scopes-dialog" aria-modal="true" aria-labelledby="custom-scopes-dialog-title" aria-describedby="custom-scopes-dialog-description" data-view-component="true" class="Overlay Overlay-whenNarrow Overlay--size-medium Overlay--motion-scaleFade Overlay--disableScroll">
    <div data-view-component="true" class="Overlay-header Overlay-header--divided">
  <div class="Overlay-headerContentWrap">
    <div class="Overlay-titleWrap">
      <h1 class="Overlay-title " id="custom-scopes-dialog-title">
        Saved searches
      </h1>
        <h2 id="custom-scopes-dialog-description" class="Overlay-description">Use saved searches to filter your results more quickly</h2>
    </div>
    <div class="Overlay-actionWrap">
      <button data-close-dialog-id="custom-scopes-dialog" aria-label="Close" type="button" data-view-component="true" class="close-button Overlay-closeButton"><svg aria-hidden="true" height="16" viewBox="0 0 16 16" version="1.1" width="16" data-view-component="true" class="octicon octicon-x">
    <path d="M3.72 3.72a.75.75 0 0 1 1.06 0L8 6.94l3.22-3.22a.749.749 0 0 1 1.275.326.749.749 0 0 1-.215.734L9.06 8l3.22 3.22a.749.749 0 0 1-.326 1.275.749.749 0 0 1-.734-.215L8 9.06l-3.22 3.22a.751.751 0 0 1-1.042-.018.751.751 0 0 1-.018-1.042L6.94 8 3.72 4.78a.75.75 0 0 1 0-1.06Z"></path>
</svg></button>
    </div>
  </div>
  
</div>
      <scrollable-region data-labelled-by="custom-scopes-dialog-title" data-catalyst="" style="overflow: auto;">
        <div data-view-component="true" class="Overlay-body">        <div data-target="custom-scopes.customScopesModalDialogFlash"></div>

        <div hidden="" class="create-custom-scope-form" data-target="custom-scopes.createCustomScopeForm">
        <!-- '"` --><!-- </textarea></xmp> --><form id="custom-scopes-dialog-form" data-turbo="false" action="https://github.com/search/custom_scopes" accept-charset="UTF-8" method="post"><input type="hidden" data-csrf="true" name="authenticity_token" value="4rVsPUnG2r8HXTaYFHxvWp2XSPwMnHgXgP53v8PHaWvJLJg1ASU95egSWtRsWPaB1Xm0IGIE7MhRmVXEyA9bfQ==">
          <div data-target="custom-scopes.customScopesModalDialogFlash"></div>

          <input type="hidden" id="custom_scope_id" name="custom_scope_id" data-target="custom-scopes.customScopesIdField">

          <div class="form-group">
            <label for="custom_scope_name">Name</label>
            <auto-check src="/search/custom_scopes/check_name" required="">
              <input type="text" name="custom_scope_name" id="custom_scope_name" data-target="custom-scopes.customScopesNameField" class="form-control" autocomplete="off" placeholder="github-ruby" required="" maxlength="50" spellcheck="false">
              <input type="hidden" data-csrf="true" value="i4jgle3A23FJHO1kx8V3Ldx1jdzVGiVysGUsF76GEqnH69V8RWslG7msAClDnpKrpaXQM7UTFQkgefHh2gKZ6w==">
            </auto-check>
          </div>

          <div class="form-group">
            <label for="custom_scope_query">Query</label>
            <input type="text" name="custom_scope_query" id="custom_scope_query" data-target="custom-scopes.customScopesQueryField" class="form-control" autocomplete="off" placeholder="(repo:mona/a OR repo:mona/b) AND lang:python" required="" maxlength="500">
          </div>

          <p class="text-small color-fg-muted">
            To see all available qualifiers, see our <a class="Link--inTextBlock" href="https://docs.github.com/search-github/github-code-search/understanding-github-code-search-syntax">documentation</a>.
          </p>
</form>        </div>

        <div data-target="custom-scopes.manageCustomScopesForm">
          <div data-target="custom-scopes.list"></div>
        </div>

</div>
      </scrollable-region>
      <div data-view-component="true" class="Overlay-footer Overlay-footer--alignEnd Overlay-footer--divided">          <button data-action="click:custom-scopes#customScopesCancel" type="button" data-view-component="true" class="btn">    Cancel
</button>
          <button form="custom-scopes-dialog-form" data-action="click:custom-scopes#customScopesSubmit" data-target="custom-scopes.customScopesSubmitButton" type="submit" data-view-component="true" class="btn-primary btn">    Create saved search
</button>
</div>
</dialog></dialog-helper>
    </custom-scopes>
  </div>
</qbsearch-input>


            <div class="position-relative HeaderMenu-link-wrap d-lg-inline-block">
              <a href="https://github.com/login?return_to=https%3A%2F%2Fgithub.com%2FGedelaSruthipriya%2FMain-flow-task3%2Fblob%2Fmain%2Ftas3.ipynb" class="HeaderMenu-link HeaderMenu-link--sign-in HeaderMenu-button flex-shrink-0 no-underline d-none d-lg-inline-flex border border-lg-0 rounded rounded-lg-0 px-2 py-1" style="margin-left: 12px;" data-hydro-click="{&quot;event_type&quot;:&quot;authentication.click&quot;,&quot;payload&quot;:{&quot;location_in_page&quot;:&quot;site header menu&quot;,&quot;repository_id&quot;:null,&quot;auth_type&quot;:&quot;SIGN_UP&quot;,&quot;originating_url&quot;:&quot;https://github.com/GedelaSruthipriya/Main-flow-task3/blob/main/tas3.ipynb&quot;,&quot;user_id&quot;:null}}" data-hydro-click-hmac="6702763a55a568d5428181d2645798c877531b8f41791ac4a899747e9f250ac4" data-analytics-event="{&quot;category&quot;:&quot;Marketing nav&quot;,&quot;action&quot;:&quot;click to go to homepage&quot;,&quot;label&quot;:&quot;ref_page:Marketing;ref_cta:Sign in;ref_loc:Header&quot;}">
                Sign in
              </a>
            </div>

              <a href="https://github.com/signup?ref_cta=Sign+up&amp;ref_loc=header+logged+out&amp;ref_page=%2F%3Cuser-name%3E%2F%3Crepo-name%3E%2Fblob%2Fshow&amp;source=header-repo&amp;source_repo=GedelaSruthipriya%2FMain-flow-task3" class="HeaderMenu-link HeaderMenu-link--sign-up HeaderMenu-button flex-shrink-0 d-flex d-lg-inline-flex no-underline border color-border-default rounded px-2 py-1" data-hydro-click="{&quot;event_type&quot;:&quot;authentication.click&quot;,&quot;payload&quot;:{&quot;location_in_page&quot;:&quot;site header menu&quot;,&quot;repository_id&quot;:null,&quot;auth_type&quot;:&quot;SIGN_UP&quot;,&quot;originating_url&quot;:&quot;https://github.com/GedelaSruthipriya/Main-flow-task3/blob/main/tas3.ipynb&quot;,&quot;user_id&quot;:null}}" data-hydro-click-hmac="6702763a55a568d5428181d2645798c877531b8f41791ac4a899747e9f250ac4" data-analytics-event="{&quot;category&quot;:&quot;Sign up&quot;,&quot;action&quot;:&quot;click to sign up for account&quot;,&quot;label&quot;:&quot;ref_page:/&lt;user-name&gt;/&lt;repo-name&gt;/blob/show;ref_cta:Sign up;ref_loc:header logged out&quot;}">
                Sign up
              </a>

                <div class="AppHeader-appearanceSettings">
    <react-partial-anchor data-catalyst="">
      <button data-target="react-partial-anchor.anchor" id="icon-button-0bd5951f-297c-4ae3-b002-fbb66658e57b" aria-labelledby="tooltip-fccfc61a-03dd-495c-812c-27e20e141496" type="button" data-view-component="true" class="Button Button--iconOnly Button--invisible Button--medium AppHeader-button HeaderMenu-link border" aria-expanded="false" aria-haspopup="true">  <svg aria-hidden="true" height="16" viewBox="0 0 16 16" version="1.1" width="16" data-view-component="true" class="octicon octicon-sliders Button-visual">
    <path d="M15 2.75a.75.75 0 0 1-.75.75h-4a.75.75 0 0 1 0-1.5h4a.75.75 0 0 1 .75.75Zm-8.5.75v1.25a.75.75 0 0 0 1.5 0v-4a.75.75 0 0 0-1.5 0V2H1.75a.75.75 0 0 0 0 1.5H6.5Zm1.25 5.25a.75.75 0 0 0 0-1.5h-6a.75.75 0 0 0 0 1.5h6ZM15 8a.75.75 0 0 1-.75.75H11.5V10a.75.75 0 1 1-1.5 0V6a.75.75 0 0 1 1.5 0v1.25h2.75A.75.75 0 0 1 15 8Zm-9 5.25v-2a.75.75 0 0 0-1.5 0v1.25H1.75a.75.75 0 0 0 0 1.5H4.5v1.25a.75.75 0 0 0 1.5 0v-2Zm9 0a.75.75 0 0 1-.75.75h-6a.75.75 0 0 1 0-1.5h6a.75.75 0 0 1 .75.75Z"></path>
</svg>
</button><tool-tip id="tooltip-fccfc61a-03dd-495c-812c-27e20e141496" for="icon-button-0bd5951f-297c-4ae3-b002-fbb66658e57b" popover="manual" data-direction="s" data-type="label" data-view-component="true" class="sr-only position-absolute" aria-hidden="true" role="tooltip"><template shadowrootmode="open"><style>
      :host {
        --tooltip-top: var(--tool-tip-position-top, 0);
        --tooltip-left: var(--tool-tip-position-left, 0);
        padding: var(--overlay-paddingBlock-condensed) var(--overlay-padding-condensed) !important;
        font: var(--text-body-shorthand-small);
        color: var(--tooltip-fgColor, var(--fgColor-onEmphasis)) !important;
        text-align: center;
        text-decoration: none;
        text-shadow: none;
        text-transform: none;
        letter-spacing: normal;
        word-wrap: break-word;
        white-space: pre;
        background: var(--tooltip-bgColor, var(--bgColor-emphasis)) !important;
        border-radius: var(--borderRadius-medium);
        border: 0 !important;
        opacity: 0;
        max-width: var(--overlay-width-small);
        word-wrap: break-word;
        white-space: normal;
        width: max-content !important;
        inset: var(--tooltip-top) auto auto var(--tooltip-left) !important;
        overflow: visible !important;
        text-wrap: balance;
      }

      :host(:is(.tooltip-n, .tooltip-nw, .tooltip-ne)) {
        --tooltip-top: calc(var(--tool-tip-position-top, 0) - var(--overlay-offset, 0.25rem));
        --tooltip-left: var(--tool-tip-position-left);
      }

      :host(:is(.tooltip-s, .tooltip-sw, .tooltip-se)) {
        --tooltip-top: calc(var(--tool-tip-position-top, 0) + var(--overlay-offset, 0.25rem));
        --tooltip-left: var(--tool-tip-position-left);
      }

      :host(.tooltip-w) {
        --tooltip-top: var(--tool-tip-position-top);
        --tooltip-left: calc(var(--tool-tip-position-left, 0) - var(--overlay-offset, 0.25rem));
      }

      :host(.tooltip-e) {
        --tooltip-top: var(--tool-tip-position-top);
        --tooltip-left: calc(var(--tool-tip-position-left, 0) + var(--overlay-offset, 0.25rem));
      }

      :host:after{
        position: absolute;
        display: block;
        right: 0;
        left: 0;
        height: var(--overlay-offset, 0.25rem);
        content: "";
      }

      :host(.tooltip-s):after,
      :host(.tooltip-se):after,
      :host(.tooltip-sw):after {
        bottom: 100%
      }

      :host(.tooltip-n):after,
      :host(.tooltip-ne):after,
      :host(.tooltip-nw):after {
        top: 100%;
      }

      @keyframes tooltip-appear {
        from {
          opacity: 0;
        }
        to {
          opacity: 1;
        }
      }

      :host(:popover-open),
      :host(:popover-open):before {
        animation-name: tooltip-appear;
        animation-duration: .1s;
        animation-fill-mode: forwards;
        animation-timing-function: ease-in;
      }

      :host(.\:popover-open) {
        animation-name: tooltip-appear;
        animation-duration: .1s;
        animation-fill-mode: forwards;
        animation-timing-function: ease-in;
      }

      @media (forced-colors: active) {
        :host {
          outline: solid 1px transparent;
        }

        :host:before {
          display: none;
        }
      }
    </style><slot></slot></template>Appearance settings</tool-tip>

      
    
        <link crossorigin="anonymous" media="all" rel="stylesheet" href="./Main-flow-task3_files/primer-react.c212c596cc6bbefb1798.module.css">
<link crossorigin="anonymous" media="all" rel="stylesheet" href="./Main-flow-task3_files/appearance-settings.4e1ca273f504ba849f8c.module.css">

<react-partial partial-name="appearance-settings" data-ssr="false" data-attempted-ssr="false" data-react-profiling="false" data-catalyst="" class="loaded">
  
  <script type="application/json" data-target="react-partial.embeddedData">{"props":{}}</script>
  <div data-target="react-partial.reactRoot"><script type="application/json" id="__PRIMER_DATA_:rc:__">{"resolvedServerColorMode":"night"}</script></div>
</react-partial>

      </react-partial-anchor>
  </div>

          <button type="button" class="sr-only js-header-menu-focus-trap d-block d-lg-none">Resetting focus</button>
        </div>
      </div>
    </div>
  </div>
</header>

      <div hidden="hidden" data-view-component="true" class="js-stale-session-flash stale-session-flash flash flash-warn flash-full">
  
        <svg aria-hidden="true" height="16" viewBox="0 0 16 16" version="1.1" width="16" data-view-component="true" class="octicon octicon-alert">
    <path d="M6.457 1.047c.659-1.234 2.427-1.234 3.086 0l6.082 11.378A1.75 1.75 0 0 1 14.082 15H1.918a1.75 1.75 0 0 1-1.543-2.575Zm1.763.707a.25.25 0 0 0-.44 0L1.698 13.132a.25.25 0 0 0 .22.368h12.164a.25.25 0 0 0 .22-.368Zm.53 3.996v2.5a.75.75 0 0 1-1.5 0v-2.5a.75.75 0 0 1 1.5 0ZM9 11a1 1 0 1 1-2 0 1 1 0 0 1 2 0Z"></path>
</svg>
        <span class="js-stale-session-flash-signed-in" hidden="">You signed in with another tab or window. <a class="Link--inTextBlock" href="https://github.com/GedelaSruthipriya/Main-flow-task3/blob/main/tas3.ipynb">Reload</a> to refresh your session.</span>
        <span class="js-stale-session-flash-signed-out" hidden="">You signed out in another tab or window. <a class="Link--inTextBlock" href="https://github.com/GedelaSruthipriya/Main-flow-task3/blob/main/tas3.ipynb">Reload</a> to refresh your session.</span>
        <span class="js-stale-session-flash-switched" hidden="">You switched accounts on another tab or window. <a class="Link--inTextBlock" href="https://github.com/GedelaSruthipriya/Main-flow-task3/blob/main/tas3.ipynb">Reload</a> to refresh your session.</span>

    <button id="icon-button-2d516a1b-bf36-493e-b139-1b21e3fdf376" aria-labelledby="tooltip-298e46ee-af6d-45f9-b665-93ef8b1b32ad" type="button" data-view-component="true" class="Button Button--iconOnly Button--invisible Button--medium flash-close js-flash-close">  <svg aria-hidden="true" height="16" viewBox="0 0 16 16" version="1.1" width="16" data-view-component="true" class="octicon octicon-x Button-visual">
    <path d="M3.72 3.72a.75.75 0 0 1 1.06 0L8 6.94l3.22-3.22a.749.749 0 0 1 1.275.326.749.749 0 0 1-.215.734L9.06 8l3.22 3.22a.749.749 0 0 1-.326 1.275.749.749 0 0 1-.734-.215L8 9.06l-3.22 3.22a.751.751 0 0 1-1.042-.018.751.751 0 0 1-.018-1.042L6.94 8 3.72 4.78a.75.75 0 0 1 0-1.06Z"></path>
</svg>
</button><tool-tip id="tooltip-298e46ee-af6d-45f9-b665-93ef8b1b32ad" for="icon-button-2d516a1b-bf36-493e-b139-1b21e3fdf376" popover="manual" data-direction="s" data-type="label" data-view-component="true" class="sr-only position-absolute" aria-hidden="true" role="tooltip"><template shadowrootmode="open"><style>
      :host {
        --tooltip-top: var(--tool-tip-position-top, 0);
        --tooltip-left: var(--tool-tip-position-left, 0);
        padding: var(--overlay-paddingBlock-condensed) var(--overlay-padding-condensed) !important;
        font: var(--text-body-shorthand-small);
        color: var(--tooltip-fgColor, var(--fgColor-onEmphasis)) !important;
        text-align: center;
        text-decoration: none;
        text-shadow: none;
        text-transform: none;
        letter-spacing: normal;
        word-wrap: break-word;
        white-space: pre;
        background: var(--tooltip-bgColor, var(--bgColor-emphasis)) !important;
        border-radius: var(--borderRadius-medium);
        border: 0 !important;
        opacity: 0;
        max-width: var(--overlay-width-small);
        word-wrap: break-word;
        white-space: normal;
        width: max-content !important;
        inset: var(--tooltip-top) auto auto var(--tooltip-left) !important;
        overflow: visible !important;
        text-wrap: balance;
      }

      :host(:is(.tooltip-n, .tooltip-nw, .tooltip-ne)) {
        --tooltip-top: calc(var(--tool-tip-position-top, 0) - var(--overlay-offset, 0.25rem));
        --tooltip-left: var(--tool-tip-position-left);
      }

      :host(:is(.tooltip-s, .tooltip-sw, .tooltip-se)) {
        --tooltip-top: calc(var(--tool-tip-position-top, 0) + var(--overlay-offset, 0.25rem));
        --tooltip-left: var(--tool-tip-position-left);
      }

      :host(.tooltip-w) {
        --tooltip-top: var(--tool-tip-position-top);
        --tooltip-left: calc(var(--tool-tip-position-left, 0) - var(--overlay-offset, 0.25rem));
      }

      :host(.tooltip-e) {
        --tooltip-top: var(--tool-tip-position-top);
        --tooltip-left: calc(var(--tool-tip-position-left, 0) + var(--overlay-offset, 0.25rem));
      }

      :host:after{
        position: absolute;
        display: block;
        right: 0;
        left: 0;
        height: var(--overlay-offset, 0.25rem);
        content: "";
      }

      :host(.tooltip-s):after,
      :host(.tooltip-se):after,
      :host(.tooltip-sw):after {
        bottom: 100%
      }

      :host(.tooltip-n):after,
      :host(.tooltip-ne):after,
      :host(.tooltip-nw):after {
        top: 100%;
      }

      @keyframes tooltip-appear {
        from {
          opacity: 0;
        }
        to {
          opacity: 1;
        }
      }

      :host(:popover-open),
      :host(:popover-open):before {
        animation-name: tooltip-appear;
        animation-duration: .1s;
        animation-fill-mode: forwards;
        animation-timing-function: ease-in;
      }

      :host(.\:popover-open) {
        animation-name: tooltip-appear;
        animation-duration: .1s;
        animation-fill-mode: forwards;
        animation-timing-function: ease-in;
      }

      @media (forced-colors: active) {
        :host {
          outline: solid 1px transparent;
        }

        :host:before {
          display: none;
        }
      }
    </style><slot></slot></template>Dismiss alert</tool-tip>


  
</div>
    </div>

  <div id="start-of-content" class="show-on-focus"></div>








    <div id="js-flash-container" class="flash-container" data-turbo-replace="">




  <template class="js-flash-template"></template>
</div>


    






  <div class="application-main " data-commit-hovercards-enabled="" data-discussion-hovercards-enabled="" data-issue-and-pr-hovercards-enabled="" data-project-hovercards-enabled="">
        <div itemscope="" itemtype="http://schema.org/SoftwareSourceCode" class="">
    <main id="js-repo-pjax-container">
      
      






  
  <div id="repository-container-header" class="pt-3 hide-full-screen" style="background-color: var(--page-header-bgColor, var(--color-page-header-bg));" data-turbo-replace="">

      <div class="d-flex flex-nowrap flex-justify-end mb-3  px-3 px-lg-5" style="gap: 1rem;">

        <div class="flex-auto min-width-0 width-fit">
            
  <div class=" d-flex flex-wrap flex-items-center wb-break-word f3 text-normal">
      <svg aria-hidden="true" height="16" viewBox="0 0 16 16" version="1.1" width="16" data-view-component="true" class="octicon octicon-repo color-fg-muted mr-2">
    <path d="M2 2.5A2.5 2.5 0 0 1 4.5 0h8.75a.75.75 0 0 1 .75.75v12.5a.75.75 0 0 1-.75.75h-2.5a.75.75 0 0 1 0-1.5h1.75v-2h-8a1 1 0 0 0-.714 1.7.75.75 0 1 1-1.072 1.05A2.495 2.495 0 0 1 2 11.5Zm10.5-1h-8a1 1 0 0 0-1 1v6.708A2.486 2.486 0 0 1 4.5 9h8ZM5 12.25a.25.25 0 0 1 .25-.25h3.5a.25.25 0 0 1 .25.25v3.25a.25.25 0 0 1-.4.2l-1.45-1.087a.249.249 0 0 0-.3 0L5.4 15.7a.25.25 0 0 1-.4-.2Z"></path>
</svg>
    
    <span class="author flex-self-stretch" itemprop="author">
      <a class="url fn" rel="author" data-hovercard-type="user" data-hovercard-url="/users/GedelaSruthipriya/hovercard" data-octo-click="hovercard-link-click" data-octo-dimensions="link_type:self" href="https://github.com/GedelaSruthipriya">
        GedelaSruthipriya
</a>    </span>
    <span class="mx-1 flex-self-stretch color-fg-muted">/</span>
    <strong itemprop="name" class="mr-2 flex-self-stretch">
      <a data-pjax="#repo-content-pjax-container" data-turbo-frame="repo-content-turbo-frame" href="https://github.com/GedelaSruthipriya/Main-flow-task3">Main-flow-task3</a>
    </strong>

    <span></span><span class="Label Label--secondary v-align-middle mr-1">Public</span>
  </div>


        </div>

        <div id="repository-details-container" class="flex-shrink-0" data-turbo-replace="" style="max-width: 70%;">
            <ul class="pagehead-actions flex-shrink-0 d-none d-md-inline" style="padding: 2px 0;">
    
      

  <li>
            <a href="https://github.com/login?return_to=%2FGedelaSruthipriya%2FMain-flow-task3" rel="nofollow" id="repository-details-watch-button" data-hydro-click="{&quot;event_type&quot;:&quot;authentication.click&quot;,&quot;payload&quot;:{&quot;location_in_page&quot;:&quot;notification subscription menu watch&quot;,&quot;repository_id&quot;:null,&quot;auth_type&quot;:&quot;LOG_IN&quot;,&quot;originating_url&quot;:&quot;https://github.com/GedelaSruthipriya/Main-flow-task3/blob/main/tas3.ipynb&quot;,&quot;user_id&quot;:null}}" data-hydro-click-hmac="948d1a7f0e098650429c066004dcc01f950614d59a3df158384e647b7edff6fc" aria-label="You must be signed in to change notification settings" data-view-component="true" class="btn-sm btn" aria-describedby="tooltip-b555b1de-5fb2-491b-af0b-0ab3e21f67db">    <svg aria-hidden="true" height="16" viewBox="0 0 16 16" version="1.1" width="16" data-view-component="true" class="octicon octicon-bell mr-2">
    <path d="M8 16a2 2 0 0 0 1.985-1.75c.017-.137-.097-.25-.235-.25h-3.5c-.138 0-.252.113-.235.25A2 2 0 0 0 8 16ZM3 5a5 5 0 0 1 10 0v2.947c0 .05.015.098.042.139l1.703 2.555A1.519 1.519 0 0 1 13.482 13H2.518a1.516 1.516 0 0 1-1.263-2.36l1.703-2.554A.255.255 0 0 0 3 7.947Zm5-3.5A3.5 3.5 0 0 0 4.5 5v2.947c0 .346-.102.683-.294.97l-1.703 2.556a.017.017 0 0 0-.003.01l.001.006c0 .002.002.004.004.006l.006.004.007.001h10.964l.007-.001.006-.004.004-.006.001-.007a.017.017 0 0 0-.003-.01l-1.703-2.554a1.745 1.745 0 0 1-.294-.97V5A3.5 3.5 0 0 0 8 1.5Z"></path>
</svg>Notifications
</a>    <tool-tip id="tooltip-b555b1de-5fb2-491b-af0b-0ab3e21f67db" for="repository-details-watch-button" popover="manual" data-direction="s" data-type="description" data-view-component="true" class="sr-only position-absolute" role="tooltip"><template shadowrootmode="open"><style>
      :host {
        --tooltip-top: var(--tool-tip-position-top, 0);
        --tooltip-left: var(--tool-tip-position-left, 0);
        padding: var(--overlay-paddingBlock-condensed) var(--overlay-padding-condensed) !important;
        font: var(--text-body-shorthand-small);
        color: var(--tooltip-fgColor, var(--fgColor-onEmphasis)) !important;
        text-align: center;
        text-decoration: none;
        text-shadow: none;
        text-transform: none;
        letter-spacing: normal;
        word-wrap: break-word;
        white-space: pre;
        background: var(--tooltip-bgColor, var(--bgColor-emphasis)) !important;
        border-radius: var(--borderRadius-medium);
        border: 0 !important;
        opacity: 0;
        max-width: var(--overlay-width-small);
        word-wrap: break-word;
        white-space: normal;
        width: max-content !important;
        inset: var(--tooltip-top) auto auto var(--tooltip-left) !important;
        overflow: visible !important;
        text-wrap: balance;
      }

      :host(:is(.tooltip-n, .tooltip-nw, .tooltip-ne)) {
        --tooltip-top: calc(var(--tool-tip-position-top, 0) - var(--overlay-offset, 0.25rem));
        --tooltip-left: var(--tool-tip-position-left);
      }

      :host(:is(.tooltip-s, .tooltip-sw, .tooltip-se)) {
        --tooltip-top: calc(var(--tool-tip-position-top, 0) + var(--overlay-offset, 0.25rem));
        --tooltip-left: var(--tool-tip-position-left);
      }

      :host(.tooltip-w) {
        --tooltip-top: var(--tool-tip-position-top);
        --tooltip-left: calc(var(--tool-tip-position-left, 0) - var(--overlay-offset, 0.25rem));
      }

      :host(.tooltip-e) {
        --tooltip-top: var(--tool-tip-position-top);
        --tooltip-left: calc(var(--tool-tip-position-left, 0) + var(--overlay-offset, 0.25rem));
      }

      :host:after{
        position: absolute;
        display: block;
        right: 0;
        left: 0;
        height: var(--overlay-offset, 0.25rem);
        content: "";
      }

      :host(.tooltip-s):after,
      :host(.tooltip-se):after,
      :host(.tooltip-sw):after {
        bottom: 100%
      }

      :host(.tooltip-n):after,
      :host(.tooltip-ne):after,
      :host(.tooltip-nw):after {
        top: 100%;
      }

      @keyframes tooltip-appear {
        from {
          opacity: 0;
        }
        to {
          opacity: 1;
        }
      }

      :host(:popover-open),
      :host(:popover-open):before {
        animation-name: tooltip-appear;
        animation-duration: .1s;
        animation-fill-mode: forwards;
        animation-timing-function: ease-in;
      }

      :host(.\:popover-open) {
        animation-name: tooltip-appear;
        animation-duration: .1s;
        animation-fill-mode: forwards;
        animation-timing-function: ease-in;
      }

      @media (forced-colors: active) {
        :host {
          outline: solid 1px transparent;
        }

        :host:before {
          display: none;
        }
      }
    </style><slot></slot></template>You must be signed in to change notification settings</tool-tip>

  </li>

  <li>
          <a icon="repo-forked" id="fork-button" href="https://github.com/login?return_to=%2FGedelaSruthipriya%2FMain-flow-task3" rel="nofollow" data-hydro-click="{&quot;event_type&quot;:&quot;authentication.click&quot;,&quot;payload&quot;:{&quot;location_in_page&quot;:&quot;repo details fork button&quot;,&quot;repository_id&quot;:1002856541,&quot;auth_type&quot;:&quot;LOG_IN&quot;,&quot;originating_url&quot;:&quot;https://github.com/GedelaSruthipriya/Main-flow-task3/blob/main/tas3.ipynb&quot;,&quot;user_id&quot;:null}}" data-hydro-click-hmac="18afcf20e5a7aaa2407ae8845cf84b99bbc3c0ce0dee0cd60a69177da6cd1508" data-view-component="true" class="btn-sm btn">    <svg aria-hidden="true" height="16" viewBox="0 0 16 16" version="1.1" width="16" data-view-component="true" class="octicon octicon-repo-forked mr-2">
    <path d="M5 5.372v.878c0 .414.336.75.75.75h4.5a.75.75 0 0 0 .75-.75v-.878a2.25 2.25 0 1 1 1.5 0v.878a2.25 2.25 0 0 1-2.25 2.25h-1.5v2.128a2.251 2.251 0 1 1-1.5 0V8.5h-1.5A2.25 2.25 0 0 1 3.5 6.25v-.878a2.25 2.25 0 1 1 1.5 0ZM5 3.25a.75.75 0 1 0-1.5 0 .75.75 0 0 0 1.5 0Zm6.75.75a.75.75 0 1 0 0-1.5.75.75 0 0 0 0 1.5Zm-3 8.75a.75.75 0 1 0-1.5 0 .75.75 0 0 0 1.5 0Z"></path>
</svg>Fork
    <span id="repo-network-counter" data-pjax-replace="true" data-turbo-replace="true" title="0" data-view-component="true" class="Counter">0</span>
</a>
  </li>

  <li>
        <div data-view-component="true" class="BtnGroup d-flex">
        <a href="https://github.com/login?return_to=%2FGedelaSruthipriya%2FMain-flow-task3" rel="nofollow" data-hydro-click="{&quot;event_type&quot;:&quot;authentication.click&quot;,&quot;payload&quot;:{&quot;location_in_page&quot;:&quot;star button&quot;,&quot;repository_id&quot;:1002856541,&quot;auth_type&quot;:&quot;LOG_IN&quot;,&quot;originating_url&quot;:&quot;https://github.com/GedelaSruthipriya/Main-flow-task3/blob/main/tas3.ipynb&quot;,&quot;user_id&quot;:null}}" data-hydro-click-hmac="760219403e301a81823f45c64945cb43ef0200073adcc8cee313c96880f32915" aria-label="You must be signed in to star a repository" data-view-component="true" class="tooltipped tooltipped-sw btn-sm btn">    <svg aria-hidden="true" height="16" viewBox="0 0 16 16" version="1.1" width="16" data-view-component="true" class="octicon octicon-star v-align-text-bottom d-inline-block mr-2">
    <path d="M8 .25a.75.75 0 0 1 .673.418l1.882 3.815 4.21.612a.75.75 0 0 1 .416 1.279l-3.046 2.97.719 4.192a.751.751 0 0 1-1.088.791L8 12.347l-3.766 1.98a.75.75 0 0 1-1.088-.79l.72-4.194L.818 6.374a.75.75 0 0 1 .416-1.28l4.21-.611L7.327.668A.75.75 0 0 1 8 .25Zm0 2.445L6.615 5.5a.75.75 0 0 1-.564.41l-3.097.45 2.24 2.184a.75.75 0 0 1 .216.664l-.528 3.084 2.769-1.456a.75.75 0 0 1 .698 0l2.77 1.456-.53-3.084a.75.75 0 0 1 .216-.664l2.24-2.183-3.096-.45a.75.75 0 0 1-.564-.41L8 2.694Z"></path>
</svg><span data-view-component="true" class="d-inline">
          Star
</span>          <span id="repo-stars-counter-star" aria-label="0 users starred this repository" data-singular-suffix="user starred this repository" data-plural-suffix="users starred this repository" data-turbo-replace="true" title="0" data-view-component="true" class="Counter js-social-count">0</span>
</a></div>
  </li>

</ul>

        </div>
      </div>

        <div id="responsive-meta-container" data-turbo-replace="">
</div>


          <nav data-pjax="#js-repo-pjax-container" aria-label="Repository" data-view-component="true" class="js-repo-nav js-sidenav-container-pjax js-responsive-underlinenav overflow-hidden UnderlineNav px-3 px-md-4 px-lg-5">

  <ul data-view-component="true" class="UnderlineNav-body list-style-none">
      <li data-view-component="true" class="d-inline-flex">
  <a id="code-tab" href="https://github.com/GedelaSruthipriya/Main-flow-task3" data-tab-item="i0code-tab" data-selected-links="repo_source repo_downloads repo_commits repo_releases repo_tags repo_branches repo_packages repo_deployments repo_attestations /GedelaSruthipriya/Main-flow-task3" data-pjax="#repo-content-pjax-container" data-turbo-frame="repo-content-turbo-frame" data-hotkey="g c" data-analytics-event="{&quot;category&quot;:&quot;Underline navbar&quot;,&quot;action&quot;:&quot;Click tab&quot;,&quot;label&quot;:&quot;Code&quot;,&quot;target&quot;:&quot;UNDERLINE_NAV.TAB&quot;}" aria-current="page" data-view-component="true" class="UnderlineNav-item no-wrap js-responsive-underlinenav-item js-selected-navigation-item selected">
    
              <svg aria-hidden="true" height="16" viewBox="0 0 16 16" version="1.1" width="16" data-view-component="true" class="octicon octicon-code UnderlineNav-octicon d-none d-sm-inline">
    <path d="m11.28 3.22 4.25 4.25a.75.75 0 0 1 0 1.06l-4.25 4.25a.749.749 0 0 1-1.275-.326.749.749 0 0 1 .215-.734L13.94 8l-3.72-3.72a.749.749 0 0 1 .326-1.275.749.749 0 0 1 .734.215Zm-6.56 0a.751.751 0 0 1 1.042.018.751.751 0 0 1 .018 1.042L2.06 8l3.72 3.72a.749.749 0 0 1-.326 1.275.749.749 0 0 1-.734-.215L.47 8.53a.75.75 0 0 1 0-1.06Z"></path>
</svg>
        <span data-content="Code">Code</span>
          <span id="code-repo-tab-count" data-pjax-replace="" data-turbo-replace="" title="Not available" data-view-component="true" class="Counter"></span>


    
</a></li>
      <li data-view-component="true" class="d-inline-flex">
  <a id="issues-tab" href="https://github.com/GedelaSruthipriya/Main-flow-task3/issues" data-tab-item="i1issues-tab" data-selected-links="repo_issues repo_labels repo_milestones /GedelaSruthipriya/Main-flow-task3/issues" data-pjax="#repo-content-pjax-container" data-turbo-frame="repo-content-turbo-frame" data-hotkey="g i" data-analytics-event="{&quot;category&quot;:&quot;Underline navbar&quot;,&quot;action&quot;:&quot;Click tab&quot;,&quot;label&quot;:&quot;Issues&quot;,&quot;target&quot;:&quot;UNDERLINE_NAV.TAB&quot;}" data-view-component="true" class="UnderlineNav-item no-wrap js-responsive-underlinenav-item js-selected-navigation-item">
    
              <svg aria-hidden="true" height="16" viewBox="0 0 16 16" version="1.1" width="16" data-view-component="true" class="octicon octicon-issue-opened UnderlineNav-octicon d-none d-sm-inline">
    <path d="M8 9.5a1.5 1.5 0 1 0 0-3 1.5 1.5 0 0 0 0 3Z"></path><path d="M8 0a8 8 0 1 1 0 16A8 8 0 0 1 8 0ZM1.5 8a6.5 6.5 0 1 0 13 0 6.5 6.5 0 0 0-13 0Z"></path>
</svg>
        <span data-content="Issues">Issues</span>
          <span id="issues-repo-tab-count" data-pjax-replace="" data-turbo-replace="" title="0" hidden="hidden" data-view-component="true" class="Counter">0</span>


    
</a></li>
      <li data-view-component="true" class="d-inline-flex">
  <a id="pull-requests-tab" href="https://github.com/GedelaSruthipriya/Main-flow-task3/pulls" data-tab-item="i2pull-requests-tab" data-selected-links="repo_pulls checks /GedelaSruthipriya/Main-flow-task3/pulls" data-pjax="#repo-content-pjax-container" data-turbo-frame="repo-content-turbo-frame" data-hotkey="g p" data-analytics-event="{&quot;category&quot;:&quot;Underline navbar&quot;,&quot;action&quot;:&quot;Click tab&quot;,&quot;label&quot;:&quot;Pull requests&quot;,&quot;target&quot;:&quot;UNDERLINE_NAV.TAB&quot;}" data-view-component="true" class="UnderlineNav-item no-wrap js-responsive-underlinenav-item js-selected-navigation-item">
    
              <svg aria-hidden="true" height="16" viewBox="0 0 16 16" version="1.1" width="16" data-view-component="true" class="octicon octicon-git-pull-request UnderlineNav-octicon d-none d-sm-inline">
    <path d="M1.5 3.25a2.25 2.25 0 1 1 3 2.122v5.256a2.251 2.251 0 1 1-1.5 0V5.372A2.25 2.25 0 0 1 1.5 3.25Zm5.677-.177L9.573.677A.25.25 0 0 1 10 .854V2.5h1A2.5 2.5 0 0 1 13.5 5v5.628a2.251 2.251 0 1 1-1.5 0V5a1 1 0 0 0-1-1h-1v1.646a.25.25 0 0 1-.427.177L7.177 3.427a.25.25 0 0 1 0-.354ZM3.75 2.5a.75.75 0 1 0 0 1.5.75.75 0 0 0 0-1.5Zm0 9.5a.75.75 0 1 0 0 1.5.75.75 0 0 0 0-1.5Zm8.25.75a.75.75 0 1 0 1.5 0 .75.75 0 0 0-1.5 0Z"></path>
</svg>
        <span data-content="Pull requests">Pull requests</span>
          <span id="pull-requests-repo-tab-count" data-pjax-replace="" data-turbo-replace="" title="0" hidden="hidden" data-view-component="true" class="Counter">0</span>


    
</a></li>
      <li data-view-component="true" class="d-inline-flex">
  <a id="actions-tab" href="https://github.com/GedelaSruthipriya/Main-flow-task3/actions" data-tab-item="i3actions-tab" data-selected-links="repo_actions /GedelaSruthipriya/Main-flow-task3/actions" data-pjax="#repo-content-pjax-container" data-turbo-frame="repo-content-turbo-frame" data-hotkey="g a" data-analytics-event="{&quot;category&quot;:&quot;Underline navbar&quot;,&quot;action&quot;:&quot;Click tab&quot;,&quot;label&quot;:&quot;Actions&quot;,&quot;target&quot;:&quot;UNDERLINE_NAV.TAB&quot;}" data-view-component="true" class="UnderlineNav-item no-wrap js-responsive-underlinenav-item js-selected-navigation-item">
    
              <svg aria-hidden="true" height="16" viewBox="0 0 16 16" version="1.1" width="16" data-view-component="true" class="octicon octicon-play UnderlineNav-octicon d-none d-sm-inline">
    <path d="M8 0a8 8 0 1 1 0 16A8 8 0 0 1 8 0ZM1.5 8a6.5 6.5 0 1 0 13 0 6.5 6.5 0 0 0-13 0Zm4.879-2.773 4.264 2.559a.25.25 0 0 1 0 .428l-4.264 2.559A.25.25 0 0 1 6 10.559V5.442a.25.25 0 0 1 .379-.215Z"></path>
</svg>
        <span data-content="Actions">Actions</span>
          <span id="actions-repo-tab-count" data-pjax-replace="" data-turbo-replace="" title="Not available" data-view-component="true" class="Counter"></span>


    
</a></li>
      <li data-view-component="true" class="d-inline-flex">
  <a id="projects-tab" href="https://github.com/GedelaSruthipriya/Main-flow-task3/projects" data-tab-item="i4projects-tab" data-selected-links="repo_projects new_repo_project repo_project /GedelaSruthipriya/Main-flow-task3/projects" data-pjax="#repo-content-pjax-container" data-turbo-frame="repo-content-turbo-frame" data-hotkey="g b" data-analytics-event="{&quot;category&quot;:&quot;Underline navbar&quot;,&quot;action&quot;:&quot;Click tab&quot;,&quot;label&quot;:&quot;Projects&quot;,&quot;target&quot;:&quot;UNDERLINE_NAV.TAB&quot;}" data-view-component="true" class="UnderlineNav-item no-wrap js-responsive-underlinenav-item js-selected-navigation-item">
    
              <svg aria-hidden="true" height="16" viewBox="0 0 16 16" version="1.1" width="16" data-view-component="true" class="octicon octicon-table UnderlineNav-octicon d-none d-sm-inline">
    <path d="M0 1.75C0 .784.784 0 1.75 0h12.5C15.216 0 16 .784 16 1.75v12.5A1.75 1.75 0 0 1 14.25 16H1.75A1.75 1.75 0 0 1 0 14.25ZM6.5 6.5v8h7.75a.25.25 0 0 0 .25-.25V6.5Zm8-1.5V1.75a.25.25 0 0 0-.25-.25H6.5V5Zm-13 1.5v7.75c0 .138.112.25.25.25H5v-8ZM5 5V1.5H1.75a.25.25 0 0 0-.25.25V5Z"></path>
</svg>
        <span data-content="Projects">Projects</span>
          <span id="projects-repo-tab-count" data-pjax-replace="" data-turbo-replace="" title="0" hidden="hidden" data-view-component="true" class="Counter">0</span>


    
</a></li>
      <li data-view-component="true" class="d-inline-flex">
  <a id="security-tab" href="https://github.com/GedelaSruthipriya/Main-flow-task3/security" data-tab-item="i5security-tab" data-selected-links="security overview alerts policy token_scanning code_scanning /GedelaSruthipriya/Main-flow-task3/security" data-pjax="#repo-content-pjax-container" data-turbo-frame="repo-content-turbo-frame" data-hotkey="g s" data-analytics-event="{&quot;category&quot;:&quot;Underline navbar&quot;,&quot;action&quot;:&quot;Click tab&quot;,&quot;label&quot;:&quot;Security&quot;,&quot;target&quot;:&quot;UNDERLINE_NAV.TAB&quot;}" data-view-component="true" class="UnderlineNav-item no-wrap js-responsive-underlinenav-item js-selected-navigation-item">
    
              <svg aria-hidden="true" height="16" viewBox="0 0 16 16" version="1.1" width="16" data-view-component="true" class="octicon octicon-shield UnderlineNav-octicon d-none d-sm-inline">
    <path d="M7.467.133a1.748 1.748 0 0 1 1.066 0l5.25 1.68A1.75 1.75 0 0 1 15 3.48V7c0 1.566-.32 3.182-1.303 4.682-.983 1.498-2.585 2.813-5.032 3.855a1.697 1.697 0 0 1-1.33 0c-2.447-1.042-4.049-2.357-5.032-3.855C1.32 10.182 1 8.566 1 7V3.48a1.75 1.75 0 0 1 1.217-1.667Zm.61 1.429a.25.25 0 0 0-.153 0l-5.25 1.68a.25.25 0 0 0-.174.238V7c0 1.358.275 2.666 1.057 3.86.784 1.194 2.121 2.34 4.366 3.297a.196.196 0 0 0 .154 0c2.245-.956 3.582-2.104 4.366-3.298C13.225 9.666 13.5 8.36 13.5 7V3.48a.251.251 0 0 0-.174-.237l-5.25-1.68ZM8.75 4.75v3a.75.75 0 0 1-1.5 0v-3a.75.75 0 0 1 1.5 0ZM9 10.5a1 1 0 1 1-2 0 1 1 0 0 1 2 0Z"></path>
</svg>
        <span data-content="Security">Security</span>
          </a><div data-show-on-forbidden-error="" hidden=""><a id="security-tab" href="https://github.com/GedelaSruthipriya/Main-flow-task3/security" data-tab-item="i5security-tab" data-selected-links="security overview alerts policy token_scanning code_scanning /GedelaSruthipriya/Main-flow-task3/security" data-pjax="#repo-content-pjax-container" data-turbo-frame="repo-content-turbo-frame" data-hotkey="g s" data-analytics-event="{&quot;category&quot;:&quot;Underline navbar&quot;,&quot;action&quot;:&quot;Click tab&quot;,&quot;label&quot;:&quot;Security&quot;,&quot;target&quot;:&quot;UNDERLINE_NAV.TAB&quot;}" data-view-component="true" class="UnderlineNav-item no-wrap js-responsive-underlinenav-item js-selected-navigation-item">
    </a><div class="Box"><a id="security-tab" href="https://github.com/GedelaSruthipriya/Main-flow-task3/security" data-tab-item="i5security-tab" data-selected-links="security overview alerts policy token_scanning code_scanning /GedelaSruthipriya/Main-flow-task3/security" data-pjax="#repo-content-pjax-container" data-turbo-frame="repo-content-turbo-frame" data-hotkey="g s" data-analytics-event="{&quot;category&quot;:&quot;Underline navbar&quot;,&quot;action&quot;:&quot;Click tab&quot;,&quot;label&quot;:&quot;Security&quot;,&quot;target&quot;:&quot;UNDERLINE_NAV.TAB&quot;}" data-view-component="true" class="UnderlineNav-item no-wrap js-responsive-underlinenav-item js-selected-navigation-item">
  </a><div class="blankslate-container"><a id="security-tab" href="https://github.com/GedelaSruthipriya/Main-flow-task3/security" data-tab-item="i5security-tab" data-selected-links="security overview alerts policy token_scanning code_scanning /GedelaSruthipriya/Main-flow-task3/security" data-pjax="#repo-content-pjax-container" data-turbo-frame="repo-content-turbo-frame" data-hotkey="g s" data-analytics-event="{&quot;category&quot;:&quot;Underline navbar&quot;,&quot;action&quot;:&quot;Click tab&quot;,&quot;label&quot;:&quot;Security&quot;,&quot;target&quot;:&quot;UNDERLINE_NAV.TAB&quot;}" data-view-component="true" class="UnderlineNav-item no-wrap js-responsive-underlinenav-item js-selected-navigation-item">
    </a><div data-view-component="true" class="blankslate blankslate-spacious color-bg-default rounded-2"><a id="security-tab" href="https://github.com/GedelaSruthipriya/Main-flow-task3/security" data-tab-item="i5security-tab" data-selected-links="security overview alerts policy token_scanning code_scanning /GedelaSruthipriya/Main-flow-task3/security" data-pjax="#repo-content-pjax-container" data-turbo-frame="repo-content-turbo-frame" data-hotkey="g s" data-analytics-event="{&quot;category&quot;:&quot;Underline navbar&quot;,&quot;action&quot;:&quot;Click tab&quot;,&quot;label&quot;:&quot;Security&quot;,&quot;target&quot;:&quot;UNDERLINE_NAV.TAB&quot;}" data-view-component="true" class="UnderlineNav-item no-wrap js-responsive-underlinenav-item js-selected-navigation-item">
      

      <h3 data-view-component="true" class="blankslate-heading">        Uh oh!
</h3>
      <p data-view-component="true">        </p></a><p class="color-fg-muted my-2 mb-2 ws-normal"><a id="security-tab" href="https://github.com/GedelaSruthipriya/Main-flow-task3/security" data-tab-item="i5security-tab" data-selected-links="security overview alerts policy token_scanning code_scanning /GedelaSruthipriya/Main-flow-task3/security" data-pjax="#repo-content-pjax-container" data-turbo-frame="repo-content-turbo-frame" data-hotkey="g s" data-analytics-event="{&quot;category&quot;:&quot;Underline navbar&quot;,&quot;action&quot;:&quot;Click tab&quot;,&quot;label&quot;:&quot;Security&quot;,&quot;target&quot;:&quot;UNDERLINE_NAV.TAB&quot;}" data-view-component="true" class="UnderlineNav-item no-wrap js-responsive-underlinenav-item js-selected-navigation-item">There was an error while loading. </a><a class="Link--inTextBlock" data-turbo="false" href="https://github.com/GedelaSruthipriya/Main-flow-task3/blob/main/tas3.ipynb" aria-label="Please reload this page">Please reload this page</a>.</p>
<p></p>

</div>  </div>
</div>  </div>


    
</li>
      <li data-view-component="true" class="d-inline-flex">
  <a id="insights-tab" href="https://github.com/GedelaSruthipriya/Main-flow-task3/pulse" data-tab-item="i6insights-tab" data-selected-links="repo_graphs repo_contributors dependency_graph dependabot_updates pulse people community /GedelaSruthipriya/Main-flow-task3/pulse" data-pjax="#repo-content-pjax-container" data-turbo-frame="repo-content-turbo-frame" data-analytics-event="{&quot;category&quot;:&quot;Underline navbar&quot;,&quot;action&quot;:&quot;Click tab&quot;,&quot;label&quot;:&quot;Insights&quot;,&quot;target&quot;:&quot;UNDERLINE_NAV.TAB&quot;}" data-view-component="true" class="UnderlineNav-item no-wrap js-responsive-underlinenav-item js-selected-navigation-item">
    
              <svg aria-hidden="true" height="16" viewBox="0 0 16 16" version="1.1" width="16" data-view-component="true" class="octicon octicon-graph UnderlineNav-octicon d-none d-sm-inline">
    <path d="M1.5 1.75V13.5h13.75a.75.75 0 0 1 0 1.5H.75a.75.75 0 0 1-.75-.75V1.75a.75.75 0 0 1 1.5 0Zm14.28 2.53-5.25 5.25a.75.75 0 0 1-1.06 0L7 7.06 4.28 9.78a.751.751 0 0 1-1.042-.018.751.751 0 0 1-.018-1.042l3.25-3.25a.75.75 0 0 1 1.06 0L10 7.94l4.72-4.72a.751.751 0 0 1 1.042.018.751.751 0 0 1 .018 1.042Z"></path>
</svg>
        <span data-content="Insights">Insights</span>
          <span id="insights-repo-tab-count" data-pjax-replace="" data-turbo-replace="" title="Not available" data-view-component="true" class="Counter"></span>


    
</a></li>
</ul>
    <div style="visibility:hidden;" data-view-component="true" class="UnderlineNav-actions js-responsive-underlinenav-overflow position-absolute pr-3 pr-md-4 pr-lg-5 right-0">      <action-menu data-select-variant="none" data-view-component="true" data-catalyst="" data-ready="true">
  <focus-group direction="vertical" mnemonics="" retain="">
    <button id="action-menu-b9681c6c-ffd8-4035-b6d4-423032435f61-button" popovertarget="action-menu-b9681c6c-ffd8-4035-b6d4-423032435f61-overlay" aria-controls="action-menu-b9681c6c-ffd8-4035-b6d4-423032435f61-list" aria-haspopup="true" aria-labelledby="tooltip-9d05c0d7-bcfd-49dc-9e8e-ab7c23023737" type="button" data-view-component="true" class="Button Button--iconOnly Button--secondary Button--medium UnderlineNav-item">  <svg aria-hidden="true" height="16" viewBox="0 0 16 16" version="1.1" width="16" data-view-component="true" class="octicon octicon-kebab-horizontal Button-visual">
    <path d="M8 9a1.5 1.5 0 1 0 0-3 1.5 1.5 0 0 0 0 3ZM1.5 9a1.5 1.5 0 1 0 0-3 1.5 1.5 0 0 0 0 3Zm13 0a1.5 1.5 0 1 0 0-3 1.5 1.5 0 0 0 0 3Z"></path>
</svg>
</button><tool-tip id="tooltip-9d05c0d7-bcfd-49dc-9e8e-ab7c23023737" for="action-menu-b9681c6c-ffd8-4035-b6d4-423032435f61-button" popover="manual" data-direction="s" data-type="label" data-view-component="true" class="sr-only position-absolute" aria-hidden="true" role="tooltip"><template shadowrootmode="open"><style>
      :host {
        --tooltip-top: var(--tool-tip-position-top, 0);
        --tooltip-left: var(--tool-tip-position-left, 0);
        padding: var(--overlay-paddingBlock-condensed) var(--overlay-padding-condensed) !important;
        font: var(--text-body-shorthand-small);
        color: var(--tooltip-fgColor, var(--fgColor-onEmphasis)) !important;
        text-align: center;
        text-decoration: none;
        text-shadow: none;
        text-transform: none;
        letter-spacing: normal;
        word-wrap: break-word;
        white-space: pre;
        background: var(--tooltip-bgColor, var(--bgColor-emphasis)) !important;
        border-radius: var(--borderRadius-medium);
        border: 0 !important;
        opacity: 0;
        max-width: var(--overlay-width-small);
        word-wrap: break-word;
        white-space: normal;
        width: max-content !important;
        inset: var(--tooltip-top) auto auto var(--tooltip-left) !important;
        overflow: visible !important;
        text-wrap: balance;
      }

      :host(:is(.tooltip-n, .tooltip-nw, .tooltip-ne)) {
        --tooltip-top: calc(var(--tool-tip-position-top, 0) - var(--overlay-offset, 0.25rem));
        --tooltip-left: var(--tool-tip-position-left);
      }

      :host(:is(.tooltip-s, .tooltip-sw, .tooltip-se)) {
        --tooltip-top: calc(var(--tool-tip-position-top, 0) + var(--overlay-offset, 0.25rem));
        --tooltip-left: var(--tool-tip-position-left);
      }

      :host(.tooltip-w) {
        --tooltip-top: var(--tool-tip-position-top);
        --tooltip-left: calc(var(--tool-tip-position-left, 0) - var(--overlay-offset, 0.25rem));
      }

      :host(.tooltip-e) {
        --tooltip-top: var(--tool-tip-position-top);
        --tooltip-left: calc(var(--tool-tip-position-left, 0) + var(--overlay-offset, 0.25rem));
      }

      :host:after{
        position: absolute;
        display: block;
        right: 0;
        left: 0;
        height: var(--overlay-offset, 0.25rem);
        content: "";
      }

      :host(.tooltip-s):after,
      :host(.tooltip-se):after,
      :host(.tooltip-sw):after {
        bottom: 100%
      }

      :host(.tooltip-n):after,
      :host(.tooltip-ne):after,
      :host(.tooltip-nw):after {
        top: 100%;
      }

      @keyframes tooltip-appear {
        from {
          opacity: 0;
        }
        to {
          opacity: 1;
        }
      }

      :host(:popover-open),
      :host(:popover-open):before {
        animation-name: tooltip-appear;
        animation-duration: .1s;
        animation-fill-mode: forwards;
        animation-timing-function: ease-in;
      }

      :host(.\:popover-open) {
        animation-name: tooltip-appear;
        animation-duration: .1s;
        animation-fill-mode: forwards;
        animation-timing-function: ease-in;
      }

      @media (forced-colors: active) {
        :host {
          outline: solid 1px transparent;
        }

        :host:before {
          display: none;
        }
      }
    </style><slot></slot></template>Additional navigation options</tool-tip>


<anchored-position data-target="action-menu.overlay" id="action-menu-b9681c6c-ffd8-4035-b6d4-423032435f61-overlay" anchor="action-menu-b9681c6c-ffd8-4035-b6d4-423032435f61-button" align="start" side="outside-bottom" anchor-offset="normal" popover="auto" data-view-component="true" style="inset: 36px auto auto 0px;">
  <div data-view-component="true" class="Overlay Overlay--size-auto">
    
      <div data-view-component="true" class="Overlay-body Overlay-body--paddingNone">          <action-list data-catalyst="">
  <div data-view-component="true">
    <ul aria-labelledby="action-menu-b9681c6c-ffd8-4035-b6d4-423032435f61-button" id="action-menu-b9681c6c-ffd8-4035-b6d4-423032435f61-list" role="menu" data-view-component="true" class="ActionListWrap--inset ActionListWrap">
        <li hidden="" data-menu-item="i0code-tab" data-targets="action-list.items" role="none" data-view-component="true" class="ActionListItem">
    
    
    <a tabindex="-1" id="item-ff6d7b3f-6427-44ee-a377-1518900f0e96" href="https://github.com/GedelaSruthipriya/Main-flow-task3" role="menuitem" data-view-component="true" class="ActionListContent ActionListContent--visual16">
        <span class="ActionListItem-visual ActionListItem-visual--leading">
          <svg aria-hidden="true" height="16" viewBox="0 0 16 16" version="1.1" width="16" data-view-component="true" class="octicon octicon-code">
    <path d="m11.28 3.22 4.25 4.25a.75.75 0 0 1 0 1.06l-4.25 4.25a.749.749 0 0 1-1.275-.326.749.749 0 0 1 .215-.734L13.94 8l-3.72-3.72a.749.749 0 0 1 .326-1.275.749.749 0 0 1 .734.215Zm-6.56 0a.751.751 0 0 1 1.042.018.751.751 0 0 1 .018 1.042L2.06 8l3.72 3.72a.749.749 0 0 1-.326 1.275.749.749 0 0 1-.734-.215L.47 8.53a.75.75 0 0 1 0-1.06Z"></path>
</svg>
        </span>
      
        <span data-view-component="true" class="ActionListItem-label">
          Code
</span>      
</a>
  
</li>
        <li hidden="" data-menu-item="i1issues-tab" data-targets="action-list.items" role="none" data-view-component="true" class="ActionListItem">
    
    
    <a tabindex="-1" id="item-f054d25e-548e-4bcf-9713-f3f88b3a2c71" href="https://github.com/GedelaSruthipriya/Main-flow-task3/issues" role="menuitem" data-view-component="true" class="ActionListContent ActionListContent--visual16">
        <span class="ActionListItem-visual ActionListItem-visual--leading">
          <svg aria-hidden="true" height="16" viewBox="0 0 16 16" version="1.1" width="16" data-view-component="true" class="octicon octicon-issue-opened">
    <path d="M8 9.5a1.5 1.5 0 1 0 0-3 1.5 1.5 0 0 0 0 3Z"></path><path d="M8 0a8 8 0 1 1 0 16A8 8 0 0 1 8 0ZM1.5 8a6.5 6.5 0 1 0 13 0 6.5 6.5 0 0 0-13 0Z"></path>
</svg>
        </span>
      
        <span data-view-component="true" class="ActionListItem-label">
          Issues
</span>      
</a>
  
</li>
        <li hidden="" data-menu-item="i2pull-requests-tab" data-targets="action-list.items" role="none" data-view-component="true" class="ActionListItem">
    
    
    <a tabindex="-1" id="item-fec1b175-1ec7-40c9-913a-52504f8c773d" href="https://github.com/GedelaSruthipriya/Main-flow-task3/pulls" role="menuitem" data-view-component="true" class="ActionListContent ActionListContent--visual16">
        <span class="ActionListItem-visual ActionListItem-visual--leading">
          <svg aria-hidden="true" height="16" viewBox="0 0 16 16" version="1.1" width="16" data-view-component="true" class="octicon octicon-git-pull-request">
    <path d="M1.5 3.25a2.25 2.25 0 1 1 3 2.122v5.256a2.251 2.251 0 1 1-1.5 0V5.372A2.25 2.25 0 0 1 1.5 3.25Zm5.677-.177L9.573.677A.25.25 0 0 1 10 .854V2.5h1A2.5 2.5 0 0 1 13.5 5v5.628a2.251 2.251 0 1 1-1.5 0V5a1 1 0 0 0-1-1h-1v1.646a.25.25 0 0 1-.427.177L7.177 3.427a.25.25 0 0 1 0-.354ZM3.75 2.5a.75.75 0 1 0 0 1.5.75.75 0 0 0 0-1.5Zm0 9.5a.75.75 0 1 0 0 1.5.75.75 0 0 0 0-1.5Zm8.25.75a.75.75 0 1 0 1.5 0 .75.75 0 0 0-1.5 0Z"></path>
</svg>
        </span>
      
        <span data-view-component="true" class="ActionListItem-label">
          Pull requests
</span>      
</a>
  
</li>
        <li hidden="" data-menu-item="i3actions-tab" data-targets="action-list.items" role="none" data-view-component="true" class="ActionListItem">
    
    
    <a tabindex="-1" id="item-83497deb-efdc-4df2-9c05-606b8ca40531" href="https://github.com/GedelaSruthipriya/Main-flow-task3/actions" role="menuitem" data-view-component="true" class="ActionListContent ActionListContent--visual16">
        <span class="ActionListItem-visual ActionListItem-visual--leading">
          <svg aria-hidden="true" height="16" viewBox="0 0 16 16" version="1.1" width="16" data-view-component="true" class="octicon octicon-play">
    <path d="M8 0a8 8 0 1 1 0 16A8 8 0 0 1 8 0ZM1.5 8a6.5 6.5 0 1 0 13 0 6.5 6.5 0 0 0-13 0Zm4.879-2.773 4.264 2.559a.25.25 0 0 1 0 .428l-4.264 2.559A.25.25 0 0 1 6 10.559V5.442a.25.25 0 0 1 .379-.215Z"></path>
</svg>
        </span>
      
        <span data-view-component="true" class="ActionListItem-label">
          Actions
</span>      
</a>
  
</li>
        <li hidden="" data-menu-item="i4projects-tab" data-targets="action-list.items" role="none" data-view-component="true" class="ActionListItem">
    
    
    <a tabindex="-1" id="item-14eadcb2-edd2-42a0-9b82-5d7fe2e555f0" href="https://github.com/GedelaSruthipriya/Main-flow-task3/projects" role="menuitem" data-view-component="true" class="ActionListContent ActionListContent--visual16">
        <span class="ActionListItem-visual ActionListItem-visual--leading">
          <svg aria-hidden="true" height="16" viewBox="0 0 16 16" version="1.1" width="16" data-view-component="true" class="octicon octicon-table">
    <path d="M0 1.75C0 .784.784 0 1.75 0h12.5C15.216 0 16 .784 16 1.75v12.5A1.75 1.75 0 0 1 14.25 16H1.75A1.75 1.75 0 0 1 0 14.25ZM6.5 6.5v8h7.75a.25.25 0 0 0 .25-.25V6.5Zm8-1.5V1.75a.25.25 0 0 0-.25-.25H6.5V5Zm-13 1.5v7.75c0 .138.112.25.25.25H5v-8ZM5 5V1.5H1.75a.25.25 0 0 0-.25.25V5Z"></path>
</svg>
        </span>
      
        <span data-view-component="true" class="ActionListItem-label">
          Projects
</span>      
</a>
  
</li>
        <li hidden="" data-menu-item="i5security-tab" data-targets="action-list.items" role="none" data-view-component="true" class="ActionListItem">
    
    
    <a tabindex="-1" id="item-4c40ee4f-478b-4dbe-8c18-645b26566915" href="https://github.com/GedelaSruthipriya/Main-flow-task3/security" role="menuitem" data-view-component="true" class="ActionListContent ActionListContent--visual16">
        <span class="ActionListItem-visual ActionListItem-visual--leading">
          <svg aria-hidden="true" height="16" viewBox="0 0 16 16" version="1.1" width="16" data-view-component="true" class="octicon octicon-shield">
    <path d="M7.467.133a1.748 1.748 0 0 1 1.066 0l5.25 1.68A1.75 1.75 0 0 1 15 3.48V7c0 1.566-.32 3.182-1.303 4.682-.983 1.498-2.585 2.813-5.032 3.855a1.697 1.697 0 0 1-1.33 0c-2.447-1.042-4.049-2.357-5.032-3.855C1.32 10.182 1 8.566 1 7V3.48a1.75 1.75 0 0 1 1.217-1.667Zm.61 1.429a.25.25 0 0 0-.153 0l-5.25 1.68a.25.25 0 0 0-.174.238V7c0 1.358.275 2.666 1.057 3.86.784 1.194 2.121 2.34 4.366 3.297a.196.196 0 0 0 .154 0c2.245-.956 3.582-2.104 4.366-3.298C13.225 9.666 13.5 8.36 13.5 7V3.48a.251.251 0 0 0-.174-.237l-5.25-1.68ZM8.75 4.75v3a.75.75 0 0 1-1.5 0v-3a.75.75 0 0 1 1.5 0ZM9 10.5a1 1 0 1 1-2 0 1 1 0 0 1 2 0Z"></path>
</svg>
        </span>
      
        <span data-view-component="true" class="ActionListItem-label">
          Security
</span>      
</a>
  
</li>
        <li hidden="" data-menu-item="i6insights-tab" data-targets="action-list.items" role="none" data-view-component="true" class="ActionListItem">
    
    
    <a tabindex="-1" id="item-fe46947c-4d7c-4927-9e1f-3e259208ab76" href="https://github.com/GedelaSruthipriya/Main-flow-task3/pulse" role="menuitem" data-view-component="true" class="ActionListContent ActionListContent--visual16">
        <span class="ActionListItem-visual ActionListItem-visual--leading">
          <svg aria-hidden="true" height="16" viewBox="0 0 16 16" version="1.1" width="16" data-view-component="true" class="octicon octicon-graph">
    <path d="M1.5 1.75V13.5h13.75a.75.75 0 0 1 0 1.5H.75a.75.75 0 0 1-.75-.75V1.75a.75.75 0 0 1 1.5 0Zm14.28 2.53-5.25 5.25a.75.75 0 0 1-1.06 0L7 7.06 4.28 9.78a.751.751 0 0 1-1.042-.018.751.751 0 0 1-.018-1.042l3.25-3.25a.75.75 0 0 1 1.06 0L10 7.94l4.72-4.72a.751.751 0 0 1 1.042.018.751.751 0 0 1 .018 1.042Z"></path>
</svg>
        </span>
      
        <span data-view-component="true" class="ActionListItem-label">
          Insights
</span>      
</a>
  
</li>
</ul>    
</div></action-list>


</div>
      
</div></anchored-position>  </focus-group>
</action-menu></div>
</nav>

  </div>

  



<turbo-frame id="repo-content-turbo-frame" target="_top" data-turbo-action="advance" class="">
    <div id="repo-content-pjax-container" class="repository-content ">
    



    
      
    








<react-app app-name="react-code-view" initial-path="/GedelaSruthipriya/Main-flow-task3/blob/main/tas3.ipynb" style="display: block; min-height: calc(100vh - 64px);" data-attempted-ssr="false" data-ssr="false" data-lazy="false" data-alternate="false" data-data-router-enabled="false" data-react-profiling="false" data-catalyst="" class="loaded">
  
  <script type="application/json" data-target="react-app.embeddedData">{"payload":{"allShortcutsEnabled":false,"fileTree":{"":{"items":[{"name":"tas3.ipynb","path":"tas3.ipynb","contentType":"file"}],"totalCount":1}},"fileTreeProcessingTime":1.510505,"foldersToFetch":[],"incompleteFileTree":false,"repo":{"id":1002856541,"defaultBranch":"main","name":"Main-flow-task3","ownerLogin":"GedelaSruthipriya","currentUserCanPush":false,"isFork":false,"isEmpty":false,"createdAt":"2025-06-16T08:49:23.000Z","ownerAvatar":"https://avatars.githubusercontent.com/u/210998044?v=4","public":true,"private":false,"isOrgOwned":false},"codeLineWrapEnabled":false,"symbolsExpanded":false,"treeExpanded":true,"refInfo":{"name":"main","listCacheKey":"v0:1750063812.0","canEdit":false,"refType":"branch","currentOid":"44d223d5e3948d2342d670d769832dd814881242"},"path":"tas3.ipynb","currentUser":null,"blob":{"rawLines":["{"," \"cells\": [","  {","   \"cell_type\": \"code\",","   \"execution_count\": 1,","   \"id\": \"07645318-813f-45b7-9475-08066f33db06\",","   \"metadata\": {},","   \"outputs\": [],","   \"source\": [","    \"import pandas as pd\\n\",","    \"import numpy as np\\n\",","    \"\\n\",","    \"# Create dummy dataset with 30 customers\\n\",","    \"data = {\\n\",","    \"    \\\"Customer ID\\\": [f\\\"C{i:03d}\\\" for i in range(1, 31)],\\n\",","    \"    \\\"Age\\\": np.random.randint(18, 60, 30),\\n\",","    \"    \\\"Annual Income\\\": np.random.randint(15000, 100000, 30),\\n\",","    \"    \\\"Spending Score\\\": np.random.randint(1, 100, 30)\\n\",","    \"}\\n\",","    \"df = pd.DataFrame(data)\\n\"","   ]","  },","  {","   \"cell_type\": \"code\",","   \"execution_count\": 2,","   \"id\": \"fa1badd0-e97d-4dd8-947f-bd6138e85ea5\",","   \"metadata\": {},","   \"outputs\": [","    {","     \"name\": \"stdout\",","     \"output_type\": \"stream\",","     \"text\": [","      \"(30, 4)\\n\",","      \"Customer ID       0\\n\",","      \"Age               0\\n\",","      \"Annual Income     0\\n\",","      \"Spending Score    0\\n\",","      \"dtype: int64\\n\",","      \"0\\n\",","      \"Customer ID       object\\n\",","      \"Age                int32\\n\",","      \"Annual Income      int32\\n\",","      \"Spending Score     int32\\n\",","      \"dtype: object\\n\",","      \"             Age  Annual Income  Spending Score\\n\",","      \"count  30.000000      30.000000       30.000000\\n\",","      \"mean   36.900000   61050.766667       54.266667\\n\",","      \"std    11.821517   25880.319780       33.746451\\n\",","      \"min    18.000000   15891.000000        3.000000\\n\",","      \"25%    25.000000   43762.500000       28.000000\\n\",","      \"50%    36.500000   63434.500000       45.500000\\n\",","      \"75%    46.500000   85209.000000       84.750000\\n\",","      \"max    58.000000   97795.000000       99.000000\\n\"","     ]","    }","   ],","   \"source\": [","    \"print(df.shape)\\n\",","    \"print(df.isnull().sum())\\n\",","    \"print(df.duplicated().sum())\\n\",","    \"print(df.dtypes)\\n\",","    \"print(df.describe())\\n\"","   ]","  },","  {","   \"cell_type\": \"code\",","   \"execution_count\": 3,","   \"id\": \"156de3ce-335e-4064-bf0e-44ddcf6fe8eb\",","   \"metadata\": {},","   \"outputs\": [],","   \"source\": [","    \"from sklearn.preprocessing import StandardScaler\\n\",","    \"\\n\",","    \"features = df[[\\\"Age\\\", \\\"Annual Income\\\", \\\"Spending Score\\\"]]\\n\",","    \"scaler = StandardScaler()\\n\",","    \"scaled_features = scaler.fit_transform(features)\\n\"","   ]","  },","  {","   \"cell_type\": \"code\",","   \"execution_count\": 4,","   \"id\": \"25611903-53df-4f1e-969e-d921137cb98a\",","   \"metadata\": {},","   \"outputs\": [","    {","     \"data\": {","      \"image/png\": \"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\",","      \"text/plain\": [","       \"\u003cFigure size 800x400 with 1 Axes\u003e\"","      ]","     },","     \"metadata\": {},","     \"output_type\": \"display_data\"","    }","   ],","   \"source\": [","    \"from sklearn.cluster import KMeans\\n\",","    \"import matplotlib.pyplot as plt\\n\",","    \"\\n\",","    \"wcss = []\\n\",","    \"for i in range(1, 11):\\n\",","    \"    kmeans = KMeans(n_clusters=i, random_state=42, n_init=10)\\n\",","    \"    kmeans.fit(scaled_features)\\n\",","    \"    wcss.append(kmeans.inertia_)\\n\",","    \"\\n\",","    \"plt.figure(figsize=(8, 4))\\n\",","    \"plt.plot(range(1, 11), wcss, marker='o')\\n\",","    \"plt.title('Elbow Method for Optimal Clusters')\\n\",","    \"plt.xlabel('Number of Clusters')\\n\",","    \"plt.ylabel('WCSS')\\n\",","    \"plt.grid(True)\\n\",","    \"plt.show()\\n\"","   ]","  },","  {","   \"cell_type\": \"code\",","   \"execution_count\": 5,","   \"id\": \"26ed5ff4-de6b-49e1-91a4-ad4c6080f2f2\",","   \"metadata\": {},","   \"outputs\": [],","   \"source\": [","    \"optimal_clusters = 4\\n\",","    \"kmeans = KMeans(n_clusters=optimal_clusters, random_state=42, n_init=10)\\n\",","    \"df['Cluster'] = kmeans.fit_predict(scaled_features)\\n\"","   ]","  },","  {","   \"cell_type\": \"code\",","   \"execution_count\": 6,","   \"id\": \"1bf53df7-44f7-4578-8d64-50b60b7d0d2c\",","   \"metadata\": {},","   \"outputs\": [","    {","     \"name\": \"stdout\",","     \"output_type\": \"stream\",","     \"text\": [","      \"Silhouette Score: 0.3656883690221573\\n\"","     ]","    }","   ],","   \"source\": [","    \"from sklearn.metrics import silhouette_score\\n\",","    \"\\n\",","    \"sil_score = silhouette_score(scaled_features, df['Cluster'])\\n\",","    \"print(\\\"Silhouette Score:\\\", sil_score)\\n\"","   ]","  },","  {","   \"cell_type\": \"code\",","   \"execution_count\": 7,","   \"id\": \"740119a3-d113-4ca7-a4b1-62c0ffb4fe0f\",","   \"metadata\": {},","   \"outputs\": [],","   \"source\": [","    \"from sklearn.decomposition import PCA\\n\",","    \"\\n\",","    \"pca = PCA(n_components=2)\\n\",","    \"pca_features = pca.fit_transform(scaled_features)\\n\",","    \"df['PCA1'] = pca_features[:, 0]\\n\",","    \"df['PCA2'] = pca_features[:, 1]\\n\"","   ]","  },","  {","   \"cell_type\": \"code\",","   \"execution_count\": 8,","   \"id\": \"e67819e9-715f-4a86-90b9-44e38a3b3593\",","   \"metadata\": {},","   \"outputs\": [","    {","     \"data\": {","      \"image/png\": \"iVBORw0KGgoAAAANSUhEUgAAAr4AAAIjCAYAAADlfxjoAAAAOnRFWHRTb2Z0d2FyZQBNYXRwbG90bGliIHZlcnNpb24zLjEwLjMsIGh0dHBzOi8vbWF0cGxvdGxpYi5vcmcvZiW1igAAAAlwSFlzAAAPYQAAD2EBqD+naQAAgjZJREFUeJzt3Qd4VNXWBuBvWnpCb4HQe+8IKIJUQQT0KogKqGBDfxEscK8I2BArFuzSbGABVHoH6b33GnonIX3K+Z+1uZObNslMyGTa9/qMIWfOmdmzcyZZs87ae+s0TdNAREREROTn9J5uABERERFRYWDgS0REREQBgYEvEREREQUEBr5EREREFBAY+BIRERFRQGDgS0REREQBgYEvEREREQUEBr5EREREFBAY+BIRERFRQGDgS0REOerevTuGDBni6WYEvPbt26tbYVu5ciV0Op366i5XrlxBeHg45s+f77bnIMqIgS+Rmx09ehRPPfUUqlatipCQEERFRaFt27b45JNPkJyc7Jbn/PnnnzFx4kT4q927d+Nf//oXKlWqpPq0fPny6Ny5Mz777DMEmrNnz2Ls2LHYsWNHgT7u2rVrsXjxYrz66qvp2w4cOIBXXnkFjRs3RmRkJMqVK4cePXpgy5Yt2Y4fNGiQCprst4iICPUekJ/bH3/8AZvN5lQ75LVlfJywsDDUrVsXr732GuLj42/5/Wa1WhEdHa0ee8GCBS4HhfabyWRSzzlgwAAcO3YMvuSLL77A1KlTPfLcJUqUwODBgzF69GiPPD8FHp2maZqnG0Hkr+bNm4cHHngAwcHB6g9i/fr1kZaWhjVr1qg//hIcfPPNNwX+vPfccw/27NmDEydOwN+sW7cOHTp0QMWKFTFw4ECULVsWp06dwoYNG1TQc+TIEQQSCTpbtGiBKVOmqPOpoPTu3VsFiosWLUrf9tJLL+H777/H/fffj5YtWyIuLg5ff/21Os8WLlyITp06pe8rbZkxYwa+++479b081smTJ/H3339j165dKoP5559/qsA0r8B33Lhx+PLLL1XwnJCQoALy2bNno3Xr1ipAl8Azv++3JUuWoEuXLqhcubIKkH/88UenA185D//v//5P9b/ZbMa2bdvU40s75cOZBNQFQV6DCAoKgjtIP5UsWTJbZlc+nMhzy/Pq9e7Lk+3fv199mFm2bBnuuusutz0PkSKBLxEVvGPHjmkRERFa7dq1tbNnz2a7//Dhw9rEiRPd8tw9evTQKlWqpPmqhIQEh/d1795dK1WqlHbt2rVs9124cEELNJs3b5bkhTZlypQCe0zpR6PRqH333XeZtm/ZskW7ceNGpm2XL19WP4+2bdtm2j5w4EAtPDw8x8cfP368avODDz6YZ1vGjBmj9r106VKm7ffdd5/avm7dult6vw0YMEBr2rSp9sknn6j25nbuZbRixQr1/L/99lum7Z9++qna/s477zg81tnnKCz16tXT7rzzTo+2oX79+tqjjz7q0TZQYGDgS+QmTz/9tPoDuHbt2jz3PX78uMPgRbbLH3+7+Ph47YUXXlCBbVBQkAo6OnXqpG3dulXdL3/A5JiMt4xBsAQ1jz/+uFa6dGktODhYa9iwoTZ16tQc2/P+++9rn3/+uValShUtNDRU69y5sxYbG6vZbDbtjTfe0MqXL6+FhIRo9957r3blypVsbZ8/f752++23a2FhYSookaB1z549OQZIR44c0e6++261X69evRz2Va1atbT27dtrzvrhhx9UYCPtLFasmNa3b1/1GrKyv07Zr0WLFtrq1atVX2YMCOzBzsyZM7WxY8dq0dHRqr3333+/dv36dS0lJUX9bORnIq9p0KBBalt+2iTPKwHJ3r171euV/pfnmzBhQrb2ZL3Zz6NDhw6pALFMmTLqZy0/L3kuaWtuJk+erB7nxIkTTvWxPEfx4sWdDnxFly5dNJ1Opx08eDBfga/8vGT7Tz/95PL7zS4pKUmLjIzU3nvvPe3cuXOaXq9Pf7z8Br5yfsv2IUOGZGq//BwfeughrWjRolrjxo3VfWazWb2Pqlatqt7L8j4dNWpUtnMm63koZJ/XX39dq1atmjq2QoUK2ssvv+zwfJNzWs4hef477rhDW7RokbpPnjPr+WN/LvtrlK8Z/frrr+nnb4kSJbSHH35YO336dI4/f9ku72f5d8mSJbURI0ZoFoslWxtffPFF1Tb53ULkTkYmvoncQy7pSs1fmzZtCvRxn376afz+++947rnn1OVBGRwil3LlcmHTpk3xn//8R12CPn36ND7++GN1jFx6tV9ulkvMUg4gx1epUgW//fabugR8/fp1vPDCC5me66efflKXOp9//nlcvXoV7733Hh588EF1OVIui0r9pzyW1NbKZfDJkyenH/vDDz+oUoSuXbtiwoQJSEpKUperb7/9dmzfvl1dWrazWCxqP7nvgw8+UHWcjkhd7/r161Uph1yizc3bb7+tagelzVJHeOnSJdXWdu3aqTYULVpU7Sftkv6444478OKLL6pL93Kpv1ixYqhQoUK2xx0/fjxCQ0MxcuTI9NcvNZ5yOfjatWvq8ryUXkjdpPTx66+/7nKbhDxWt27dcN9996n95ecufd6gQQPcfffdqFOnDt544w31+E8++aRqv5BzTn5u0qepqanq5yclIWfOnMHcuXPVz7pIkSK5lpNI7aX0tTPOnz+vLpW74tFHH1UlC1JqULNmTbhKylqEtDO/77e//vpLlU7069dP9Y+8N+Sc79+/v8vtcdQuOynBqFGjBt555x1JOKlt8vOfNm2aqnseMWIENm7cqM4teS9LKYcjUoJw7733qve9/NzlPJDSCnm/Hzp0CHPmzEnfV8pE5HyUfpFzRcoW5HmWL1+uSjxkLICcH/I7Qn53iDJlyjh8bjmnH3vsMVXeIW29cOGCqp+WkpOs56/UT8s52KpVK/W+Xrp0KT788ENUq1YNzzzzTKbHbdasmWr/3r1783xfE90St4bVRAEqLi5OZUpyy1zmN+NbpEgRbejQofkqdZBLvfJ4P/74Y/q2tLQ0rXXr1ipzKdnkjO2RzGXG7KBko2R7o0aNVLbKTjJZknWyZ5vkcrhkb+xZL7vz58+r9mfcLpkhecyRI0dqzli8eLFmMBjUTdr9yiuvqOyVvI6MJFsp+7z99tuZtu/evVtdxrdvT01NVVkryYhlfE2SBc+Y/cqYAZPLshmfT16/ZC8lY52RtC/jz8HZNmXM3E+fPj19m7S1bNmyKsOcV6nD9u3bc8xIOkOy9M2aNXNqX8mMy2sfPXq0Sxlfe/sk05cbe8ZUMsOS9ZVz8+uvv1YZbMlkJyYmuvx+s7vnnnsylWh888036udw8eLFPI+1nwuSHZd2SXnFvHnztMqVK6v+kJ9LxvbLOZLRjh071PbBgwdn2v7SSy+p7cuXL3eY8ZUMrmSn//nnn0zHfvXVV5my3lLeIfv16dNHs1qtmfbNmFl1VOqQNeMr57xcKZLzPzk5OX2/uXPnqv0kA531fS0Z7YyaNGmS47klJSv2qylE7sRZHYjcwD7aXEa+FzTJqEjGRkbzu0qmDJLM1kMPPZS+TTKVMkBHMl+rVq3KlqXKmBmUzI145JFHYDQaM22XDKNkFIVk8SSrKM9z+fLl9JvBYFD7rlixIlvbsmaAHJHZGyTjKxmvnTt3qiy0ZJVkZgfJ4NnNmjVLZcYkU5qxDfL6JfNmb4MMDpOsuUzblfE1PfzwwyrjmxMZOCX9lvH1y2eUxx9/PNN+sl0G3klG25U22UkWTvraTrJ1MqjMmVkD7D83GZwm2XZXSH84eu0ZXbx4UWVHJastsz24wn4V4saNG07tX6tWLZQqVUo9l8zaUL16dTWYTa4O5Of9Jq9R+ibje0EG7clAuV9//dXpx5GfubRLBrLJDBeJiYkqi9u8efNsV2oysk/fNXz48EzbJfMr5LU5IldpJMtbu3btTOeRfWCY/TySzK+cb3JFIOvgNPuAQFfIe0V+5s8++6yaMcNOXre0Jac2Z33dclUip/PXfr7J6yByJ5Y6ELmBfaS6s3/UXSGBnpQQxMTEqMuDMteqBGJymTcvMqpeAqysfwTlj6j9/oxk5oScgil57py2y6V5cfjwYfXV0QjtrCP5JeDMqaTAEbnMKkGkBNsS/MplYblMKpeMZVovKQGRNkgwKq83J/bA1f6aJZDK2qaM5Rj57RcJPKT0RC59O9smO+mTrAGKBAgyK0JeJECUoOqjjz5Sl+8l4JAPCxJI51bmYJfXhD8S4MnsIXKOyyV3eyDrLPmg5UqwKrMyyHkjfST9IpfLb+X9NnPmTDUTQ5MmTTLNBCIfVqS/hg4d6tTjSFApfSsf6qTcQ95LGT9AZfx5ZCTnnbwPs5538iFIPtxmfS9mJOeRlENIwJ0TCU7tZRfyHPJ+KAj2NsmHkKwk8JXzICMJjrO2Uc5f+++JnM63/ATkRK5g4EvkBvKHWDJAUofqDEe/7KVGLivJFsofWgn2pEby/fffVzW0EghK3WdBkj/mrmy3//Gyz9Eqdb7yhzyrrIGBTD+Vn+mSJAMqQbDcpE5Uag8lGzZmzBjVBvvcrDm119VAraD6xZU25fV4eZF6SqnflmnD5FyRzL7UZUr9cW4fNCRIzyk4sZMPHFJ3LAG4ZE3zU5Npf29kDfwckRpoR3XErr7fhAS3QqYwy4lkJZ35MCn11hmncXNEasJzkp9AT84jeV75UJOTrB/APMXR+ZsT+/nmaq04kasY+BK5iWTDZE5PuSwv843mxn6ZT8oDMnKU9ZGFA+Ryo9wkuyOD2mTQlD3wdfTHVAYrSbAifzgzBpqyMIH9/oJgz8aVLl3aqaCgINgvLZ87dy69DRIgSqYtt8FT9tcsWT+Zl9VOyhNkkFvDhg0LrI3OtskVeQVOEiDJTRZ8kEFrEuh99dVXeOuttxweI9k7ybDmRM4ducIgc65KScCdd96Zr3bLhyJpu5SuFPb77fjx46ovZEBj1vbL65OBd7IIjPSZu8h5J88l2Vv7FRchg8Xk90Bu70U5j+RKR8eOHXP9+ct+8hz79u1Ti4444mzwbW/TwYMHs13NkW238vtDfiYiY18QuQNrfIncRGoeZSlOGbktf8yyksuQMhranrGSTMfq1auzraiUNQMsl80zkuBSsl0yet9OnjfrfkLKImQEvlzmzRjgyawCkm3MbxCTldTcymuSEexyOTkrmckgv6R+MaeMp71m0n4ZVjKSknGSUe1Z95fvpcbTHjBLhvPbb79Nr8W1ZwRzy3rmh7NtcoX8rHP60CR1rxlfj5AAWD7wZDxXciKBo7z2nGoxZQYAOX/k3JTXkx/vvvuuykD37dvXYdmHO99v9myvHCPlMRlvckVF3gf2fdxF3osi6wqL9iyu1M06Im2Ueno5Z7OSmVukDEXIzCTy85bZHLKulJfx/JN+y3r+5ETeK/L7Rj44ZTyH5AqGlF7k1ua8bN26VZXg1KtXL9+PQeQMZnyJ3ESyLZI1kj/uksXIuJKUZJvs04jZyR9sCQjkq/yBkSBYpibKSGoY5RK1/IFu1KiRClZliqDNmzery9p2UvsrwYnUeEoZgOzXs2dPNfWRrLQlzyt/aKSGVabIkqmI5A9wQQ3Gk6BXpgiTzJlko2W6KKn1i42NVQNgJOv4+eef5+uxJfCSwVp9+vRRmUl7f8rrldcj5Q72/pes5qhRo9KnJ5PXJ5klKRORvpAp2KRcQqZ7kseVLJYEFbK/TNskj1GQNYfOtsnVx5SaUAlG5LEkiJE6VckISkZTBihKdlmCYMmySuAtg7hyIwGMlKPIuSVtspNzRAJeCYxlUFnWVc7kZ2IPxIU8p32flJQUdQVDBiDKVQfJrhfkqoWuvN8kqJUMqKOSAKmFlvNBVmKT89cd5P0rtfrSBxJ0SrC9adMmNTBOzouMVx+ykveVZNtl4Jh8EJT3k3wolis3sl3KT+R3iJSRyBRlb775piqPkg8qUlYkvy/kw7KUvdh/X8j7Vc5NOUaC25zq86W+Wsqq5D0m7ZWBgfbpzOS9J1MB5pcMiJXfUazxJbdz65wRRKQWEZDpu2SaI5nySybMlymUPvvss0yTzctk+k888YSa7kv2kVWtZFqljNOZyXRWMkm9TCcm+8h0UfLvL774ItvKUP3791dTiuW0gMVjjz2mJpOX9jRo0CDbVFgZF7BwZtJ+OV6226dwyrh/165d1WuSye5lsn1Z1EFWAHN22qusFixYoBbgkBW6ZAo2eQ3Vq1fXnn/++RxXbvvjjz/U9FzyHHKT42Q6uKwLJ8iKW9JPMk1Wy5Yt1ZRQMu1St27d8v36HS2+4Eyb7AtYZCX9lXWquj///FOrW7eumorLPrWZrGQm/SR9Ln0vC0x06NBBW7p0qVP9LIuSdOzYMdtz57Rghv0m542jfWURE3kPyFRsv//+e7bptRxx1If5fb/JQi/yeFmnX8tIpp3La6o1R+eCK+2X6fPGjRunFk4xmUxaTEyM0wtYyNRispiJnCNyzspCKHK+yuPJ9G4ZyZRrMo2YfT95rCVLlmSaZlCmQJS+cmYBC5lyzP54cl7ltoCFo/7IaP/+/Wqbs+cm0a3Qyf/cH14TEfkWuTQsWWrJkuV0Sdnf/fPPP2pBB8kiFlQ5AuWPZGslUysZeH80bNgwdYVLrkIx40vuxhpfIgp4chk+aw5g+vTparU6Cf4CNdiSlb1k+jzyLBmw6a+zHUhd+3fffafKLBj0UmFgjS8RBTyZ3kvqE6UeVga6SW3n999/r2pEZVugkkFL5DlSmyzTFMrAPFmq2h/J+80+pzNRYWDgS0QBTwbmyECnTz/9VGV5ixcvrgZHyWBDGfxG5AlSYiMfPqQUwD5ok4huDWt8iYiIiCggsMaXiIiIiAICA18iIiIiCgis8XViSqOzZ8+qieE54pSIiIjI+0jlrizyJIuzyIqFjjDwzYMEvY5W9yEiIiIi73Hq1Cm1wqkjDHzzYF/CVTpSlmF1F7PZrNaul3kzZVlI+h/2jWPsG8fYN7lj/zjGvnGMfeMY+8azfRMfH68Slfa4zREGvnmwlzdI0OvuwDcsLEw9B98wmbFvHGPfOMa+yR37xzH2jWPsG8fYN97RN3mVpXJwGxEREREFBAa+RERERBQQGPgSERERUUBgjS8RERGRD7NaraqO1luZzWYYjUakpKSotuaHwWBQj3GrU8sy8CUiIiLyUQkJCTh9+rSax9ZbaZqGsmXLqhmybiVwlQFy5cqVQ1BQUL4fg4EvERERkQ+S7KkEvRIQlipVymsX2rLZbCpAj4iIyHVxidwC57S0NFy6dAnHjx9HjRo18vU4goEvERERkQ+SEgIJCiXoDQ0Nhbey2WwqcA0JCcl3wCqvT6ZCO3nyZPpj5QcHtxERERH5MG/N9Ba0/AbNmR6jQFpCREREROTlGPgSERERUUBg4EtEOTKnmGFONquvms17RwsTEdGtlUnMmTMHgYKBLxGls5qtsFltuHj4MjZO34HVX27E+inbcHb3ebXdkpa/+ReJiMgzzp8/j+effx5Vq1ZFcHAwYmJi0LNnTyxbtqzAn2vlypUqkL5+/Tq8FWd1ICLFkmbB9VPxWD5xLa7FxmW6b//Cw4gsHY47nmmFcvVKwxjMXx1ERN7uxIkTaNu2LYoWLYr3338fDRo0UDNBLFq0CEOHDsWBAwfgjWSmCpmqTRasKGjM+BKRyuRePXkdc0Yuyhb02t24mIgFb67Aqe3nYEm1FHobiYjINc8++6zKwG7atAn3338/atasiXr16mH48OHYsGGDUxnbHTt2qG0SRAuZTkwyxsWKFUN4eLh6vPnz56v7O3TooPaR++SYQYMGpU9n9tFHH6FatWpqWrJGjRrh999/z/a8CxYsQLNmzVRmes2aNW7pE6ZtiAh6gw6L3lkFax6lDFLru+zDNRgw/V+F1jYiInLd1atXsXDhQrz99tsqQM2qaNGi+XpcyRTLPLqrV69Wj7tv3z61MIWUUPzxxx8qwD548CCioqLS5xZ+9913MXPmTHzxxReoVauWOvaRRx5R8w/feeed6Y89cuRIfPDBB6osQ4Jnd2DgS+QmkhXVG/SIP38DFrMVYUVDERwRBJ1ep7Z7C6ndjd1yBklXk53aX4Lj/YsOo173WjAGGdzePiIict2RI0dUyUDt2rUL9HFjY2NVcCtlE0KCVLvixYurr6VLl04PrFNTUzF+/HjMnj0bnTp1UnPxyjGS0f36668zBb5vvPEGOnfuDHdi4EvkhgFi5hQLdszai4NLjyIlPjX9vjK1S6FR7zqo2KI8DEbvCBqtZhsOLDni0jEHlx1Fg3sL9pcpEREVHAl63eH//u//8Mwzz2Dx4sUqkJUguGHDhrkG4ElJSbjvvvsybZescZMmTTJta968OdyNgS9RAbJarLhxKRF/jVqM5Osp2e6/cOASFr97CTU7VEW7526Dwej5zK9koBOvOJfttZPscEGsoENERO5Ro0YNVTfrygA2/X9/r2cMmmUwXEaDBw9G165dMW/ePBX8Sjb3ww8/VDNH5CQhIUF9lVIHaVPGvx1Sy5tRTiUZBY1/uYgKkM2i4e//LMkx6M3o0Ipj2DZzF8zeMEhM02BwsWTB1f2JiKhwSdmBBKiTJk1CYmJitvuv5zDlmNTcinPnzmUa3JaV1PM+/fTTmDVrFkaMGIFvv/1WbQ8KClJfZUYGu7p166oA99SpU6hevXqmmzxOYWPgS1SAMyPsX3zY6VrZ3X8f8Jr11cs3LOPS/tH1y6hyDiIi8l4S9EoQ2rJlSzXw7PDhw9i/fz8+/fRTtG7dOtv+9mB07Nixal/J6ko2N6Nhw4ap6dCOHz+Obdu2YcWKFahTp466r1KlSurv2ty5c3Hp0iWV7Y2MjFTB8X/+8x9MmzYNR48eVcd99tln6vvCxsCXqIDojTrsnXfQ6f3NyRYcXnEMVosNniRz8ta/p7YqeXBWoz51YQphpRQRkTeTQWQSZMo0YxJ81q9fXw0ek8Urvvzyy2z7m0wm/PLLL6o8Qup2J0yYgLfeeivTPhJIy8wOEux269ZNTZEmszWI8uXLY9y4cWp2hjJlyuC5555LH7T28ssvq8ezHydBdZUqVVDY+JeLqIBY02yIP3+zlslZFw5eRrV2lT1e62sKNaHu3TWwd96hPPet2Lw8ilfK3zQ4RERUuMqVK4fPP/9c3ZwZBCcLXuzatcvhPpKpzc3o0aPVLSPJAktpxCuvvJLj+JD27du7bTBeVsz4EhUQmeM2P1OJeQOZlqzN483VoLvcVGhcDl1ebedV07ERERE5ixlfogIil/6DwoOQlpjm9DFRZSPU4hHeQG/Uo91zrVCnS3Xs/HM/Tm46nR7Ml29YFg161UZM42i1HxERkS9i4EtUgPP31rqrqhq05gypqa17d00Yg7znbShzC8tcwx2rF1eXo2QRDvsMDjqDHnoX6oCJiIi8DVM3RAU4SKxh7zpOZ0QrtayAoDATvI0E5BKMy+uQDLbBZFA3Br1EROTrGPgSFaCQqGB0GNYmzxkSilUsovaTgJK8ewU+yXrnp36biIi8j/dcYyXyA5IprdyqAnqM64gNU7fh8tGrWe43oPqdVdBmcHMYTHqvmceXbrLZbGoRktQbqTiw9IhaiEQy+ZValFclIDabBiM/rBAR+SwGvkRuCH7L1i2NPu91w/UzcYjdclZlD8NLhqHa7ZUBHWAK5lvP28jPKDUhDSs/WYdTO84BGZK8O2fvQ1S5SLR5ohnKNyrrVXXZRETkPP72JnID+7y8xSsVQ9EKRdT8hDIFGDO83kmmlUu5kYpZwxcg6VrOK+/Fn7uBhW+vVCUqVdtUZPBLRH5FS0kBZI5doxGwWOQSGHQhIfA3/M1N5Gac89b7ybzpS95d7TDo/d+OwKpP16NCw3IwFuevTyLyj4BXS01FwtRpSJk3H7b4eOijohDSozsiBg2ELjjYrwJg/kUmooAXdzZeraLnDJtVw66/96tBb0REvkxLS0PCtGk416gJbrz3Psx798J66pT6Kt/Ldrlf9vMXDHyJKKDJzA37FuS9VHNGB5cdVYPeiIh8OdObMGUK4t94CzCbc97JbFb3J0yZerMUwg0mTZqEypUrIyQkBK1atcKmTZvgTgx8yafJKHvJvMnNW5b/Jd8i9dcJl5NcOiYlLhU2C883IvJdWkoK4sdPcGrf+PHvqnKIgjZz5kwMHz4cY8aMwbZt29CoUSN07doVFy9ehLsw8CWfZE61wGqx4diaE9j8805s/mknDq86fnPuVV6CJhe5vAyzTlay40BFIvJNKts7dZrjTG9WZjMSpk0v8KzvRx99hCFDhuCxxx5D3bp18dVXXyEsLAyTJ0+Gu/hU4Lt69Wr07NkT0dHRanT8nDlzct1/5cqVar+st/Pnzxdam6ngScC7c9Y+/DDwdyz7cC12zdmPXX/ux8pP1mP6gN+x9Zddah8iZ2fgiK5fxqVjytQqySsMROS79HqkzF/g0iEy8E3N+lBA0tLSsHXrVnTq1ClDs/Tq+/Xr18NdfCrwTUxMVGlwqQdxxcGDB3Hu3Ln0W+nSpd3WRnIvCWhXTFyHrTN2qTlXs0pLMqs5V5e8uwpWi9UjbSTfIqvn1epUDcZg5xemaNCzNqemIyLfZTSq2RtcofaXqc4KyOXLl2G1WlGmTObEg3zvzgSlT43OuPvuu9XNVRLoFi1a1Kl9U1NT1c0u/r8nhtlsVjd3sT+2O5/DV9n7JDU5FSfWn8axDSegM+V+TOyOM9j19z7U7lLdr+db5XlTMH1jsVhQv1dt7Jy9N899i8UUQYVm5WC1WdXNV/HccYx94xj7xrv6Rp5LximoVSdtzl+F0lksasoyV36Dyf4yv68tH8GvtNH+1d7OjF8ztt2+b06vR7bJ/fK6DYbMyQpn+91/I4IMGjdurILZ+vXrY+zYsWjbtq3DfcePH49x48Zl27548WJVd+JuS5Yscftz+KplK5apr2UejXRq/1gcQ+zSYwgEPG8KoG8inD23bFi4eCH8Bc8dx9g3jrFvvKNvjEYjypYti4SEBFU64Kwwo1HN0yvTljlL7Z+WhqQk1wYDZ3Tjxo30fwcFBang9cSJE6hXr1769tOnT6NEiRLpiceM5DUmJyer0ldJWGTkbLt0mj209jFymXH27Nno3bt3riUOUufbvHlzFfh+9913+OGHH7Bx40Y0bdrU6YxvTEyMSslHyacdN5FPKvJm6dy5M0ymPNKZAcbeN83rtsS8UTeDX2d1H3sXytQqBX/F86Zg+0YGR148fBl7/j6EM7vOQbPd/PVYJDoSdbvWQI32VaEz6qHX+36ZA88dx9g3jrFvvKtvUlJScOrUqfTpwFwSH49zjZs6N8DNZEK5nduBSOcST1lJqClBb2RkZKYysdatW6NFixb49NNP0zO68lqGDh2KV199NcfXK4GyxGVZX6/EayVLlkRcXFyu8ZpfZ3xr1aqlbnZt2rTB0aNH8fHHH6sAOCfBwcHqlpWcxIVxIhfW8/iilCtp0Fy8gpR0KQWm+v7fnzxvCqZvZL8KDaIRXaesCnrTEs2qBjgo3KS+l3/7G547jrFvHGPfeEffSI2sBJIyKExurtBCQhA16tWb8/jmIerfI2+u4JbPwW32sgV7W+1kKrOBAweq4Ldly5aYOHGiGs/1+OOP5/h6ZJs8Rk597Gyf+3XgmxPp2DVr1ni6GZQPBpPrbzh/DFTIvdQfkKCb55opJMMvUp5KRORHdCEhiHjsMTU/o8zTm2Pm12RC1KiRiBg0CLqgoAJvQ9++fXHp0iW8/vrrakCblKYuXLgw24C3ghRwge+OHTtQrlw5TzeD8qFk1eLQG3RqyVin6IAytUu6u1lEREQ+SRcUhIiBAxDer6+ap1emLJPZG2Qgm9T0yn0q0+uGoNfuueeeU7fC4lOBrxRvHzlyJP3748ePq0C2ePHiqFixIkaNGoUzZ85g+vTp6n5JmVepUkUVTUtdiNT4Ll++XA1UI99jCNKjUssKOL7+lFP7l29YFiFRLtY8ERERBVjmVxcSgsgnhyDy6aduTlkmA8dsNrXd3/hU4LtlyxZ06NAhU22IkPqQqVOnqjl6Y2NjM43+GzFihAqGZUaGhg0bYunSpZkeg3yHlC00798IsVvOwGrOfdoWyQy3eLixWpyAiIiIcpcpyHVjhtfTfCrwbd++ffr8bjmR4DejV155Rd3IP0hBe1TZCHT9d3ssGr8K1jSrw+VnO464HSWqFIXOD0bfExERUQAGvkSyGEW5+qXR74t7sWPWXhxeeVyt1qbuCzGixp1V0Pi+uggrHurXC1cQERGR6xgZkM+RgDailBGtBjVF6yeaIfl6CqABoUVD1MA3UwhPayIiIsqOEQL5LFPwzdM3omR4+jYDp5UkIiIiBzjyh4iIiIgCAjO+RERERAEu1WyFXqeDwaCD1arBpmkI9sNFoBj4EhEREQVwwJtmseH3TbFYse8CbqRYEBliRIe6ZfCvlhURZNT7VQDMwJeIiIgoAKVZbPhjcyy+WHoYlgyrop4DcOj8DXy/6iie7VQD/2pZSQXA/sA/XgURERERuZTp/X3TSXy66FCmoDcj2S73SzZY9i9Iq1evRs+ePREdHa3m6Z8zZw4KAwNfIiIiogCTarGpTK8zvlh6SGWHC1JiYiIaNWqESZMmoTCx1IGIiIgogKSarfhjU6zDTG9Wsp+URDzUunKB1fvefffd6lbYmPElIiIiCiB6nU4NZHOF7C/H+ToGvkREREQBxGDQqdkbXCH7y3G+joEvERERUQCxWjU1ZZkrZH85ztcx8CUiIiIKIDZNU/P0ukL2l+N8HQNfIiIiogASbDLg/pYVYXSydEH2u79FRb9YyIKBLxEREVGACTbq1eIUzhjaqWaBL2CRkJCAHTt2qJs4fvy4+ndsbCzcidOZEREREQWYYJNBrcgG6NQ8vTlNbSaZ3mc71VTZ4YIOfLds2YIOHTqkfz98+HD1deDAgZg6dSrchYEvERERUQAKMupxf4sY9GxSXs3TK1OWyewNMpBNanqlvEH2ccdyxe3bt4fmgZphBr5EREREAZz5DTYZ1OIUD7epoqYsk9kbZCCbP9T0ZsXAl4iIiCjABWcIcvVG35+v1xEObiMiIiKigMDAl4iIiIgCAgNfIiIiIgoIDHyJiIiIKCAw8CUiIiKigMBZHYiIiIgCXJo1FTqdHkadERbNAk2zIcgQDH/DwJeIiIgoQKVaU2G2mjH/+FysO7sWieZEhJvC0Sa6LbpXuQcmgwnBfhQAM/AlIiIiCkBmCXiPzcMP+6apLG9Gx+KOYcaBX/Bo3YG4p2pPFQD7A9b4EhEREQVgpnfusb8xZe/32YJeO9ku9887PlftX5DGjx+PFi1aIDIyEqVLl0bv3r1x8OBBuBsDXyIiIqIAY7amqUyvM6bvnaqywwVp1apVGDp0KDZs2IAlS5bAbDajS5cuSExMhDux1IGIiIgowAayzTs+z2GmNyvZb/7xeehdvXeBDXhbuHBhpu+nTp2qMr9bt25Fu3bt4C7M+BIREREFEJ1Oj/Vn17p0jAx8k+PcJS4uTn0tXrw43ImBLxEREVEAMeqMavYGV8j+Bp3BLe2x2WwYNmwY2rZti/r168OdWOpAREREFEAsmkVNWeYK2d+qWaF3Q9ZXan337NmDNWvWwN2Y8SUiIiIKIJpmU/P0ukL2l+MK2nPPPYe5c+dixYoVqFChAtyNgS8RERFRAAkyBKN7lR6q5MEZsp/sX5AruWmapoLe2bNnY/ny5ahSpQoKAwNfIiIiogBjMgSpxSmcMaDeoAJfwELKG3788Uf8/PPPai7f8+fPq1tycjLciYEvERERUYAJNgSrFdkerz/YYeZXtsv9ParcU+DLFn/55ZdqJof27dujXLly6beZM2fCnTi4jYiIiCgAmQwm3F2lOzpV7Kzm6ZUpy2T2BhnIJjW9Ut4g+7hjuWIpdfAEBr5EREREASrYEKxusjhFnxr3qSnLZPYGGchWkDW93oKBLxEREVGAC8oQ5LpjyjJv4b+vjIiIiIgoAwa+RERERBQQGPgSERERUUBg4EtEREREAYGBLxGRn5FpgqwWGzSbZ6YLIiLyVpzVgYjIT1hSLbBZbDiy5iSSryfDGGJEldsqIrx4KHR6HfQG5jqIKGeWNAt0Oh30Rr36PSIfoI1B/hcm+t8rIiIKMJLdNSebsfabzTi2Llb90bLbMHkbytUrjTaDm6NohSi//ENGRLf2gdlqtmHv/IPq90daYhqCwoNQtU1F1OteCwaTHsZg//m94T+vhIgoANmsNqQlpGHWSwuQcCkxx33O7b2IOa8uQvcxd6F0zRIMfolIsZqt2LvgEDb9sCPTB2YgEVeOX8PWmbvR8tHGqN9DAmAD/IFPXfdavXo1evbsiejoaJWOnzNnTp7HrFy5Ek2bNkVwcDCqV6+OqVOnFkpbiYgKg6z6ueidlQ6DXjtrmhUL31oJzcq6XyKCyvTumXcQG6ZsyxL0/o9sl/v3zjuo9i9IX375JRo2bIioqCh1a926NRYsWAB386nANzExEY0aNcKkSZOc2v/48ePo0aMHOnTogB07dmDYsGEYPHgwFi1a5Pa2EhEVhrgzcbhw8LJT+0o5xL7Fh2FJs7q9XUTk/dneTT/scGrfjT/sUOUQBalChQp49913sXXrVmzZsgV33XUXevXqhb1798KdfOp61913361uzvrqq69QpUoVfPjhh+r7OnXqYM2aNfj444/RtWtXN7aUiMj9zClm7Jl70KVj9i86goY968BiLdg/YkTkWwPZ9sw/5DDTm5Xst3fBQTTsVafASqXkCn5Gb7/9tsoCb9iwAfXq1YO7+FTg66r169ejU6dOmbZJwCuZX0dSU1PVzS4+Pl59NZvN6uYu9sd253P4KvaNY+ybwO4bs8WMuEs3oDM5f0zClRuwWC0B0T/5xb5xjH3jXX0jzyWzL9hsNnVzlk6nw/F1sS491/F1p9Cod12XnsdO2mj/mtPxVqsVv/32m7qy36pVK4fPIdvlMeR1GwyZa46d7Xe/DnzPnz+PMmXKZNom30swm5ycjNDQ0GzHjB8/HuPGjcu2ffHixQgLC4O7LVmyxO3P4avYN46xbwK4b5oAZZpEunTI/PnzA6d/bgH7xjH2jXf0jdFoRNmyZZGQkIC0tDSnjysSVUTN3uCK1MQ0NSViXHwc8uvGjRuZvpeyBklIpqSkIDw8HD/88IMqgbAnHbOS1yjxm4z5slgy1xwnJSU51Qa/DnzzY9SoURg+fHj699L5MTEx6NKliyq+dhf5pCJvls6dO8NkciF9EwDYN46xbwK7b+Ry5a45+7Fz9j6njylTqyS6vtYeNs3m9/2TX4Fw7uQX+8a7+kYCxlOnTiEiIgIhISEuzQYTFB6kZm9wVnB4kDouP7GQZGkl6I2MjFTZZrtmzZph27ZtiIuLwx9//IGhQ4dixYoVqFu3rsPXK0nLdu3aZXu9joLlgAp85VPQhQsXMm2T7+WHllO2V8jsD3LLSk7iwjiRC+t5fBH7xjH2TWD2jbyuhvfUxc7f9zu9SluD7nUQFBQEq83q9/1zq9g3jrFvvKNvpERALTqh16ubsywWi5qnV6Ysc1aVNjEqgDXoXZ/WzF66YG+rnQSvNWvWVP9u0aKFGuT22Wef4euvv87xceRYeYyc+tjZPvepWR1cJVNjLFu2LNM2+TQm24mI/IEp1IQa7as4tW/R8lGofFsMV3AjCnDGICPqda+pVmlzhuxX7+5abp8DXALkjOOs3MGnfvtJDYtMSyY3+3Rl8u/Y2Nj0MoUBAwak7//000/j2LFjeOWVV3DgwAF88cUX+PXXX/Hiiy967DUQERUkY5AB7Z5thZim0bnuF1U2Aj3f6lxo7SIi72YwGdTiFM5oNaCJWsGtIEnMJrW6J06cwO7du9X3svbCww8/DHfyqVIHSYHLnLx29lrcgQMHqoUpzp07lx4EC5nKbN68eSrQ/eSTT1TB9HfffcepzIjI7/6Adf1PexxZdRy7/z6Q6fJlWPFQ1O1aQ01DJPsx20tEQpYhlhXZdP+dpzenqc0k09vq0cYqO1zQK7ddvHhRJSslditSpIhazELWWZAaaXfyqcC3ffv26VNi5CSnVdnkmO3bt7u5ZUREnmUw6lH9ziqocWcVJF5LRkp8KkwhRpXplT9o8keOiCgjCWbr3l0TtTpVV/P0ypRlMnuDDGSTml4pb5BMrzuWK/7+++/hCfxNSETkR8GviCwVrm52zPISkSPGYCOMwVBXhWSeXvl9IbM3SKLR3TW9nuB/r4iIiIiIXGLMEOTmZ+YGX8E0ABEREREFBAa+RERERBQQGPgSERER+bDcBv77E60AXicDXyIiIiIfZDDcrMVNS0tDIEhKSlJfb2VlPA5uIyIiIvJBRqMRYWFhuHTpkgoGXVm2uDDJimwSnKekpOSrjZLplaBX5v4tWrRoesCfHwx8iYiIiHyQTqdDuXLl1Eq2J0+ehLfSNA3JyckIDQ1Vbc4vCXrLli17S21h4EtERETko4KCglCjRg2vLncwm81qeeJ27drlu0xBjruVTK8dA18iIiIiHyblAyEhIfBWBoMBFotFtfFW6nMLgncWgxARERERFTAGvkREREQUEBj4EhEREVFAYOBLRERERAGBgS8RERERBQQGvkREREQUEBj4EhEREVFA4Dy+RERE5HEWqw2aBhgNulta3YsoNwx8iYiIyCNSzVYYDXpsO3EVu09dh82moXKpcNxZpwysVg0hQbe+UhdRRgx8iYiIqNClWWxYuPMspv5zDOeup2S6LyrUhN7NK2BIh+owGViV6YvZe4tNg14Hr/v5MfAlIiKiQg96v1l+GD+uPZHj/fHJZkz/5zgOnbuB9/s38brgibLTNA2pFpv62c7fcQYX41MRbNSjdY2SqFkmHN6CgS8REREVGqtNw9bjVxwGvRltOHIZU1cfw6O3V0GIiWUP3pzhTTFb8e5f+7Bi/wX1M7absvoYqpUKxYMxQJrZCpPJ5NG28iMUERERFRoJin5Yk3fQazdr8ykY5Zo5eSWbTUNSmhWDvt6ApXvPZwp67U5dSVJfl++/oOq6PYmBLxERERUaKWOQwWzOupaYpjK/5J0sNhvG/LELp6/eDG5z89H8A7iSkAZPYuBLREREheZ8XLLLx5y4nKgyi+R94pLMTn8wkWzwz+tOIDnNc1lf1vgSERFRoclP2YIMbuPUvt4nxWzFH5tPoUioCR3qlkGJyGA1F/O5a8mq1jenAHfBzrMYfndteAoDXyIiIio0lUqGq9H+MgOAsxpXLMZFLbx0JodW1UrgsXZVse9MnKrl1et1aFe7NEZ0r4P5O8+owW0JSanpxySmWpBstiI82DMhKANfIiIiKjQ66NCxXlnM33nWqf2rl4lAtTIRbm8Xuc6o1+Pk5URM+HufKkfJqF75IhhwRxV8P+Q2jPhhsyxXkn6fwYODFVnjS0RERIVGVmN77M5qCDY5F4IMbl9dXT4n72K22vDB/P14N4egV+w9E4dXZ+zAsr3nMaFf4/TtlUuGe3ReZga+REREVKhKRwXj/Yea5hr8SmXDC11roXXNkjAZGa54kzSLFX9vO40/t57Oc9/PFx/KNOPDA60q5jjlWWHhmURERESFKthkQKOKRTFj6O3o1awCQoMMmS6Dt69TGt8NboX7WsQg2MiFK7yNQa/HT04sQGL3+6ZT6muFYqG4p0l5BHnwgwxrfImIiMgjwW+5YqF4sVttNcr//PVkWLWb2WCjQa8GwHFAm3fac+o6zlxzflq6LcevoF0jYOKA5h6t7xUMfImIiMijNb+iUikOYPMVh87Hu7S/vUY7KtSoPtR4EksdiIiIiMhp+c3ES4mEp3m+BURERETkM+pEF3Fpfw9XN2TCwJeIiIiInFY7OkpNS+as26qXhLdg4EtERERETpPpyAbcUdXpbO/DbavAW3BwGxEREWWSkmaFlGOuO3QZF+NTEBZsROsaJRGi50oSBDUdWaf6ZXHs4g38mMu0ZhL0jrq3HqqWCscxeAcGvkR+tGY6p/4holthtdmQZtHwxdJDmLfjDJJSrZmCmLbVi+P2SCDNbIXJZPJoW8nzwe+Td9VA/Zii+GHNcew9HZd+n/wpalWtJB67sypql4uCHjZ4Cwa+RD7MnGpRX09sPIWkyykwhRgR0zQaYcVCodProPfwtDFE5FsfnlPMNgz+dgOOX8q+BK0strXx6BXc3hg4fOEG6saYEMTFJRDowe/tNUuhbc1SuBCXgtjLidDrdaheJgKRoSaY9Hr1vdnMwJeIboHNZoPNbMPWGbuAUsCKieugmf93f3SDMmg1qCmKVywCYxDf5kSUN7NVw2u/7swx6M1q1Myd+P3F9uCvFzL+N8FSoXiYunk7poOIfJDVbMOcVxdh/8LDOd5/dvcF/PnqIvXVknYzK0xElJsrCalYf+SyU/smplowZ8sppJr/VwrhiOwjg6FOXUnEgbNxOH01SX2fZsn7WKKCxs9qRD5GAtmVE9fhyvFr0OVSYmez2LDk3dXo/20fZn2JKFfJaRb8tvGkS8fM2nwKD7Wu7PB+m02DxWbDH5tj8cemU5mWuI0pHoZ/tayIPi1iYJSyLG+a6JX8GjO+RD7GnGTB8Q2nnNrXkmbF7rkHYPlvLTARkaMlZU9eTnLpmIyBbPbH05BstmLIdxvx6aJD2fY9dTUJHy88gKcnb0Kqxar2JyoMDHyJfCzbu3fBIWgyysRJBxYfgcHEAShElDtXk64yct/RRDI2TcPwH7fi4LkbuT7GvjNxeOWX7ar0gagwMPAl8iE2q4brZ+JdOiY5LkVlfomIHDHodahRNtKlY6qVjlABblaSvT1wNh47Y6879Tibj13FCScG1BEVBAa+RD4mP7VwOr7TiSgXwSYDHmhVSQXAzpL9bTnMUpVituKX9a7VC/+87gSS+QGdCgH/HBL5EINRj5LVirt0TFTZCOiNfKsTUe7Cggzo0qCcU/uWjAzG3Y2iYcrhd4vM7SsZX1fsPxsHo4ED3Mj9+NeQyIdIrW6dLtVhCHK+Zrdu95qwWVg/R0R5Z31ledlmVfL+cP3hw00d1vfKdldrdmV/hr1UGBj4EvkYWZFNgl9nhBYJQd0uNWB0IVAmosBeiWvio83w4t21EVMi82IE4cFG9G5eQf27TFQITA5WhjRbbChfLNSl5y1fPAwWDnCjQuBzge+kSZNQuXJlhISEoFWrVti0aZPDfadOnQqdTpfpJscR+TJjsBG3PdYMlVvd/APkSEhkMO55qxPLHIjIJRLQ9mleATOeux0/D22Lzwc2x3dDWmHBKx3wZPubH7pzKnHIuJLX/S1jXHrOB1pWRBCXWKdC4FOz2s+cORPDhw/HV199pYLeiRMnomvXrjh48CBKly6d4zFRUVHqfjsJfon8oda30yvtsH/5YRxNPpDpPlOoCTU7VEHTBxsgOCKIU5kRkcukTldULR2hbnY6Le/fJzJArl3t0igVFYxL8al57l+uaChaVS/JRSyoUPhU4PvRRx9hyJAheOyxx9T3EgDPmzcPkydPxsiRI3M8RgLdsmXLFnJLiQon+K1+RyUcXXwA90/sgbS4NJUNLl6pqJr2zBTiU29vIvIjFquGTx5tjqe+34gbKY4X0IkKNeGTAc3UtGgGVvlSIfCZv4xpaWnYunUrRo0alb5Nr9ejU6dOWL9+vcPjEhISUKmSTLliQ9OmTfHOO++gXr16DvdPTU1VN7v4+JsjU81ms7q5i/2x3fkcvop945hNuzmXUGjxYESVuZmVscEGGNhfPG9yx/5xjH2T/75JNVtV5nb1gYsoVzQEXw1qhq+XH8Gmo5eRsYRXkru3VS+J57rWQrEwo0xSDrPNt6cz43nj2b5x9rF1mo+sE3j27FmUL18e69atQ+vWrdO3v/LKK1i1ahU2btyY7RgJiA8fPoyGDRsiLi4OH3zwAVavXo29e/eiQoWc6yPHjh2LcePGZdv+888/Iywsc6E/EREREXleUlIS+vfvr+I9KXP1+YxvfkiAnDFIbtOmDerUqYOvv/4ab775Zo7HSEZZ6ogzZnxjYmLQpUuXXDuyID6pLFmyBJ07d4bJZHLb8/gi9o1j7BvH2De5Y/84xr5xvW/SzFasPHARE/7el2PNb5saJVE/pijCgoxoVLEoSkcFw/TfOmJ/wfPGs31jv0KfF58JfEuWLAmDwYALFy5k2i7fO1vDK53dpEkTHDlyxOE+wcHB6pbTsYVxIhfW8/gi9o1j7BvH2De5Y/84xr5xvm/SbDpMmHdQfc3GBizbf1ndRFiwQc0Q4W+Brx3PG8/0jbOP6zNzhwQFBaFZs2ZYtmxZ+jap25XvM2Z1c2O1WrF7926UK+fcyjRERESUu1SLFXO2nEKaJYf1i3OQlGrFwp1n1Xy/RIXNZwJfISUI3377LaZNm4b9+/fjmWeeQWJiYvosDwMGDMg0+O2NN97A4sWLcezYMWzbtg2PPPIITp48icGDB3vwVRAREfkPg06HRbvOuXTM/B1n1UwORIXNZ0odRN++fXHp0iW8/vrrOH/+PBo3boyFCxeiTJky6v7Y2Fg104PdtWvX1PRnsm+xYsVUxlgGx9WtW9eDr4KIiMh/yIIV1xLTXDrmepJZ1f4SFTafCnzFc889p245WblyZabvP/74Y3UjIiIi97DaNIS4uCx6iMnAjC95f6lDcnIy1qxZg337so/aTElJwfTp0wuybUREROTlpFa3dY2SLh3TtmbJTPP6Enld4Hvo0CE1FVi7du3QoEED3HnnnTh37n81PTJvmr3WloiIiAKDZHv7t67s9P5S4vBgq0oq60vktYHvq6++ivr16+PixYs4ePAgIiMj0bZtW1VXS0RERIGreEQw7msR49S+/dtURmgwg17y8sBXBoWNHz9ezadbvXp1/P333+jatSvuuOMONWsCERERBaYgox4v3l0b9zYrn+t+fW+riCfvqo5gP53Dl/wo8JX6XqPxf2PhdDodvvzyS/Ts2VOVPUgpBBEREQUmk0GPl7vXxc9D26JH42hEhhghEzdEhZrQq1kF/Pr87RjauZbaj8jrZ3WoXbs2tmzZoup8M/r888/V13vvvbfgW0dEREQ+w2TUo2rpCLzcoy5G92mQvj0lzeryzA9E7uD0x64+ffrgl19+yfE+CX4feughaJyahIiIKOBlDXIZ9JLPBb6yItr8+fMd3v/FF1+oJYSJiIiIqGBJcjE5zQKz1QaL1YbkNCtsnBPO/xewICIiIgoUEtzaoOHA2XjMWH8Sxy4mqCC4cqkI9L2tEhrEFFX7cSU85zDwJSIiIvLSVfESUsx48cdt2HcmLtN9xy8lYsW+C6heJhKfDmimBhHK8tGUO/YQERERkRdKs1jx5PebsgW9GR25cANPfLtBlT4UVgY6zWLF5RspWH/4EtYduoQzV5PSSzC8HTO+RERERF5GZsL4ftVRnLycmOe+566n4Iulh/BC19puHUiYarbiwLl4fL/yKDYfu4KMcxrUK18Ej95RBW1qlFLzOnsrl1u2evVqWCyWbNtlm9xHRERERLfGaNDh721nnN5/0a5z0LmxzDfVbFXP8czkTdh0NHPQK/aeicPIGTvw7YrDSLPY/Cfw7dChA65evZpte1xcnLqPiIiIiG7N3tNxiEsyO71/UppVZWHdVd5w5MINvPv3XuQ1kcQPa05g+d7zXhv8ulzqICMJZdW2rK5cuYLw8PCCaheRx9mSkqAzGpG6YQNsV69CHxWF4Nat1XtAHxbm6eYREZEfi0t2Pui1u+5CoOwKqd+dvOpYnkGv3dR/jqFzg3Lw6cD3vvvuU18l6B00aBCCg4PT77Nardi1axfatGnjnlYSFSLNYoGWkoL4995H0m+/Q4uPT79PFxaG0N69EDXyVegjI6ELCvJoW4mIyD/Jks+uKhJqcktbktKsaiCbs05cSsShc/GoU74IvI3TvVqkyM3GS7YrMjISoaGh6fcFBQXhtttuw5AhQ9zTSqJColmtsMXH49K9vWA9fiL7/UlJSPr5F6QsX4FSf86BoUxp6Ezu+UVDRESBq35MURX83kjJPq4qJyEmA1pULeGWtpy8nOh0ttdu/9k43w58p0yZor5WrlwZL730EssayD9pGq4MGJhj0JuR7fx5XO7bD2VWrSi0phERUeCwWjX0aFJeLVrhjM4NysJd67hp+XjkrIPffHZw25gxYxj0kt8y79kL8/YdTu1rPXECKStWqiwxERFRQZJpyQa3r4boYv+7wu5IqchgPNupJkLdNJVZxRLhLs8YUaNsJPwi8L1w4QIeffRRREdHw2g0wmAwZLoR+fJgtoRvv3PpmMTvJwNm9wwmICKiwCblC98NboVqpSMc7hNTIgzfDmmFiGD3Lc0QGWJ0qYwipngY6lW4uZSyt3G5l2RgW2xsLEaPHo1y5crlOMMDkS/SGQywHD7k0jHmQ4egCwlxW5uIiChwyRLERcKCMP2ZNth+4qoqezh6MUEVH1QqGYG+t1VEy2ol1fgrdy5XbNTrMahdVTV/rzP6t60Mq80Gg97g+4HvmjVr8M8//6Bx48buaRGRL+EHPyIiciOD/ubfmaaVi6sBb/ZV0cwWG0wGPfTqfvf+LdLrdWpltv/rWhOfLso9QdSneQXc07g8TF66epvLgW9MTIz6ZEHkb6RW11irFsx79zl9jKlmTTX1GbO+RETk7uAzJEMGNdhUuNnUYJMB97esqDLNk1ceVSu1ZVS5VDgeaVsZXRtEe23Qm6/Ad+LEiRg5ciS+/vprNcMDkb+QRSkihgxG8qzZTh8TPvhxgNOZERFRAAg2GtCqWgm0rFYC564l48DZOFhtQJXS4ahRNgpWm+bVQW++At++ffsiKSkJ1apVQ1hYGExZ/ujntJwxka8w1a2LoGZNkbZ1W577GqtWQUj79qo2mIiIKBAY/1tLXLFkuLrlVJbhzfKV8SX3saWk3Fw5zGaDntPGFT69HiWmT1MLWFiOHnO8W7myKDFzhvdOVEhERES3HvgOHDjQ1UMoD1pqKixnz6p/X31iCIypKTBWqYLwJx6HqU4dNYCKWcXCodPrgYgIlFowHzc+/AhJv/4K27Xr/7s/IgJh99+HqJdfUv/WGd03fQwREREVrHz91T569KhayU2+fvLJJyhdujQWLFiAihUrol69egXcRP+lBgmmpOLqs0ORuHo18NEHMG/dqrK+aVu2Ium332Fq1Aglpk+FvkgRLo1bSCSYlVvkyy8hatRIpG7eDNuVq9AXLYLgli3VIDipByYiIiLf4nIF8qpVq9CgQQNs3LgRs2bNQkKCzCcH7Ny5U63qRi4wm3G5Xz+kLF7seJedO3GpR09oiYmF2jQC9KGh6sNGSJs2COt5D0LuuAO64GAGvURERIES+MqMDm+99RaWLFmCoKCg9O133XUXNmzYUNDt81u21FQkTJ2mMrt5sZ4+jbhxb8CWlFwobSMiIiLyRy4Hvrt370afPn2ybZdyh8uXLxdUu/yeXEpPnDrN6f2T/vob0GxubRMRERGRP3M58C1atCjOnTuXbfv27dtRvnz5gmqX37McPQrryZPOH5CSgpSFi9zZJCIiIiK/5nLg269fP7z66qs4f/48dDodbDYb1q5di5deegkDBgxwTyv9kO3qNZePsV66xFXziIiIiAor8H3nnXdQu3ZttXSxDGyrW7cu2rVrhzZt2uC1117LbzsCji4ywuVj9FGR6sMGERERERXCdGYyoO3bb7/F6NGjsWfPHhX8NmnSBDVq1MjH0wcuU61a0JcoAduVK84doNcjpEtXdzeLiIiIyG/le/Z9mbNXbpQ/mtmMsIf6IeHzSU7tH9KxI3QRXMmNiIiIqNACX6vViqlTp2LZsmW4ePGiqvHNaPny5fluTKDNERv53FAk//U3rLGxue6ri4xEkbGvQ5dh+jgiIiIicnPg+8ILL6jAt0ePHqhfvz5rTm+BLjQUpebMxuUH+6q5enMi5RAlfv4RhnLlbi6nS0RERESFE/jOmDEDv/76K7p3756/Z6RMc/nqSxRH6WVLkLBsOZCSDN1/lyY2VqmC8IEDEHZfH8hEDrpgZnuJiIiICn1wW/Xq1W/pSSlz8CuC72wHLFqEshvXw2QyQbNYIBGvBMHMqRMRERHdOpevnY8YMQKffPIJ55MtYDqDIfP3RqMKeomIiIjIQxnfNWvWYMWKFViwYAHq1aunspMZzZo1q4CaRkRERETkwcBXlizu06dPATaBiIiIiMgLA98pU6a4pyVERERERN64gMWlS5dw8OBB9e9atWqhVKlSBdkuIiIiIiLPDm5LTEzE448/jnLlyqFdu3bqFh0djSeeeAJJSUkF2zoiIiIiIk8FvsOHD8eqVavw999/4/r16+r2559/qm0y4wMRERERkV+UOvzxxx/4/fff0b59+/RtsphFaGgoHnzwQXz55ZcF3UYiIiIiosLP+Eo5Q5kyZbJtL126NEsdiIiIiMh/At/WrVtjzJgxSElJSd+WnJyMcePGqfvcbdKkSahcuTJCQkLQqlUrbNq0Kdf9f/vtN9SuXVvt36BBA8yfP9/tbSQiIiIiPwh8ZdW2tWvXokKFCujYsaO6xcTEYN26deo+d5o5c6aqMZbAe9u2bWjUqBG6du2Kixcv5ri/tOmhhx5SA++2b9+O3r17q9uePXvc2k4iIiIi8oPAt379+jh8+DDGjx+Pxo0bq9u7776rtslKbu700UcfYciQIXjsscdQt25dfPXVVwgLC8PkyZNz3F8C8W7duuHll19GnTp18Oabb6Jp06b4/PPP3dpOIiIiIvKTeXwl2JQAtDClpaVh69atGDVqVPo2vV6PTp06Yf369TkeI9slQ5yRZIjnzJnj8HlSU1PVzS4+Pl59NZvN6uYu9sd253P4qsLsG03T5GSDlpoKy6nTapsxpgIQFARdcDB0Oh28Cc8bx9g3uWP/OMa+cYx94xj7xrN94+xj5yvwlYUrPvvsM+zfv199L9nU5557TtXSusvly5dhtVqzDayT7w8cOJDjMefPn89xf9nuiGSypV45q8WLF6uA392WLFni9ufwVR7rm5Mn4O143jjGvskd+8cx9o1j7BvH2Dee6RtnJ1jI13Rm/fr1Q/PmzdMHs23YsEENHJsxYwbuv/9++DLJKGfMEkvGV2qYu3TpgqioKLd+UpETonPnzjCZTG57Hl9UGH0jGd7kufMQN/p1wGbLeSeDHkXefBOhPbqr7K834HnjGPsmd+wfx9g3jrFvHGPfeLZv7FfoCzzwfeWVV1Rw+MYbb2TaLgPO5D53Bb4lS5aEwWDAhQsXMm2X78uWLZvjMbLdlf1FcHCwumUlP6jCOJEL63l8kbv6RrNakbZnLxJefgUGR0HvfyW89DJCKleGqXkz6AwGeAueN46xb3LH/nGMfeMY+8Yx9o1n+sbZx3V5cNu5c+cwYMCAbNsfeeQRdZ+7BAUFoVmzZli2bFn6NpvNpr53NI2abM+4v5BPHIUx7Rr5EIsF8R995DjTm5HNhhsff6yOISIiIt/icuArK7b9888/2bavWbMGd9xxB9xJShC+/fZbTJs2TdUXP/PMM0hMTFSzPAgJyDMOfnvhhRewcOFCfPjhh6oOeOzYsdiyZYuqRyays16+jLS165zeP3XNWtiuXHVrm4iIiKjguVzqcO+99+LVV19VMyzcdttt6TW+slCEDAr766+/Mu1bkPr27YtLly7h9ddfVwPUZCo1CWztA9hiY2PVTA92bdq0wc8//4zXXnsN//73v1GjRg01o4NMyUZkZ965y7UDNA1pe3YjNLqcu5pERERE3hD4Pvvss+rrF198oW453Sdk2ieZhaGgSbbWUcZ25cqV2bY98MAD6kbkiGbNR9mCpeDPbSIiIvKywFfqaon8ialqNZePMVat6pa2EBERkRfV+BL5G2OtmjDWquX8/nVqw1jd9WCZiIiIPCtfC1hs3rwZK1aswMWLF7NlgGVZYSKfYrMh4qkncX34CKd2j3jqKedmgCAiIiLfDnzfeecdNVisVq1aalBZxiVcvW05VyJn6IKCENanN9K2bEHSz7/kum/YIw8jrNe96hgiIiLy88D3k08+weTJkzFo0CD3tIjIAySQLfr2WzDVqYOEr76G9cyZTPcbypdHxDNPI/zh/gx6iYiIAiXwlenC2rZt657WEHmQBLTh/R9C+IBHkbp+A8y7d6vtpoYNEdz6NllzkUEvERFRIAW+L774IiZNmoSJEye6p0VEHqQLCVFfQ+64HcFtbq7wl740sRctUUxERESFEPi+9NJL6NGjB6pVq4a6detmWxt51qxZ+WgGkfdJD3iJiIgoMAPf//u//1MzOnTo0AElSpTggDYiIiIi8s/Ad9q0afjjjz9U1peIiIiIyG8XsChevLgqcyAiIiIi8uvAd+zYsRgzZgySkpLc0yIiIiIiIm8odfj0009x9OhRtXhF5cqVsw1u27ZtW0G2j4iIiIjIM4Fv7969C+aZiYiIiIi8OfCVMgciIiIiIr8PfO22bt2K/fv3q3/Xq1cPTZo0Kch2ERERERF5NvC9ePEi+vXrh5UrV6Jo0aJq2/Xr19W8vjNmzECpUqUKtoVERERERJ6Y1eH555/HjRs3sHfvXly9elXd9uzZg/j4eLW4BRERERGRX2R8Fy5ciKVLl6JOnTrp22Tp4kmTJqFLly4F3T4iIiIiIs9kfG02W7YpzIRsk/uIiIiIiPwi8L3rrrvwwgsv4OzZs+nbzpw5gxdffBEdO3Ys6PYREREREXkm8P38889VPa8sXiFLF8utSpUqattnn31WMK0iIiIiIvJ0jW9MTIxanU3qfA8cOKC2Sb1vp06dCrptRLnSbDZoKSmApkFnMEAXEuLpJhEREZG/zeOr0+nQuXNndSMqbLbUVOiMRqRu2ICUhYugJSVBX6IEwh7qB2P58oBer+4nIiIiylepw/Lly9XsDVLSkFVcXJxaxOKff/5x9uGI8kUyvGn/rMGFO+7ElQf7IXHyFCTNmImESV/g4u3tcPnBfrCePQstNdXTTSUiIiJfDXwnTpyIIUOGICoqKtt9RYoUwVNPPYWPPvqooNtHlE6C2eSFi3Bl0GOwnjyZ4z5pmzfjYrfuN4Nfs7nQ20hERER+EPju3LkT3bp1c3i/zOEryxgTuYstMQnXhr2oanpzo8XF4crjg6Ump9DaRkRERH4U+F64cCHH+XvtjEYjLl26VFDtIsom6acfASezuJZDh5C2cxe0PIJkIiIiChxOB77ly5dXSxM7smvXLpQrV66g2kWUTdIfs13b/4cf1MA3IiIiIpcC3+7du2P06NFIkemjskhOTsaYMWNwzz33sFfJbWwXL7q0v/XcOZY7EBERUTqn53x67bXXMGvWLNSsWRPPPfccatWqpbbLXL6TJk2C1WrFf/7zH2cfjshlulxKbXIUFJRnPTAREREFDqcD3zJlymDdunV45plnMGrUqPTaSZnTt2vXrir4lX2I3MXUvDmsy5Y5vX9wmzaAweDWNhEREZHvcGmW/0qVKmH+/Pm4du0ajhw5ooLfGjVqoFixYu5rIdF/RTw2EHHOBr7BwQh/5GHouZobERER/Ve+lreSQLdFixb5OZQo34Jat0ZQs6ZI27otz30jBj8BndHF0ggiIiLya04PbiPyOL0eJX7+CabGjXPdLezh/oh6+SXoQpntJSIiov9h4Es+Q+rJdWFhKDVnFop9+glMDRv+706DASFduqDkH7+j6Ftvuj4QjoiIiPxevkodiDxFp9erzG/ovT3VTZYxlps+PPzmDkFBN/chIiIiyqLAIgSbzYa5c+cW1MMR5UoyunLTR0TAUKIEdCEhN28MeomIiMhdGV+Z3WHy5MmYOnWqWrLY7OSSskREREREhSlf6TFZqW369Olo166dWshC5vd9/fXXcfr06YJvIRERERFRYWd8N2/ejO+++w4zZsxAtWrV8PDDD6ug94svvkDdunULoj1ERERERJ4NfBs2bIj4+Hj0799fBbv16tVT20eOHOmelhEREREReaLU4eDBg6q0oUOHDszuEhEREZH/Br7Hjh1T9bzPPPMMKlSogJdeegnbt29Xc6sSEREREflN4Fu+fHn85z//UbM4/PDDDzh//jzatm0Li8WiZnQ4dOiQe1tKRERERFTYszrcdddd+PHHH3Hu3Dl8/vnnWL58OWrXrq3qgImIiIiIvNEtzfZfpEgRPPvss9iyZQu2bduG9u3bF1zLiIiIiIg8EfjK3L1//fUXbty4ke0+me0hNjYW77//fkG2jYiIiIio8APfb775Bp988gkiIyOz3RcVFYVPP/1UzfFLREREROTTge9PP/2EYcOGObxf7ps2bVpBtYuIiIiIyDOB7+HDh9GoUSOH98vANtnHXa5evapWipPsctGiRfHEE08gISEh12Ok5limW8t4e/rpp93WRiIiIiLyg8BXpi27dOmSw/vlPtnHXSTo3bt3L5YsWYK5c+di9erVePLJJ/M8bsiQIWr2Cfvtvffec1sbiYiIiMgPliyWJYqXLl2KZs2a5Xj/4sWL05cxLmj79+/HwoULsXnzZjRv3lxt++yzz9C9e3d88MEHiI6OdnhsWFgYypYt65Z2EREREZEfBr6PP/44hg8froLbe+65J9N9f//9N95++2189NFH7mgj1q9fr8ob7EGv6NSpE/R6PTZu3Ig+ffrkWpsscw5L8NuzZ0+MHj1aBcOOpKamqlvGGSuE2WxWN3exP7Y7n8NXsW8cY984xr7JHfvHMfaNY+wbx9g3nu0bZx9bp2ma5uyDPvLII/j555/VYhWyfLE4cOCAWrXtwQcfxC+//AJ3eOedd9TAuYMHD2baXrp0aYwbN04to+xoJopKlSqpjPCuXbvw6quvomXLlpg1a5bD5xo7dqx6zKzkdecWMBMRERGRZyQlJaF///6Ii4tT48FuOeMrJHN67733qiyqBLsSM0sALIGiBL6uGjlyJCZMmJBnmUN+ZawBbtCgAcqVK4eOHTvi6NGjqFatWo7HjBo1SmW2M2Z8Y2Ji0KVLl1w7siA+qUj9cufOnWEymdz2PL6IfeMY+8Yx9k3u2D+OsW8cY984xr7xbN/Yr9DnxaXAV0iAm58gNycjRozAoEGDct2natWqqkzh4sWLmbbLQDqZ6cGV+t1WrVqpr0eOHHEY+AYHB6tbVvKDKowTubCexxexbxxj3zjGvskd+8cx9o1j7BvH2Dee6RtnH9fpwNdms6mV2WT1trS0NJU5HTNmDEJDQ/PdyFKlSqlbXlq3bo3r169j69at6YPrli9frtpkD2adsWPHDvVVMr9EREQFKc2apr4a9Ab190mDhiBDkKebRUT5CXxl8JrUv8qgMgl2ZRU3ycJOnjwZ7lanTh1069ZNTU321VdfqZT5c889h379+qXP6HDmzBkVjE+fPl3V8Uo5g9TlyswPJUqUUDW+L774Itq1a6fmHCYiIioIqdZU2DQbFp1YiDVn/kFC2g2EGsPQqtxtuKfqPSr4DTJkv5JIRF4c+EpA+cUXX+Cpp55S38vUZj169FDLFMvsCu4mdcUS7EpwK893//33q2WS7SQYlsFvUtwsgoKCVBsnTpyIxMREVacrx7z22mtubysREQVOlnf16VX4eueXSLPdzPjaHY07gpkHf0H/2g+jd437YNLz8jeRzwS+sbGxKntqJ5lfWQnt7NmzqFChAtytePHiKoPrSOXKldVgOzsJdFetWuX2dhERUeBmev85vQqfbf/E4T5WzYof9k9XGeE+Ne5n6QORL63cFhISkq2QmPPVERFRoPp611dO7ffLgZ+RaE50e3uIqIAyvpJNlRkYMs54kJKSgqeffhrh4eHp23KbI5eIiMgfmK1mLD25RGV9nWGDDX8f/RN9az+EYNb7Enl/4Dtw4MAcF7QgIiIKNFK6IAPZXLH27Fo8UneA29pERAUY+E6ZMsXZXYmIiPyaDLJONCe4dIzsr9e5fzA4ETnGdyAREZGLZJ7ecNP/yvycIftLppiIPIeBLxERkYv0Oh1aR7d16ZjbyrWG2cYB4USexMCXiIjIRSZDELpU6ur0whQ66NCrWm8ObCPyMAa+RERE+SBz2T9Rf7BT+/6r5oOICIp0e5uIqIAGtxEVBs1mk2X4YLt+HWm7dskE0tAqVrp5X1qaTB7t6SYSESmSve1UsROsmg2Td38Li2bJto8eejxQ60H0rfUQjHr+ySXyNL4LyWvYUlJg2bsP8R98iNR//pHJo9V2qyyc8tEHSJ43H6bevaAL4spHROQ9JQ+dK3VGh5gOmH9sLtacXYMbaTcQZgzDbeVuwz3V7lX/ZtBL5B34TiSvCXpT5s3HtReHA1ZrjvvEjfo3bJs2oeg7bzP4JSKvyvzKrVf1PmpZYglyLTaLWq6YNb1E3oU1vuQVrMeO5xr02iX9MgOJ03+AlpJSaG0jInJGkCEoPbMrXxn0EnkfBr7kcbbkZNz47LM8g167hK+/Zq0vERERuYyBL3mexYLkBQud3t169hxS16x1a5OIciOLEHAhAiIi38MaX/I46+nTaiYHV5h37UJw2zbQGXkKU+FIs6bBoDNg/9V9OHTtkMwzgipFqqJhyUawahan53MlIiLPYdRAHqf9d/YGIm9ltpqxPHYZ/jj8Oy4knc90X8nQkri3Wm/cU/UeGPUswfEFkq2XwWeaZkOSJVnV5trrcTn7ApF/4zucPM4YEwNI5taSfQ5MR0z16zPbS4VClpiduncy/j72V473X06+jMl7vsOJuON4rsn/MXDychLw7r28B7OPzML2i9ug4eYH7+pFq6Nn1V64o0I7lrEQ+THW+JLnGY0I6dbV6d315coiuN0dbm0SkT1I2nhug8OgN6Plp5ZhyclFKjtM3vvz/Gz7Jxi97j/YdnFretArjlw/go+3fYiR/7yiylqIyD8x8CWP04WEIPL55wGDwan9I4YMcbkmmCi/Zh3+3el9/zwyB3odf616ozRrKqbsmYwVp5bnut+hawcxftPbCGQS+FttVhy9fhQ7L+3A4WuH1IeGVEuqp5tGdMt4TY68Yr17Y/VqKPr+e7j+0suALFvsQNiDDyDisUFcwIIKxcWkCyoT6KyziWdxNO4oahar6dZ2Uf6CufnH5zq178FrB9BK1zrgSh5sNptadnnW4T+w6MQCXEm5kn5fVFAUOlfqgvuq3O/RNhLdKga+5BX0ISEI63UvjJUrI/7DD5G2dl22fYq8MQ5RD/yLQS8VmrMJZ10+5vSNWAa+XpjtnXd8nlpJzRWS5QxGcMAMMk61pWLUP6/gWNyxbPfHp8WrwZ0bT29AV3RXGWETOJiTfA8DX/Kqkoeg5s1Q8ofpsF6+DPOOndAsZmhVqgDHjyO0dy8GvVSo9DpDoRxD7mXTNOy5vNvl42S2h0AhHwre3vBGjkFvRheSLwA6+YVdaE0jKlAMfMmr6KTO12CAsXx5dRNmqec9fpxBLxW6KkWqQA89bHD+knetYrXc2iZynQ46NTsHOXYm4TR2Xd7l9P4yM0aTck1Z004+h2csEZED4aZwNCnT1On96xSvg5JhpdzaJnKdfHCR+ZZdFShzjKdYUtTATFfMOzYXFn6YIB/EwJeIyAGZk/eh2v2dympJVrFf7YdVhpi8iyxOcXfl7i4fFyhZYjm/8ypxyCr2xkmuVkg+ib+hiYhyCQgqR1XBsKbDcw1+Jeh9quHTqFeiHgx61vh6G/nZ1S5eB+UjKji1v0lnCqgaXzl/ZQluV+umiXwRA18iolxI8NM6ug0+bv8J2kbfDqPOmCmgalX2NrzX7gN0qtQ5YAIlXySLVbzWarQqX8mNZOyfb/oCAokMbIuOuDmmwlnREeW4WAv5JA5uIyJy4lK5yvw2G66muDqfeE7lx8qElVHBrklv4iAfHyhbKRVWGh/dORETt32M/Vf3ZdunfER5PNXwGdSIqomlWIpAOr97Vr0Xa8784/QxXSrfzXOefBIDXyIiJxdakQBBbtWKVvd0cygf5ENK6bAyeOv2d3Ap6RKWxS5BfGo8QowhaBPdFjWL1bq5aIUt8M5tee3y4e5E/HGnjmlRpgXLesgnMfAl8gG25OSbK9rpdDLUHPrw3C/XElHOJFiT/6IjotG3Vj9YNRv00KmBWhIAyn2BMqgtEx0wts0beGnVi7icfNnhbhGmSMASODNekP9h4EvkxbSUFNgSEpDw/eSbC3pYLTBWrIjwJx6HqXoNaFbXVqIiov/hrAT/Y9AZ1LLEEzt8hil7vsc/Z/5RK97ZSW37bdGtMaD2QGxcvgkmA1dtI9/EwJfIS2lpabg+6t9I+v2Pm9ne/5LlnJN+mQFTk8aI+uZrj7aRiPyrDlqCX6lzltvm85twPfU6IoMi0bxMCxXs6m2s6yXfxsCXyAtpZjOuPP4EUlesdLiPefsOXH7gQeCVlwu1bUTk36TmWdxRoV22+wKyDIT8Cj+6EXlh0Js0e06uQa+d7fyFm19TUgqhZURERL6NgS+RF0r87jvXDkhLc1dTiIiI/AYDXyIvY714Cea92ecYzU3yvPkcZU1ERJQHBr5EXsZ2/Zrrx1y+DJhZe0dERJQbBr5EXkYXFpa/YwycTJ6IiCg3DHyJvIzM06svV9alY0K6dIaOgS8REVGuGPgSeRuzGeGPPOLSIYYyZdzWHCIiIn/BwJfIy+hCQhAxZAgMVSrnvXNQ0M2ver6ViYiI8sK/lkReSBcchFKzZ8FYo4bjfSIiUPzbb27+28i1aIiIiPLCwJfIC0kgqy9eHKWXLlbBbVCrVioTDKMRxmpVETXmdZTdtgVBjRt5uqlEREQ+g2kiIi9lH6wmA9dCOnWE7r9lDZrNplZ30wcHQ8cpzIiIiJzGwJfIy2UtY9Dp9dAFB3usPURERL6KpQ5EREREFBAY+BIRERFRQGDgS0REREQBgYEvEREREQUEDm4jIiIit7PYLLDarNDpdDDpTeorUWHzmYzv22+/jTZt2iAsLAxFixZ16hhN0/D666+jXLlyCA0NRadOnXD48GG3t5WIiIgAm2ZDmjUN11KuYfbhWfhh/zTMPPgLDl07pIJgs5VTMlLh8pmMb1paGh544AG0bt0a33//vVPHvPfee/j0008xbdo0VKlSBaNHj0bXrl2xb98+hMhiAEREROQWZpsZCWkJ+Gz7J9h2YStssKXf99uhXxETGYPBDZ5E3RL1EGzgFI1UOHwm4ztu3Di8+OKLaNCggdPZ3okTJ+K1115Dr1690LBhQ0yfPh1nz57FnDlz3N5eIiKiQCXZ3Bup8Ri24nlsubA5U9Brd+rGKYxbNwabz29CmjXVI+2kwOMzGV9XHT9+HOfPn1flDXZFihRBq1atsH79evTr1y/H41JTU9XNLj4+Xn01m83q5i72x3bnc/gq9o1j7BvH2De5Y/84xr659b6Ret73Nr6LhNQEmGDKdd/PtnyCLzp9haggn8nF5YjnjWf7xtnH1mmSGvUhU6dOxbBhw3D9+vVc91u3bh3atm2rMrxS42v34IMPqoL6mTNn5njc2LFjVXY5q59//lnVFxMRERGRd0lKSkL//v0RFxeHqKgo78z4jhw5EhMmTMh1n/3796N27dqF1qZRo0Zh+PDhmTK+MTEx6NKlS64dWRCfVJYsWYLOnTvDZMr903GgYd84xr5xjH2TO/aPY+ybW+ubVEsqftw/HUtiFzv9uMWCi+HLTt/Al/G88Wzf2K/Q58Wjge+IESMwaNCgXPepWrVqvh67bNmy6uuFCxcyZXzl+8aNGzs8Ljg4WN2ykh9UYZzIhfU8voh94xj7xjH2Te7YP46xb/LXNxadBRdTL8IM5y9ry/56ox4GnQG+jueNZ/rG2cf1aOBbqlQpdXMHmcVBgt9ly5alB7ryaWDjxo145pln3PKcREREBBj1roUXevhH0Evez2cqyWNjY7Fjxw711Wq1qn/LLSEhIX0fKYmYPXu2+rfU8Uot8FtvvYW//voLu3fvxoABAxAdHY3evXt78JUQERH5L6POoKYoc0Wt4rXU9GdE7uYzszrIQhQyH69dkyZN1NcVK1agffv26t8HDx5URc12r7zyChITE/Hkk0+qwXC33347Fi5cyDl8KZ0tKQm6kBDo9HpoMiJU06ALCvJ0s4iIfJbJEISulbvhx33TkWZLc+qYntV6qawvkbsZfWk2B7nlJusEFZL1feONN9SNKCPNYoF5334kfP0N0jZvVkGvIToa4Q/3R9j9990MgPkBiYgoXySIvadqT8w68kee+1aMrITW5drAoGepA7mfzwS+RAVBfThKScGVxwcjdfXqTPfZLl7E9R07EPfW2ygx+TuYGjeGnsEvEZHLgo3BeKTuAFxPvY7lp5Y53K9CRAzevn18obaNAhuvK1BgsVhwuf8j2YLejLS4OLWP5cDBm+UPRESUrwFuQ5s8j7Gt30DjUk2ggy79vujwaAxp8BQmdvgUEUERzPZSoWHGlwKGBLHJf/2NtE2b8t45NRXXXx2JUnP/KoymERH5JZPehMalm6B+yQZq8FpCWgKCDEGICoqCTbPBZOC0X1S4GPhSQEn4frLT+5r37IH58BEYSpdC8qJFQEoqjFUqI7hdOxVE60ND3dpWIiJ/oNfpVbArt3BTePp2A5jlpcLHwJcChpaUBPPOnS4dk/znnzDVqYO4V0amb9OXKIHwRx5G5LAXZMZsNYiSiIiIvB9rfClg2BITXT5Gu5EAXXhY5se5cgU3PvkUlx95VNZhLMAWEhERkTsx8KWAoY+IcP2YokVU8JuTtLXrEDfuDTUXMBEREXk/Br4UMGRe3qCWLV06JvSeHkhdt87h/Ukzf2WpAxERkY9g4EuBQ69HxJAnnN49qHkzGMqXR/KcPx3uoyUnI/GPWWpBDCIiIvJuDHwpYOiMRoR07oyQTh3z3jc8HEXefguJP/6kgtvcWA4d4ny/REREPoCBLwUUncmE4t9+g9BevRzuoy9XFiVn/ALb5SuIf/+DvB/TwCl5iIiIfAEDXwo4uqAgFJv4EcpsXI/wxx+DqWFDGGvXRnDHu1B86mSUXbsW5sOHceWxx52atUGWNpbHJCIiIu/GeXwpIEmgaqxQAVGjRkInS2XqdTfrdA0G3Pj6G9yYMMGpx9EXK4rQ7ncz60tEROQDmPGlgKYPC4MuJFgFwvJvfXAwwh/qC52TU5+FDx7MgW1EREQ+goEvURb6yCiUmD4NurDMC1dkFfbgA4gc+iyXLiYiIvIRDHyJspAMsKlRQ5RetkQFtwgJyXS/1AQXm/Q5ik54Vw2WIyIiIt/AGl+iHOhDQqCvWBFF3nkbRd56E+YDB6GlpsJYPhqG6Gi1D4NeIiIi38LAlygX9jKG4GZNPd0UIiIiukUsdSAiIiKigMDAl4iIiIgCAgNfIiIiIgoIDHyJiIiIKCAw8CUiIiKigMDAl4iIiIgCAgNfIiIiIgoIDHyJiIiIKCAw8CUiIiKigMDAl4iIiIgCAgNfIiIiIgoIDHyJiIiIKCAw8CUiIiKigMDAl4iIiIgCAgNfIiIiIgoIDHyJiIiIKCAw8CUiIiKigMDAl4iIiIgCAgNfIiLye1abFWarGRabBcmWZNg0G1IsKZ5uFhEVMmNhPyEREVFh0TQNVs2Kzec3Yc6R2dh/dZ/abtKb0Lb87ehT/X5UiCgPkyHI000lokLAwJeIiPw26E2xpmDMutE4cHV/pvvMNjNWnlqhbvfXeAD96zysgmEi8m8sdSAiIr8k5Qxjcwh6s/rj8G/468ifSLWkFlrbiMgzGPgSEZFfBr07Lm3H/jyCXrtfD82ATuf2ZhGRhzHwJSIivyOD2P48Mtvp/WXA2/LYZWoAHBH5Lwa+RETk0wGu3CTDK1+FlCwEGYKw78rNgWzO2n5xOyzazccgIv/EwW1EROST05OJDWfX469jf+Lg1QPQoKFIUBF0rNgZ91bvhffafYA3NozD1ZQrTj1mqpU1vkT+jhlfIiLyKZLdTTQnYNjK5/HelnfV4DUJekVcWhxmHfkdTywahGNxx/DO7eMRGRTl1OOWCC3h5pYTkacx8CUiIp8iJQ2j1ozEyfiTDveRuXs/2/6J2mdIgyedetyulbshxBBSgC0lIm/DwJeIiHyGDD5bcnIxTt2IzXNfyQJP2zsFbaNvR9HgornuWzGyEqoVqQ4dp3Yg8msMfImIyGfodXrMPfa30/ufTTyLPVd2o1PFzg73CTOGYVTLf6eXSxCR/2LgS0REPiPRnIgzCaddOmbHxe2oWaxWjvdVLVINH7afiFJhpWHUc7w3kb/zmXf522+/jXnz5mHHjh0ICgrC9evX8zxm0KBBmDZtWqZtXbt2xcKFC93YUiIicpc0W5rLx8hsDY1KNcaolv/BpvMb1fdS+tC5UlfERMaofRj0EgUGn3mnp6Wl4YEHHkDr1q3x/fffO31ct27dMGXKlPTvg4OD3dRCIiJytwhTOPTQwwab08cUCy6mAtuWZVuhcekmapsOOoQYOZCNKND4TOA7btw49XXq1KkuHSeBbtmyZd3UKiIiKkx6nQFNyjTF1gtbnNpfAtxOlbrAZDCp70P1oW5uIRF5M58JfPNr5cqVKF26NIoVK4a77roLb731FkqUcDxXY2pqqrrZxcfHq69ms1nd3MX+2O58Dl/FvnGMfeMY+8Y/+0fTNPSq3Bu7Lux0av9GJRsjRBfi0uv01b4pDOwbx9g3nu0bZx9bp8lvER8iGd9hw4Y5VeM7Y8YMhIWFoUqVKjh69Cj+/e9/IyIiAuvXr4fBYMjxmLFjx6ZnlzP6+eef1WMRERERkXdJSkpC//79ERcXh6ioKO8MfEeOHIkJEybkus/+/ftRu3btfAW+WR07dgzVqlXD0qVL0bFjR6czvjExMbh8+XKuHVkQn1SWLFmCzp07w2S6eUmObmLfOMa+cYx949/9I4tY/HH4d8w7NhdptuxLDdcoWgMvNnsJkabI9DKHQOkbd2LfOMa+8WzfSLxWsmTJPANfj5Y6jBgxQs28kJuqVasW2PPJY0mnHDlyxGHgKzXBOQ2Akx9UYZzIhfU8voh94xj7xjH2jX/2jwkmPFDnQfyr9gNYenIx9lzZA7PNjFKhpdC9Sg9ER5RX9b0GvSHg+qYwsG8cY994pm+cfVyPBr6lSpVSt8Jy+vRpXLlyBeXKlSu05yQiIvcINtxMUnStfDc6ygIVOs7WQER+soBFbGysmsNXvlqtVvVvuSUkJKTvIyURs2fPVv+W7S+//DI2bNiAEydOYNmyZejVqxeqV6+u5vIlIiL/IKUMoaZQhBpDGfQSkX/M6vD6669nWoyiSZObczGuWLEC7du3V/8+ePCgqu0QMnht165d6hipB46OjkaXLl3w5ptvci5fIiIiogDkM4GvDGrLaw7fjOP0QkNDsWjRokJoGRERERH5Ap8pdSAiIiIiuhUMfImIiIgoIDDwJSIiIqKAwMCXiIiIiAICA18iIiIiCggMfImIiIgoIDDwJSIiIqKAwMCXiIiIiAICA18iIiIiCggMfImIiIgoIDDwJSIiIqKAwMCXiIiIiAICA18iIiIiCggMfImIiIgoIDDwJSIiIqKAwMCXiIiIiAICA18iIiIiCggMfImIiIgoIDDwJSIiIqKAwMCXiIiIiAICA18iIiIiCghGTzeAiIjIG9g0G9KsaTBbzOp7TdM83SQiKmAMfImIKKBJsGvQGbDvyl78c2Y1UtJSUQ3VceT6EdQqWUsFxCaDydPNJKICwMCXiIgCVpo1Ffuv7MekHZ/hfNJ5tc0EE6rpqmP0un+jbGRZDGs6HJWiKiPIEOTp5hLRLWKNLxERBaRUayp2XtqJMetHpwe9WZ26cQoj/3kFx+KOqswwEfk2Br5ERBSQpIb3/c0TVClDbsw2M97Z+Bb0Ov7JJPJ1fBcTEVHAMVvNWHpyMVKsKU7tfz31Ojae2wCrzer2thGR+zDwJSKigKPT6bA0dolLxyw+uQgWm8VtbSIi92PgS0REAceoN+JqylWXjrmacgUGPf9sEvkyvoOJiCgg63tNetemKDPpg2Dj3L5EPo2BLxERBeSMDg1KNnTpmIYlG0HLYyAcEXk3Br5ERBRwQowh6FPjPqf310OPe6v3QrAxxK3tIiL3YuBLREQBqXxEBdxWrrVT+3au3AURpgi3t4mI3IuBLxERBewAt5ebv4pmZZrnul+7CnfiqYbPcOU2Ij/AJYuJiChgmQwm/KfVaOy6tBNzjsxSK7nZNS/dAj1r9kLt4rVVkExEvo/vZCIiCmgS1DYu3QT1SzZQ8/smpSRh5ZKV+L+mwxAaHMoV24j8CANfIiIKeBLc2ksZwkxh6qt8z6CXyL/wHU1EREREAYGBLxEREREFBAa+RERERBQQGPgSERERUUBg4EtEREREAYGBLxEREREFBAa+RERERBQQGPgSERERUUBg4EtEREREAYGBLxEREREFBAa+RERERBQQGPgSERERUUAweroB3k7TNPU1Pj7erc9jNpuRlJSknsdkMrn1uXwN+8Yx9o1j7JvcsX8cY984xr5xjH3j2b6xx2n2uM0RBr55uHHjhvoaExPj6aYQERERUR5xW5EiRRzer9PyCo0DnM1mw9mzZxEZGQmdTue255FPKhJcnzp1ClFRUW57Hl/EvnGMfeMY+yZ37B/H2DeOsW8cY994tm8knJWgNzo6Gnq940peZnzzIJ1XoUKFQns+OSH4hskZ+8Yx9o1j7JvcsX8cY984xr5xjH3jub7JLdNrx8FtRERERBQQGPgSERERUUBg4OslgoODMWbMGPWVMmPfOMa+cYx9kzv2j2PsG8fYN46xb3yjbzi4jYiIiIgCAjO+RERERBQQGPgSERERUUBg4EtEREREAYGBLxEREREFBAa+HnLixAk88cQTqFKlCkJDQ1GtWjU14jEtLS3X41JSUjB06FCUKFECERERuP/++3HhwgX4m7fffhtt2rRBWFgYihYt6tQxgwYNUqvrZbx169YN/iY/fSNjWF9//XWUK1dOnW+dOnXC4cOH4W+uXr2Khx9+WE2QLn0j77GEhIRcj2nfvn228+bpp5+Gr5s0aRIqV66MkJAQtGrVCps2bcp1/99++w21a9dW+zdo0ADz58+HP3Olf6ZOnZrtHJHj/M3q1avRs2dPtfKVvMY5c+bkeczKlSvRtGlTNVq/evXqqq/8lav9I32T9byR2/nz5+FPxo8fjxYtWqgVbkuXLo3evXvj4MGDeR7nqd85DHw95MCBA2o55K+//hp79+7Fxx9/jK+++gr//ve/cz3uxRdfxN9//61OmFWrVqnllO+77z74G/kA8MADD+CZZ55x6TgJdM+dO5d+++WXX+Bv8tM37733Hj799FN1jm3cuBHh4eHo2rWr+iDlTyTolffTkiVLMHfuXPWH6sknn8zzuCFDhmQ6b6S/fNnMmTMxfPhw9WF627ZtaNSokfp5X7x4Mcf9161bh4ceekh9UNi+fbv6wyW3PXv2wB+52j9CPkxlPEdOnjwJf5OYmKj6Qj4UOOP48ePo0aMHOnTogB07dmDYsGEYPHgwFi1aBH/kav/YSRCY8dyR4NCfrFq1SiXkNmzYoH73ms1mdOnSRfWXIx79nSPTmZF3eO+997QqVao4vP/69euayWTSfvvtt/Rt+/fvl+notPXr12v+aMqUKVqRIkWc2nfgwIFar169tEDhbN/YbDatbNmy2vvvv5/pXAoODtZ++eUXzV/s27dPvRc2b96cvm3BggWaTqfTzpw54/C4O++8U3vhhRc0f9KyZUtt6NCh6d9brVYtOjpaGz9+fI77P/jgg1qPHj0ybWvVqpX21FNPaf7I1f5x5feQv5D30uzZs3Pd55VXXtHq1auXaVvfvn21rl27av7Omf5ZsWKF2u/atWtaILl48aJ63atWrXK4jyd/5zDj60Xi4uJQvHhxh/dv3bpVfZKSy9R2cpmgYsWKWL9+fSG10rvJpSX5NF2rVi2VEb1y5QoCnWRl5NJaxvNG1jOXy7v+dN7Ia5HyhubNm6dvk9es1+tVljs3P/30E0qWLIn69etj1KhRSEpKgi9fEZDfFRl/3tIH8r2jn7dsz7i/kAyoP50ft9I/QkpmKlWqhJiYGPTq1UtdWQh0gXTe3IrGjRurMrPOnTtj7dq1CIRYRuQWz3jy3DG6/RnIKUeOHMFnn32GDz74wOE+ErwEBQVlq+ssU6aM39UM5YeUOUjZh9RNHz16VJWN3H333eqNZDAYEKjs54acJ/583shryXoJ0Wg0ql++ub3O/v37q4BG6vZ27dqFV199VV2anDVrFnzR5cuXYbVac/x5S4lVTqR//P38uJX+kQ/SkydPRsOGDdUfdfk9LXX2EvxWqFABgcrReRMfH4/k5GQ1niCQSbAr5WXyYTw1NRXfffedGlMgH8SlLtof2Ww2VfLStm1blUhwxJO/c5jxLWAjR47MsZg94y3rL9czZ86ooE3qNqXW0F/lp29c0a9fP9x7772qSF5qhaTGc/PmzSoLHOh948vc3TdSAyyZBjlvpEZ4+vTpmD17tvrwRCRat26NAQMGqMzdnXfeqT4UlSpVSo3RIHJEPjA99dRTaNasmfqgJB+e5KuM6fFXQ4cOVXW6M2bMgLdixreAjRgxQs0ukJuqVaum/1sGp8nAAHkzfPPNN7keV7ZsWXWZ7vr165myvjKrg9znb31zq+Sx5PK1ZNM7duyIQO0b+7kh54lkIOzke/lD7u2c7Rt5nVkHJ1ksFjXTgyvvDykBEXLeyGwrvkbOebnCkXW2l9x+T8h2V/b3Zfnpn6xMJhOaNGmizpFA5ui8kYGAgZ7tdaRly5ZYs2YN/NFzzz2XPqg4ryshnvydw8C3gEkWQG7OkEyvBL3yaXDKlCmqziw3sp/8wl22bJmaxkzIJdnY2FiVkfCnvikIp0+fVjW+GYO9QOwbKf2QXyZy3tgDXbkUKZfbXJ01w5v7Rt4D8qFQ6jflvSKWL1+uLr3Zg1lnyOh04QvnTU6kHEpev/y85cqHkD6Q7+UPk6O+k/vlEqWdjM72hd8rhdE/WUmpxO7du9G9e3cEMjk/sk5B5a/nTUGR3y+++rvFERnr9/zzz6srZXKFVf7m5MWjv3PcPnyOcnT69GmtevXqWseOHdW/z507l37LuE+tWrW0jRs3pm97+umntYoVK2rLly/XtmzZorVu3Vrd/M3Jkye17du3a+PGjdMiIiLUv+V248aN9H2kb2bNmqX+LdtfeuklNbvF8ePHtaVLl2pNmzbVatSooaWkpGiB3Dfi3Xff1YoWLar9+eef2q5du9TsFzKDSHJysuZPunXrpjVp0kS9Z9asWaN+/g899JDD99SRI0e0N954Q72X5LyR/qlatarWrl07zZfNmDFDzdoxdepUNdvFk08+qX7+58+fV/c/+uij2siRI9P3X7t2rWY0GrUPPvhAzRQzZswYNYPM7t27NX/kav/Ie23RokXa0aNHta1bt2r9+vXTQkJCtL1792r+RH6H2H+fSHjw0UcfqX/L7xwhfSJ9Y3fs2DEtLCxMe/nll9V5M2nSJM1gMGgLFy7U/JGr/fPxxx9rc+bM0Q4fPqzeSzJ7jF6vV3+f/MkzzzyjZj1ZuXJlplgmKSkpfR9v+p3DwNdDZHoceePkdLOTP8TyvUyJYieByrPPPqsVK1ZM/cLp06dPpmDZX8jUZDn1Tca+kO+lH4W8wbp06aKVKlVKvXkqVaqkDRkyJP0PWSD3jX1Ks9GjR2tlypRRf/DlA9fBgwc1f3PlyhUV6MoHgqioKO2xxx7L9IEg63sqNjZWBbnFixdX/SIfRuWPeFxcnObrPvvsM/UhOSgoSE3ftWHDhkxTuMl5lNGvv/6q1axZU+0vU1TNmzdP82eu9M+wYcPS95X3UPfu3bVt27Zp/sY+/VbWm70v5Kv0TdZjGjdurPpGPjRm/L0T6P0zYcIErVq1aupDkvyOad++vUpa+Rs4iGUyngve9DtH999GExERERH5Nc7qQEREREQBgYEvEREREQUEBr5EREREFBAY+BIRERFRQGDgS0REREQBgYEvEREREQUEBr5EREREFBAY+BIRERFRQGDgS0REREQBgYEvEQW0QYMGQafTqVtQUBCqV6+ON954AxaLJX0fWeDym2++QatWrRAREYGiRYuiefPmmDhxIpKSkjI93unTp9Xj1K9f3+k2nD9/Hs8//zyqVq2K4OBgxMTEoGfPnli2bFmBvlZ/+Fn17t07z/1Wr16t+i86Olr9XOfMmVMo7SMi78fAl4gCXrdu3XDu3DkcPnwYI0aMwNixY/H++++n3//oo49i2LBh6NWrF1asWIEdO3Zg9OjR+PPPP7F48eJMjzV16lQ8+OCDiI+Px8aNG/N87hMnTqBZs2ZYvny5es7du3dj4cKF6NChA4YOHeqW1+vvEhMT0ahRI0yaNMnTTSEib6MREQWwgQMHar169cq0rXPnztptt92m/j1z5kxNflXOmTMn27E2m027fv16pu+rVq2qLVy4UHv11Ve1IUOG5Pn8d999t1a+fHktISEh233Xrl1L//fJkye1e++9VwsPD9ciIyO1Bx54QDt//nz6/WPGjNEaNWqkff/991pMTIza75lnntEsFos2YcIErUyZMlqpUqW0t956K9NzyGv74osvtG7dumkhISFalSpVtN9++y3TPrt27dI6dOig7i9evLh6XTdu3MjWh++//75WtmxZtc+zzz6rpaWlpe+TkpKijRgxQouOjtbCwsK0li1baitWrEi/f8qUKVqRIkVU39WuXVu1v2vXrtrZs2fTX5+0NeMt4/GOyH6zZ8/Ocz8iCgzM+BIRZREaGoq0tDT1759++gm1atVS2d6s5DJ6kSJF0r+XbLCUPnTq1AmPPPIIZsyYobKPjly9elVldyWzGx4enu1+KakQNptNPb/sv2rVKixZsgTHjh1D3759M+1/9OhRLFiwQD3mL7/8gu+//x49evRQ5Rdy3IQJE/Daa69ly0RL9vr+++/Hzp078fDDD6Nfv37Yv3+/uk/a37VrVxQrVgybN2/Gb7/9hqVLl+K5557L9Bjy2uX55eu0adNU5ltudrL/+vXrVZ/s2rULDzzwgMq0S5bdTvrugw8+wA8//KDKFWJjY/HSSy+p++SrZNLt2Xm5tWnTxmHfEhHlyNORNxGRt2R8JWO7ZMkSLTg4WHvppZfUtjp16qhMqzP69++vDRs2LP17ycBKJtORjRs3qozkrFmzcn3cxYsXawaDQYuNjU3ftnfvXnXspk2b0jOikkmNj49P30cyppUrV9asVmv6tlq1amnjx49P/14e4+mnn870fK1atVLZYvHNN99oxYoVy5SRnjdvnqbX69MzztKHlSpVUtllO8lI9+3bNz1bLe0/c+ZMpufp2LGjNmrUKPVv6Sdpy5EjR9LvnzRpkspU55adzwszvkSUkTHncJiIKHDMnTtXDVozm80qu9q/f39V5ytuxk55u379OmbNmoU1a9akb5Osr2RdZVBWTpx9bMm+yoA3udnVrVtXZYTlvhYtWqhtlStXRmRkZPo+ZcqUgcFggF6vz7Tt4sWLmR6/devW2b6XOmb7c0u9bMaMdNu2bVU/HTx4UD2eqFevnnouu3Llyql6ZSFfrVYratasmel5UlNTUaJEifTvw8LCUK1atUyPkbWtRES3goEvEQU8GUj25ZdfqtkYZCYAo/F/vxolWDtw4ECej/Hzzz8jJSVFzfyQMbCVAPHQoUPZgj5Ro0YNVS7hzOM7w2QyZfpeHjunbdKmgpbb8yQkJKigeOvWrZmCYyEfOHJ7DGc/HBAROYM1vkQU8CSbKdOYVaxYMVPQKyT7K4GrzOCQlQRlcXFx6t+S2ZUZISRTar9Jzewdd9yByZMn5/i8xYsXV/WzMvtATrXAkkUWderUwalTp9TNbt++fep+yfzeqg0bNmT7Xp7T/tzyOjK2b+3atSqLLLXPzmjSpInK+Er2Vvo5461s2bJOt1M+mMjjEBHlFwNfIqJcyIAqGUT20EMP4Z133sGWLVtw8uRJVR4hg9js05tt27YNgwcPVvP3ZrzJcTLYK+O8wBlJ0CvBXMuWLfHHH3+owV5SXvDpp5+mlyDI8zRo0EANPJPn2bRpEwYMGIA777xTzSd8q2TAmgTnEuCPGTNGPb598Jo8Z0hICAYOHIg9e/ao1ytzDssUb/Yyh7xItlseR9os5SDHjx9XzzF+/HjMmzfP6XZKKYcMjJMSi8uXL6vSlJxIhtn+4UPI88m/ZbAcEQU2Br5ERLmQy+1SxvDRRx+phRAk2GzYsKGqAZaZFiRjK9leybzWrl072/F9+vRRmc758+fn+PiyaIUEs1JuIRljCZY7d+6sFq+Q8gt7GyTjLDMrtGvXTgXCctzMmTML5DWOGzdOzbYgr2v69OlqRgh7JlnqbhctWqRmlJBa4n/961/o2LEjPv/8c5eeY8qUKSrwldcomWJZiEJmiZAsu7OGDBmijpVgv1SpUirznBP5cCJZZrmJ4cOHq3+//vrrLrWZiPyPTka4eboRRETkGRJUz54926kV0YiIfB0zvkREREQUEBj4EhEREVFA4HRmREQBjNVuRBRImPElIiIiooDAwJeIiIiIAgIDXyIiIiIKCAx8iYiIiCggMPAlIiIiooDAwJeIiIiIAgIDXyIiIiIKCAx8iYiIiAiB4P8B5H+IoCFoZ4UAAAAASUVORK5CYII=\",","      \"text/plain\": [","       \"\u003cFigure size 800x600 with 1 Axes\u003e\"","      ]","     },","     \"metadata\": {},","     \"output_type\": \"display_data\"","    }","   ],","   \"source\": [","    \"import seaborn as sns\\n\",","    \"\\n\",","    \"plt.figure(figsize=(8, 6))\\n\",","    \"sns.scatterplot(data=df, x='PCA1', y='PCA2', hue='Cluster', palette='Set1', s=100)\\n\",","    \"plt.title('Customer Segments (2D PCA Projection)')\\n\",","    \"plt.xlabel('PCA Component 1')\\n\",","    \"plt.ylabel('PCA Component 2')\\n\",","    \"plt.legend(title='Cluster')\\n\",","    \"plt.grid(True)\\n\",","    \"plt.show()\\n\"","   ]","  },","  {","   \"cell_type\": \"code\",","   \"execution_count\": null,","   \"id\": \"03c9e7b2-96ba-4ab8-bf2a-0f405ad7da40\",","   \"metadata\": {},","   \"outputs\": [],","   \"source\": []","  }"," ],"," \"metadata\": {","  \"kernelspec\": {","   \"display_name\": \"Python 3 (ipykernel)\",","   \"language\": \"python\",","   \"name\": \"python3\"","  },","  \"language_info\": {","   \"codemirror_mode\": {","    \"name\": \"ipython\",","    \"version\": 3","   },","   \"file_extension\": \".py\",","   \"mimetype\": \"text/x-python\",","   \"name\": \"python\",","   \"nbconvert_exporter\": \"python\",","   \"pygments_lexer\": \"ipython3\",","   \"version\": \"3.13.3\"","  }"," },"," \"nbformat\": 4,"," \"nbformat_minor\": 5","}"],"stylingDirectives":null,"colorizedLines":null,"csv":null,"csvError":null,"dependabotInfo":{"showConfigurationBanner":false,"configFilePath":null,"networkDependabotPath":"/GedelaSruthipriya/Main-flow-task3/network/updates","dismissConfigurationNoticePath":"/settings/dismiss-notice/dependabot_configuration_notice","configurationNoticeDismissed":null},"displayName":"tas3.ipynb","displayUrl":"https://notebooks.githubusercontent.com/view/ipynb?browser=edge\u0026bypass_fastly=true\u0026color_mode=auto\u0026commit=44d223d5e3948d2342d670d769832dd814881242\u0026device=unknown_device\u0026docs_host=https%3A%2F%2Fdocs.github.com\u0026enc_url=68747470733a2f2f7261772e67697468756275736572636f6e74656e742e636f6d2f476564656c6153727574686970726979612f4d61696e2d666c6f772d7461736b332f343464323233643565333934386432333432643637306437363938333264643831343838313234322f746173332e6970796e62\u0026logged_in=false\u0026nwo=GedelaSruthipriya%2FMain-flow-task3\u0026path=tas3.ipynb\u0026platform=windows\u0026repository_id=1002856541\u0026repository_type=Repository\u0026version=137","headerInfo":{"blobSize":"82.3 KB","deleteTooltip":"You must be signed in to make or propose changes","editTooltip":"You must be signed in to make or propose changes","ghDesktopPath":"https://desktop.github.com","isGitLfs":false,"onBranch":true,"shortPath":"e32dfa0","siteNavLoginPath":"/login?return_to=https%3A%2F%2Fgithub.com%2FGedelaSruthipriya%2FMain-flow-task3%2Fblob%2Fmain%2Ftas3.ipynb","isCSV":false,"isRichtext":false,"toc":null,"lineInfo":{"truncatedLoc":"223","truncatedSloc":"223"},"mode":"file"},"image":false,"isCodeownersFile":null,"isPlain":false,"isValidLegacyIssueTemplate":false,"issueTemplate":null,"discussionTemplate":null,"language":"Jupyter Notebook","languageID":185,"large":false,"planSupportInfo":{"repoIsFork":null,"repoOwnedByCurrentUser":null,"requestFullPath":"/GedelaSruthipriya/Main-flow-task3/blob/main/tas3.ipynb","showFreeOrgGatedFeatureMessage":null,"showPlanSupportBanner":null,"upgradeDataAttributes":null,"upgradePath":null},"publishBannersInfo":{"dismissActionNoticePath":"/settings/dismiss-notice/publish_action_from_dockerfile","releasePath":"/GedelaSruthipriya/Main-flow-task3/releases/new?marketplace=true","showPublishActionBanner":false},"rawBlobUrl":"https://github.com/GedelaSruthipriya/Main-flow-task3/raw/refs/heads/main/tas3.ipynb","renderImageOrRaw":false,"richText":null,"renderedFileInfo":{"identityUUID":"88cfb5a5-de0f-48a9-96c5-c3c842d36dd2","renderFileType":"ipynb","size":84239},"shortPath":null,"symbolsEnabled":true,"tabSize":8,"topBannersInfo":{"overridingGlobalFundingFile":false,"globalPreferredFundingPath":null,"showInvalidCitationWarning":false,"citationHelpUrl":"https://docs.github.com/github/creating-cloning-and-archiving-repositories/creating-a-repository-on-github/about-citation-files","actionsOnboardingTip":null},"truncated":false,"viewable":true,"workflowRedirectUrl":null,"symbols":{"timed_out":false,"not_analyzed":true,"symbols":[]}},"copilotInfo":null,"copilotAccessAllowed":false,"modelsAccessAllowed":false,"modelsRepoIntegrationEnabled":false,"csrf_tokens":{"/GedelaSruthipriya/Main-flow-task3/branches":{"post":"IDNQ_Nixzm3HQUPmbAWIrmrauxo2o_7JC3DHkNSvluayDwT4_THmPYE1JnyVr8wice76unQNt05t6eq3S2VIew"},"/repos/preferences":{"post":"d2LdMnazsKSzIFI88iW96p4n2a-rDukwzSVYpFIQjwG_fA25tvaxK7lF7ytlx8K_aL5-NDZBWbgBjn-VogxBEQ"}}},"title":"Main-flow-task3/tas3.ipynb at main · GedelaSruthipriya/Main-flow-task3","appPayload":{"helpUrl":"https://docs.github.com","findFileWorkerPath":"/assets-cdn/worker/find-file-worker-263cab1760dd.js","findInFileWorkerPath":"/assets-cdn/worker/find-in-file-worker-1b17b3e7786a.js","githubDevUrl":null,"enabled_features":{"code_nav_ui_events":false,"react_blob_overlay":false,"accessible_code_button":true}}}</script>
  <div data-target="react-app.reactRoot"><meta data-hydrostats="publish">   <button hidden="" data-testid="header-permalink-button" data-hotkey="y,Shift+Y" data-hotkey-scope="read-only-cursor-text-area"></button><button hidden="" data-hotkey="y,Shift+Y"></button><div><div class="prc-PageLayout-PageLayoutRoot-1zlEO" style="--spacing: var(--spacing-none);"><div class="prc-PageLayout-PageLayoutWrapper-s2ao4" data-width="full"><div class="prc-PageLayout-PageLayoutContent-jzDMn"><div tabindex="0" class="Box-sc-g0xbh4-0 gISSDQ"><div class="prc-PageLayout-PaneWrapper-nGO0U ReposFileTreePane-module__Pane--wS7IV ReposFileTreePane-module__HidePane--Gj4XZ" data-is-hidden="false" data-position="start" data-sticky="true" style="--offset-header: 0px; --spacing-row: var(--spacing-none); --spacing-column: var(--spacing-none);"><div class="prc-PageLayout-HorizontalDivider-CYLp5 prc-PageLayout-PaneHorizontalDivider-4exOb" data-variant="none" data-position="start" style="--spacing-divider: var(--spacing-none); --spacing: var(--spacing-none);"></div><div class="prc-PageLayout-Pane-Vl5LI" data-resizable="true" style="--spacing: var(--spacing-none); --pane-min-width: 256px; --pane-max-width: calc(100vw - var(--pane-max-width-diff)); --pane-width-size: var(--pane-width-large); --pane-width: 320px;"><div><div id="repos-file-tree" class="Box-sc-g0xbh4-0 bNhwaa"><div class="ReposFileTreePane-module__Box_1--Bz4Aw"><div class="Box-sc-g0xbh4-0 jfIeyl"><h2 class="use-tree-pane-module__Heading--DlnQ2 prc-Heading-Heading-6CmGO"><button data-component="IconButton" type="button" data-testid="collapse-file-tree-button" aria-expanded="true" aria-controls="repos-file-tree" data-hotkey="Control+b" class="prc-Button-ButtonBase-c50BI position-relative ExpandFileTreeButton-module__expandButton--gL4is fgColor-muted prc-Button-IconButton-szpyj" data-loading="false" data-no-visuals="true" data-size="medium" data-variant="invisible" aria-describedby=":r30:-loading-announcement" aria-labelledby=":r2v:"><svg aria-hidden="true" focusable="false" class="octicon octicon-sidebar-expand" viewBox="0 0 16 16" width="16" height="16" fill="currentColor" display="inline-block" overflow="visible" style="vertical-align: text-bottom;"><path d="m4.177 7.823 2.396-2.396A.25.25 0 0 1 7 5.604v4.792a.25.25 0 0 1-.427.177L4.177 8.177a.25.25 0 0 1 0-.354Z"></path><path d="M0 1.75C0 .784.784 0 1.75 0h12.5C15.216 0 16 .784 16 1.75v12.5A1.75 1.75 0 0 1 14.25 16H1.75A1.75 1.75 0 0 1 0 14.25Zm1.75-.25a.25.25 0 0 0-.25.25v12.5c0 .138.112.25.25.25H9.5v-13Zm12.5 13a.25.25 0 0 0 .25-.25V1.75a.25.25 0 0 0-.25-.25H11v13Z"></path></svg></button><span class="prc-TooltipV2-Tooltip-cYMVY" data-direction="se" aria-hidden="true" id=":r2v:" popover="auto">Collapse file tree</span><button hidden="" data-testid="" data-hotkey="Control+b" data-hotkey-scope="read-only-cursor-text-area"></button></h2><h2 class="Box-sc-g0xbh4-0 kOkWgo prc-Heading-Heading-6CmGO">Files</h2></div><div class="ReposFileTreePane-module__Box_2--uC_pl"><div class="ReposFileTreePane-module__Box_3--Tgoja"><button type="button" aria-haspopup="true" aria-expanded="false" tabindex="0" data-hotkey="w" aria-label="main branch" data-testid="anchor-button" class="Box-sc-g0xbh4-0 JMXqM prc-Button-ButtonBase-c50BI react-repos-tree-pane-ref-selector width-full ref-selector-class" data-loading="false" data-size="medium" data-variant="default" aria-describedby="branch-picker-repos-header-ref-selector-loading-announcement" id="branch-picker-repos-header-ref-selector"><span data-component="buttonContent" class="Box-sc-g0xbh4-0 gUkoLg prc-Button-ButtonContent-HKbr-"><span data-component="text" class="prc-Button-Label-pTQ3x"><div class="Box-sc-g0xbh4-0 bZBlpz"><div class="Box-sc-g0xbh4-0 bJjzmO"><svg aria-hidden="true" focusable="false" class="octicon octicon-git-branch" viewBox="0 0 16 16" width="16" height="16" fill="currentColor" display="inline-block" overflow="visible" style="vertical-align: text-bottom;"><path d="M9.5 3.25a2.25 2.25 0 1 1 3 2.122V6A2.5 2.5 0 0 1 10 8.5H6a1 1 0 0 0-1 1v1.128a2.251 2.251 0 1 1-1.5 0V5.372a2.25 2.25 0 1 1 1.5 0v1.836A2.493 2.493 0 0 1 6 7h4a1 1 0 0 0 1-1v-.628A2.25 2.25 0 0 1 9.5 3.25Zm-6 0a.75.75 0 1 0 1.5 0 .75.75 0 0 0-1.5 0Zm8.25-.75a.75.75 0 1 0 0 1.5.75.75 0 0 0 0-1.5ZM4.25 12a.75.75 0 1 0 0 1.5.75.75 0 0 0 0-1.5Z"></path></svg></div><div class="Box-sc-g0xbh4-0 ffLUq ref-selector-button-text-container"><span class="Box-sc-g0xbh4-0 bmcJak prc-Text-Text-0ima0">&nbsp;main</span></div></div></span><span data-component="trailingVisual" class="prc-Button-Visual-2epfX prc-Button-VisualWrap-Db-eB"><svg aria-hidden="true" focusable="false" class="octicon octicon-triangle-down" viewBox="0 0 16 16" width="16" height="16" fill="currentColor" display="inline-block" overflow="visible" style="vertical-align: text-bottom;"><path d="m4.427 7.427 3.396 3.396a.25.25 0 0 0 .354 0l3.396-3.396A.25.25 0 0 0 11.396 7H4.604a.25.25 0 0 0-.177.427Z"></path></svg></span></span></button><button hidden="" data-hotkey="w" data-hotkey-scope="read-only-cursor-text-area"></button></div><div class="ReposFileTreePane-module__Box_4--brBpx"><button data-component="IconButton" type="button" data-hotkey="/" class="prc-Button-ButtonBase-c50BI SearchButton-module__IconButton--LGy8b prc-Button-IconButton-szpyj" data-loading="false" data-no-visuals="true" data-size="medium" data-variant="default" aria-describedby=":r34:-loading-announcement" aria-labelledby=":r33:"><svg aria-hidden="true" focusable="false" class="octicon octicon-search" viewBox="0 0 16 16" width="16" height="16" fill="currentColor" display="inline-block" overflow="visible" style="vertical-align: text-bottom;"><path d="M10.68 11.74a6 6 0 0 1-7.922-8.982 6 6 0 0 1 8.982 7.922l3.04 3.04a.749.749 0 0 1-.326 1.275.749.749 0 0 1-.734-.215ZM11.5 7a4.499 4.499 0 1 0-8.997 0A4.499 4.499 0 0 0 11.5 7Z"></path></svg></button><span class="prc-TooltipV2-Tooltip-cYMVY" data-direction="nw" aria-hidden="true" id=":r33:" popover="auto">Search this repository</span><button hidden="" data-testid="" data-hotkey="/" data-hotkey-scope="read-only-cursor-text-area"></button></div></div></div><div class="Box-sc-g0xbh4-0 ReposFileTreePane-module__FileResultsList--t38MI FileResultsList-module__Box_1--ZnWjQ"><span class="FileResultsList-module__FilesSearchBox--J5FtW FilesSearchBox-module__TextInput--LKpMn TextInput-wrapper prc-components-TextInputWrapper-i1ofR prc-components-TextInputBaseWrapper-ueK9q" data-leading-visual="true" data-trailing-visual="true" aria-busy="false"><span class="TextInput-icon" id=":r35:" aria-hidden="true"><svg aria-hidden="true" focusable="false" class="octicon octicon-search" viewBox="0 0 16 16" width="16" height="16" fill="currentColor" display="inline-block" overflow="visible" style="vertical-align: text-bottom;"><path d="M10.68 11.74a6 6 0 0 1-7.922-8.982 6 6 0 0 1 8.982 7.922l3.04 3.04a.749.749 0 0 1-.326 1.275.749.749 0 0 1-.734-.215ZM11.5 7a4.499 4.499 0 1 0-8.997 0A4.499 4.499 0 0 0 11.5 7Z"></path></svg></span><input type="text" aria-label="Go to file" role="combobox" aria-controls="file-results-list" aria-expanded="false" aria-haspopup="dialog" autocorrect="off" spellcheck="false" placeholder="Go to file" aria-describedby=":r35: :r36:" data-component="input" class="prc-components-Input-Ic-y8" value=""><span class="TextInput-icon" id=":r36:" aria-hidden="true"></span></span></div><button hidden="" data-testid="" data-hotkey="t,Shift+T" data-hotkey-scope="read-only-cursor-text-area"></button><button hidden="" data-hotkey="t,Shift+T"></button><div class="Box-sc-g0xbh4-0 ReposFileTreePane-module__Box_5--tQNH_"><div><div class="react-tree-show-tree-items"><div class="ReposFileTreeView-module__Box--V2jWA" data-testid="repos-file-tree-container"><nav aria-label="File Tree Navigation"><span role="status" aria-live="polite" aria-atomic="true" class="_VisuallyHidden__VisuallyHidden-sc-11jhm7a-0 brGdpi"></span><ul role="tree" aria-label="Files" data-truncate-text="true" class="prc-TreeView-TreeViewRootUlStyles-eZtxW"><li class="PRIVATE_TreeView-item prc-TreeView-TreeViewItem-ShJr0" tabindex="0" id="tas3.ipynb-item" role="treeitem" aria-labelledby=":re:" aria-describedby=":rf:" aria-level="1" aria-current="true" aria-selected="true"><div class="PRIVATE_TreeView-item-container prc-TreeView-TreeViewItemContainer--2Rkn" style="--level: 1;"><div style="grid-area: spacer; display: flex;"><div style="width: 100%; display: flex;"></div></div><div id=":re:" class="PRIVATE_TreeView-item-content prc-TreeView-TreeViewItemContent-f0r0b"><div class="PRIVATE_VisuallyHidden prc-TreeView-TreeViewVisuallyHidden-4-mPv" aria-hidden="true" id=":rf:"></div><div class="PRIVATE_TreeView-item-visual prc-TreeView-TreeViewItemVisual-dRlGq" aria-hidden="true"><svg aria-hidden="true" focusable="false" class="octicon octicon-file" viewBox="0 0 16 16" width="16" height="16" fill="currentColor" display="inline-block" overflow="visible" style="vertical-align: text-bottom;"><path d="M2 1.75C2 .784 2.784 0 3.75 0h6.586c.464 0 .909.184 1.237.513l2.914 2.914c.329.328.513.773.513 1.237v9.586A1.75 1.75 0 0 1 13.25 16h-9.5A1.75 1.75 0 0 1 2 14.25Zm1.75-.25a.25.25 0 0 0-.25.25v12.5c0 .138.112.25.25.25h9.5a.25.25 0 0 0 .25-.25V6h-2.75A1.75 1.75 0 0 1 9 4.25V1.5Zm6.75.062V4.25c0 .138.112.25.25.25h2.688l-.011-.013-2.914-2.914-.013-.011Z"></path></svg></div><span class="PRIVATE_TreeView-item-content-text prc-TreeView-TreeViewItemContentText-smZM-"><span>tas3.ipynb</span></span></div></div></li></ul></nav></div></div></div></div></div></div></div><div class="prc-PageLayout-VerticalDivider-4A4Qm prc-PageLayout-PaneVerticalDivider-1c9vy" data-variant="line" data-position="start" style="--spacing: var(--spacing-none);"><div role="slider" aria-label="Draggable pane splitter" aria-valuemin="256" aria-valuemax="251" aria-valuenow="0" aria-valuetext="Pane width 0 pixels" tabindex="0" class="Box-sc-g0xbh4-0 fFMzrG"></div></div></div></div><div class="prc-PageLayout-ContentWrapper-b-QRo CodeView-module__SplitPageLayout_Content--qxR1C" data-is-hidden="false"><div class="prc-PageLayout-Content--F7-I" data-width="full" style="--spacing: var(--spacing-none);"><div data-selector="repos-split-pane-content" tabindex="0" class="Box-sc-g0xbh4-0 leYMvG"><div class="Box-sc-g0xbh4-0 KMPzq"><div class="container CodeViewHeader-module__Box--PofRM"><div class="px-3 pt-3 pb-0" id="StickyHeader"><div class="CodeViewHeader-module__Box_1--KpLzV"><div class="CodeViewHeader-module__Box_2--xzDOt"><div class="CodeViewHeader-module__Box_6--iStzT"><div class="Box-sc-g0xbh4-0 cEytCf"><nav data-testid="breadcrumbs" aria-labelledby="repos-header-breadcrumb--wide-heading" id="repos-header-breadcrumb--wide" class="Box-sc-g0xbh4-0 fzFXnm"><h2 class="sr-only ScreenReaderHeading-module__userSelectNone--vW4Cq prc-Heading-Heading-6CmGO" data-testid="screen-reader-heading" id="repos-header-breadcrumb--wide-heading">Breadcrumbs</h2><ol class="Box-sc-g0xbh4-0 iMnkmv"><li class="Box-sc-g0xbh4-0 ghzDag"><a class="Box-sc-g0xbh4-0 kHuKdh prc-Link-Link-85e08" sx="[object Object]" data-testid="breadcrumbs-repo-link" href="https://github.com/GedelaSruthipriya/Main-flow-task3/tree/main">Main-flow-task3</a></li></ol></nav><div data-testid="breadcrumbs-filename" class="Box-sc-g0xbh4-0 ghzDag"><span class="Box-sc-g0xbh4-0 hXyrdx prc-Text-Text-0ima0" aria-hidden="true">/</span><h1 class="Box-sc-g0xbh4-0 jGhzSQ prc-Heading-Heading-6CmGO" tabindex="-1" id="file-name-id-wide">tas3.ipynb</h1></div><button data-component="IconButton" type="button" class="prc-Button-ButtonBase-c50BI ml-2 prc-Button-IconButton-szpyj" data-loading="false" data-no-visuals="true" data-size="small" data-variant="invisible" aria-describedby=":r3b:-loading-announcement" aria-labelledby=":r39:"><svg aria-hidden="true" focusable="false" class="octicon octicon-copy" viewBox="0 0 16 16" width="16" height="16" fill="currentColor" display="inline-block" overflow="visible" style="vertical-align: text-bottom;"><path d="M0 6.75C0 5.784.784 5 1.75 5h1.5a.75.75 0 0 1 0 1.5h-1.5a.25.25 0 0 0-.25.25v7.5c0 .138.112.25.25.25h7.5a.25.25 0 0 0 .25-.25v-1.5a.75.75 0 0 1 1.5 0v1.5A1.75 1.75 0 0 1 9.25 16h-7.5A1.75 1.75 0 0 1 0 14.25Z"></path><path d="M5 1.75C5 .784 5.784 0 6.75 0h7.5C15.216 0 16 .784 16 1.75v7.5A1.75 1.75 0 0 1 14.25 11h-7.5A1.75 1.75 0 0 1 5 9.25Zm1.75-.25a.25.25 0 0 0-.25.25v7.5c0 .138.112.25.25.25h7.5a.25.25 0 0 0 .25-.25v-7.5a.25.25 0 0 0-.25-.25Z"></path></svg></button><span class="CopyToClipboardButton-module__tooltip--Dq1IB prc-TooltipV2-Tooltip-cYMVY" data-direction="nw" aria-label="Copy path" aria-hidden="true" id=":r39:" popover="auto">Copy path</span></div></div><div class="react-code-view-header-element--wide"><div class="CodeViewHeader-module__Box_7--FZfkg"><div class="d-flex gap-2"> <button type="button" data-hotkey="b,Shift+B,Control+/ Control+b" class="Box-sc-g0xbh4-0 fjrFuv prc-Button-ButtonBase-c50BI NavigationMenu-module__Button--SJihq" data-loading="false" data-no-visuals="true" data-size="medium" data-variant="default" aria-describedby=":ru:-loading-announcement"><span data-component="buttonContent" class="Box-sc-g0xbh4-0 gUkoLg prc-Button-ButtonContent-HKbr-"><span data-component="text" class="prc-Button-Label-pTQ3x">Blame</span></span></button><button hidden="" data-testid="" data-hotkey="b,Shift+B,Control+/ Control+b" data-hotkey-scope="read-only-cursor-text-area"></button><button data-component="IconButton" type="button" data-testid="more-file-actions-button-nav-menu-wide" aria-haspopup="true" aria-expanded="false" tabindex="0" class="prc-Button-ButtonBase-c50BI js-blob-dropdown-click NavigationMenu-module__IconButton--NqJ_L prc-Button-IconButton-szpyj" data-loading="false" data-no-visuals="true" data-size="medium" data-variant="default" aria-describedby=":rv:-loading-announcement" aria-labelledby=":r11:" id=":rv:"><svg aria-hidden="true" focusable="false" class="octicon octicon-kebab-horizontal" viewBox="0 0 16 16" width="16" height="16" fill="currentColor" display="inline-block" overflow="visible" style="vertical-align: text-bottom;"><path d="M8 9a1.5 1.5 0 1 0 0-3 1.5 1.5 0 0 0 0 3ZM1.5 9a1.5 1.5 0 1 0 0-3 1.5 1.5 0 0 0 0 3Zm13 0a1.5 1.5 0 1 0 0-3 1.5 1.5 0 0 0 0 3Z"></path></svg></button><span class="prc-TooltipV2-Tooltip-cYMVY" data-direction="nw" aria-hidden="true" id=":r11:" popover="auto">More file actions</span> </div></div></div><div class="react-code-view-header-element--narrow"><div class="CodeViewHeader-module__Box_7--FZfkg"><div class="d-flex gap-2"> <button type="button" data-hotkey="b,Shift+B,Control+/ Control+b" class="Box-sc-g0xbh4-0 fjrFuv prc-Button-ButtonBase-c50BI NavigationMenu-module__Button--SJihq" data-loading="false" data-no-visuals="true" data-size="medium" data-variant="default" aria-describedby=":r13:-loading-announcement"><span data-component="buttonContent" class="Box-sc-g0xbh4-0 gUkoLg prc-Button-ButtonContent-HKbr-"><span data-component="text" class="prc-Button-Label-pTQ3x">Blame</span></span></button><button hidden="" data-testid="" data-hotkey="b,Shift+B,Control+/ Control+b" data-hotkey-scope="read-only-cursor-text-area"></button><button data-component="IconButton" type="button" data-testid="more-file-actions-button-nav-menu-narrow" aria-haspopup="true" aria-expanded="false" tabindex="0" class="prc-Button-ButtonBase-c50BI js-blob-dropdown-click NavigationMenu-module__IconButton--NqJ_L prc-Button-IconButton-szpyj" data-loading="false" data-no-visuals="true" data-size="medium" data-variant="default" aria-describedby=":r14:-loading-announcement" aria-labelledby=":r16:" id=":r14:"><svg aria-hidden="true" focusable="false" class="octicon octicon-kebab-horizontal" viewBox="0 0 16 16" width="16" height="16" fill="currentColor" display="inline-block" overflow="visible" style="vertical-align: text-bottom;"><path d="M8 9a1.5 1.5 0 1 0 0-3 1.5 1.5 0 0 0 0 3ZM1.5 9a1.5 1.5 0 1 0 0-3 1.5 1.5 0 0 0 0 3Zm13 0a1.5 1.5 0 1 0 0-3 1.5 1.5 0 0 0 0 3Z"></path></svg></button><span class="prc-TooltipV2-Tooltip-cYMVY" data-direction="nw" aria-hidden="true" id=":r16:" popover="auto">More file actions</span> </div></div></div></div></div></div></div></div><div class="Box-sc-g0xbh4-0 dJxjrT react-code-view-bottom-padding"> <div class="BlobTopBanners-module__Box--g_bGk"></div>   </div><div class="Box-sc-g0xbh4-0 dJxjrT">   <div class="d-flex flex-column border rounded-2 mb-3 pl-1"><div class="LatestCommit-module__Box--En0AE"><h2 class="sr-only ScreenReaderHeading-module__userSelectNone--vW4Cq prc-Heading-Heading-6CmGO" data-testid="screen-reader-heading">Latest commit</h2><div data-testid="latest-commit" class="LatestCommit-module__Box_1--Kkzat"><div class="Box-sc-g0xbh4-0 dpBUfI"><div data-testid="author-avatar" class="Box-sc-g0xbh4-0 hKWjvQ"><a class="prc-Link-Link-85e08" href="https://github.com/GedelaSruthipriya" data-testid="avatar-icon-link" data-hovercard-url="/users/GedelaSruthipriya/hovercard"><img data-component="Avatar" class="Box-sc-g0xbh4-0 cvdqJW prc-Avatar-Avatar-ZRS-m" alt="GedelaSruthipriya" width="20" height="20" src="./Main-flow-task3_files/210998044" data-testid="github-avatar" aria-label="GedelaSruthipriya" style="--avatarSize-regular: 20px;"></a><a class="Box-sc-g0xbh4-0 kJvqaq prc-Link-Link-85e08" data-muted="true" href="https://github.com/GedelaSruthipriya/Main-flow-task3/commits?author=GedelaSruthipriya" aria-label="commits by GedelaSruthipriya" data-hovercard-url="/users/GedelaSruthipriya/hovercard">GedelaSruthipriya</a></div><span class=""></span></div><div class="d-none d-sm-flex LatestCommit-module__Box_2--gAJMD"><div class="Truncate flex-items-center f5"><span class="Truncate-text prc-Text-Text-0ima0" data-testid="latest-commit-html"><a href="https://github.com/GedelaSruthipriya/Main-flow-task3/commit/44d223d5e3948d2342d670d769832dd814881242" class="Link--secondary" data-pjax="true" data-hovercard-url="/GedelaSruthipriya/Main-flow-task3/commit/44d223d5e3948d2342d670d769832dd814881242/hovercard">Add files via upload</a></span></div></div><span class="d-flex d-sm-none fgColor-muted f6"><relative-time class="sc-aXZVg" tense="past" datetime="2025-06-16T08:50:12.000Z" title="Jun 16, 2025, 2:20 PM GMT+5:30"><template shadowrootmode="open">yesterday</template>Jun 16, 2025</relative-time></span></div><div class="d-flex flex-shrink-0 gap-2"><div data-testid="latest-commit-details" class="d-none d-sm-flex flex-items-center"><span class="d-flex flex-nowrap fgColor-muted f6"><a class="Link--secondary prc-Link-Link-85e08" aria-label="Commit 44d223d" data-hovercard-url="/GedelaSruthipriya/Main-flow-task3/commit/44d223d5e3948d2342d670d769832dd814881242/hovercard" href="https://github.com/GedelaSruthipriya/Main-flow-task3/commit/44d223d5e3948d2342d670d769832dd814881242">44d223d</a>&nbsp;·&nbsp;<relative-time class="sc-aXZVg" tense="past" datetime="2025-06-16T08:50:12.000Z" title="Jun 16, 2025, 2:20 PM GMT+5:30"><template shadowrootmode="open">yesterday</template>Jun 16, 2025</relative-time></span></div><div class="d-flex gap-2"><h2 class="sr-only ScreenReaderHeading-module__userSelectNone--vW4Cq prc-Heading-Heading-6CmGO" data-testid="screen-reader-heading">History</h2><a href="https://github.com/GedelaSruthipriya/Main-flow-task3/commits/main/tas3.ipynb" class="prc-Button-ButtonBase-c50BI d-none d-lg-flex LinkButton-module__code-view-link-button--xvCGA flex-items-center fgColor-default" data-loading="false" data-size="small" data-variant="invisible" aria-describedby=":r18:-loading-announcement"><span data-component="buttonContent" data-align="center" class="prc-Button-ButtonContent-HKbr-"><span data-component="leadingVisual" class="prc-Button-Visual-2epfX prc-Button-VisualWrap-Db-eB"><svg aria-hidden="true" focusable="false" class="octicon octicon-history" viewBox="0 0 16 16" width="16" height="16" fill="currentColor" display="inline-block" overflow="visible" style="vertical-align: text-bottom;"><path d="m.427 1.927 1.215 1.215a8.002 8.002 0 1 1-1.6 5.685.75.75 0 1 1 1.493-.154 6.5 6.5 0 1 0 1.18-4.458l1.358 1.358A.25.25 0 0 1 3.896 6H.25A.25.25 0 0 1 0 5.75V2.104a.25.25 0 0 1 .427-.177ZM7.75 4a.75.75 0 0 1 .75.75v2.992l2.028.812a.75.75 0 0 1-.557 1.392l-2.5-1A.751.751 0 0 1 7 8.25v-3.5A.75.75 0 0 1 7.75 4Z"></path></svg></span><span data-component="text" class="prc-Button-Label-pTQ3x"><span class="fgColor-default">History</span></span></span></a><div class="d-sm-none"><button data-component="IconButton" type="button" aria-pressed="false" aria-expanded="false" data-testid="latest-commit-details-toggle" class="prc-Button-ButtonBase-c50BI LatestCommit-module__IconButton--jJLCx prc-Button-IconButton-szpyj" data-loading="false" data-no-visuals="true" data-size="small" data-variant="invisible" aria-describedby=":r20:-loading-announcement" aria-labelledby=":r1v:"><svg aria-hidden="true" focusable="false" class="octicon octicon-ellipsis" viewBox="0 0 16 16" width="16" height="16" fill="currentColor" display="inline-block" overflow="visible" style="vertical-align: text-bottom;"><path d="M0 5.75C0 4.784.784 4 1.75 4h12.5c.966 0 1.75.784 1.75 1.75v4.5A1.75 1.75 0 0 1 14.25 12H1.75A1.75 1.75 0 0 1 0 10.25ZM12 7a1 1 0 1 0 0 2 1 1 0 0 0 0-2ZM7 8a1 1 0 1 0 2 0 1 1 0 0 0-2 0ZM4 7a1 1 0 1 0 0 2 1 1 0 0 0 0-2Z"></path></svg></button><span class="prc-TooltipV2-Tooltip-cYMVY" data-direction="s" aria-hidden="true" id=":r1v:" popover="auto">Open commit details</span></div><div class="d-flex d-lg-none"><span role="tooltip" aria-label="History" id="history-icon-button-tooltip" class="Tooltip__TooltipBase-sc-17tf59c-0 fiSvBN tooltipped-n"><a href="https://github.com/GedelaSruthipriya/Main-flow-task3/commits/main/tas3.ipynb" class="prc-Button-ButtonBase-c50BI LinkButton-module__code-view-link-button--xvCGA flex-items-center fgColor-default" data-loading="false" data-size="small" data-variant="invisible" aria-describedby=":r1a:-loading-announcement history-icon-button-tooltip"><span data-component="buttonContent" data-align="center" class="prc-Button-ButtonContent-HKbr-"><span data-component="leadingVisual" class="prc-Button-Visual-2epfX prc-Button-VisualWrap-Db-eB"><svg aria-hidden="true" focusable="false" class="octicon octicon-history" viewBox="0 0 16 16" width="16" height="16" fill="currentColor" display="inline-block" overflow="visible" style="vertical-align: text-bottom;"><path d="m.427 1.927 1.215 1.215a8.002 8.002 0 1 1-1.6 5.685.75.75 0 1 1 1.493-.154 6.5 6.5 0 1 0 1.18-4.458l1.358 1.358A.25.25 0 0 1 3.896 6H.25A.25.25 0 0 1 0 5.75V2.104a.25.25 0 0 1 .427-.177ZM7.75 4a.75.75 0 0 1 .75.75v2.992l2.028.812a.75.75 0 0 1-.557 1.392l-2.5-1A.751.751 0 0 1 7 8.25v-3.5A.75.75 0 0 1 7.75 4Z"></path></svg></span></span></a></span></div></div></div></div></div><div class="Box-sc-g0xbh4-0 ldRxiI"><div class="Box-sc-g0xbh4-0 fVkfyA container"><div class="Box-sc-g0xbh4-0 gNAmSV react-code-size-details-banner"><div class="react-code-size-details-banner CodeSizeDetails-module__Box--QdxnQ"><div class="text-mono CodeSizeDetails-module__Box_1--_uFDs"><div title="82.3 KB" data-testid="blob-size" class="Truncate__StyledTruncate-sc-23o1d2-0 bgsFir CodeSizeDetails-module__Truncate_1--er0Uk"><span>223 lines (223 loc) · 82.3 KB</span></div></div></div></div><div class="Box-sc-g0xbh4-0 jdLMhu react-blob-view-header-sticky" id="repos-sticky-header"><div class="BlobViewHeader-module__Box--pvsIA"><div class="react-blob-sticky-header"><div class="Box-sc-g0xbh4-0 hqwSEx"><div class="FileNameStickyHeader-module__Box_5--xBJ2J"><div class="Box-sc-g0xbh4-0 fHind"><nav data-testid="breadcrumbs" aria-labelledby="sticky-breadcrumb-heading" id="sticky-breadcrumb" class="Box-sc-g0xbh4-0 fzFXnm"><h2 class="sr-only ScreenReaderHeading-module__userSelectNone--vW4Cq prc-Heading-Heading-6CmGO" data-testid="screen-reader-heading" id="sticky-breadcrumb-heading">Breadcrumbs</h2><ol class="Box-sc-g0xbh4-0 iMnkmv"><li class="Box-sc-g0xbh4-0 ghzDag"><a class="Box-sc-g0xbh4-0 kHuKdh prc-Link-Link-85e08" sx="[object Object]" data-testid="breadcrumbs-repo-link" href="https://github.com/GedelaSruthipriya/Main-flow-task3/tree/main">Main-flow-task3</a></li></ol></nav><div data-testid="breadcrumbs-filename" class="Box-sc-g0xbh4-0 ghzDag"><span class="Box-sc-g0xbh4-0 bQeXnn prc-Text-Text-0ima0" aria-hidden="true">/</span><h1 class="Box-sc-g0xbh4-0 dnZoUW prc-Heading-Heading-6CmGO" tabindex="-1" id="sticky-file-name-id">tas3.ipynb</h1></div></div><button type="button" class="prc-Button-ButtonBase-c50BI FileNameStickyHeader-module__Button--SaiiH FileNameStickyHeader-module__GoToTopButton--9lB4x" data-loading="false" data-size="small" data-variant="invisible" aria-describedby=":r1d:-loading-announcement"><span data-component="buttonContent" data-align="center" class="prc-Button-ButtonContent-HKbr-"><span data-component="leadingVisual" class="prc-Button-Visual-2epfX prc-Button-VisualWrap-Db-eB"><svg aria-hidden="true" focusable="false" class="octicon octicon-arrow-up" viewBox="0 0 16 16" width="16" height="16" fill="currentColor" display="inline-block" overflow="visible" style="vertical-align: text-bottom;"><path d="M3.47 7.78a.75.75 0 0 1 0-1.06l4.25-4.25a.75.75 0 0 1 1.06 0l4.25 4.25a.751.751 0 0 1-.018 1.042.751.751 0 0 1-1.042.018L9 4.81v7.44a.75.75 0 0 1-1.5 0V4.81L4.53 7.78a.75.75 0 0 1-1.06 0Z"></path></svg></span><span data-component="text" class="prc-Button-Label-pTQ3x">Top</span></span></button></div></div></div><div class="Box-sc-g0xbh4-0 gFKFyc BlobViewHeader-module__Box_1--PPihg"><h2 class="sr-only ScreenReaderHeading-module__userSelectNone--vW4Cq prc-Heading-Heading-6CmGO" data-testid="screen-reader-heading">File metadata and controls</h2><div class="BlobViewHeader-module__Box_2--G_jCG"><ul aria-label="File view" class="prc-SegmentedControl-SegmentedControl-e7570 BlobTabButtons-module__SegmentedControl--JMGov" data-size="small"><li class="prc-SegmentedControl-Item-7Aq6h" data-selected=""><button aria-current="true" class="prc-SegmentedControl-Button-ojWXD" type="button" data-hotkey="Control+/ Control+p" style="--separator-color: transparent;"><span class="prc-SegmentedControl-Content-gnQ4n segmentedControl-content"><div class="prc-SegmentedControl-Text-c5gSh segmentedControl-text" data-text="Preview">Preview</div></span></button></li><li class="prc-SegmentedControl-Item-7Aq6h"><button aria-current="false" class="prc-SegmentedControl-Button-ojWXD" type="button" data-hotkey="Control+/ Control+c" style="--separator-color: var(--borderColor-default, var(--color-border-default, #30363d));"><span class="prc-SegmentedControl-Content-gnQ4n segmentedControl-content"><div class="prc-SegmentedControl-Text-c5gSh segmentedControl-text" data-text="Code">Code</div></span></button></li><li class="prc-SegmentedControl-Item-7Aq6h"><button aria-current="false" class="prc-SegmentedControl-Button-ojWXD" type="button" data-hotkey="b,Shift+B,Control+/ Control+b" style="--separator-color: var(--borderColor-default, var(--color-border-default, #30363d));"><span class="prc-SegmentedControl-Content-gnQ4n segmentedControl-content"><div class="prc-SegmentedControl-Text-c5gSh segmentedControl-text" data-text="Blame">Blame</div></span></button></li></ul><button hidden="" data-testid="" data-hotkey="Control+/ Control+c" data-hotkey-scope="read-only-cursor-text-area"></button><button hidden="" data-testid="" data-hotkey="b,Shift+B,Control+/ Control+b" data-hotkey-scope="read-only-cursor-text-area"></button><button hidden="" data-testid="" data-hotkey="Control+/ Control+p" data-hotkey-scope="read-only-cursor-text-area"></button><div class="react-code-size-details-in-header CodeSizeDetails-module__Box--QdxnQ"><div class="text-mono CodeSizeDetails-module__Box_1--_uFDs"><div title="82.3 KB" data-testid="blob-size" class="Truncate__StyledTruncate-sc-23o1d2-0 bgsFir CodeSizeDetails-module__Truncate_1--er0Uk"><span>223 lines (223 loc) · 82.3 KB</span></div></div></div></div><div class="BlobViewHeader-module__Box_3--Kvpex"><button hidden="" data-testid="" data-hotkey="Control+Shift+&gt;" data-hotkey-scope="read-only-cursor-text-area"></button><button hidden="" data-hotkey="Control+Shift+&gt;"></button><button hidden="" data-testid="" data-hotkey="Control+Shift+&lt;" data-hotkey-scope="read-only-cursor-text-area"></button><button hidden="" data-hotkey="Control+Shift+&lt;"></button><div class="react-blob-header-edit-and-raw-actions BlobViewHeader-module__Box_4--vFP89"><div class="Box-sc-g0xbh4-0 prc-ButtonGroup-ButtonGroup-vcMeG"><div><a href="https://github.com/GedelaSruthipriya/Main-flow-task3/raw/refs/heads/main/tas3.ipynb" data-testid="raw-button" data-hotkey="Control+/ Control+r" class="Box-sc-g0xbh4-0 lefpaC prc-Button-ButtonBase-c50BI BlobViewHeader-module__LinkButton--DMph4" data-loading="false" data-no-visuals="true" data-size="small" data-variant="default" aria-describedby=":r1e:-loading-announcement"><span data-component="buttonContent" class="Box-sc-g0xbh4-0 gUkoLg prc-Button-ButtonContent-HKbr-"><span data-component="text" class="prc-Button-Label-pTQ3x">Raw</span></span></a></div><div><button data-component="IconButton" type="button" data-testid="copy-raw-button" data-hotkey="Control+Shift+C" class="prc-Button-ButtonBase-c50BI prc-Button-IconButton-szpyj" data-loading="false" data-no-visuals="true" data-size="small" data-variant="default" aria-describedby=":r1g:-loading-announcement" aria-labelledby=":r1f:"><svg aria-hidden="true" focusable="false" class="octicon octicon-copy" viewBox="0 0 16 16" width="16" height="16" fill="currentColor" display="inline-block" overflow="visible" style="vertical-align: text-bottom;"><path d="M0 6.75C0 5.784.784 5 1.75 5h1.5a.75.75 0 0 1 0 1.5h-1.5a.25.25 0 0 0-.25.25v7.5c0 .138.112.25.25.25h7.5a.25.25 0 0 0 .25-.25v-1.5a.75.75 0 0 1 1.5 0v1.5A1.75 1.75 0 0 1 9.25 16h-7.5A1.75 1.75 0 0 1 0 14.25Z"></path><path d="M5 1.75C5 .784 5.784 0 6.75 0h7.5C15.216 0 16 .784 16 1.75v7.5A1.75 1.75 0 0 1 14.25 11h-7.5A1.75 1.75 0 0 1 5 9.25Zm1.75-.25a.25.25 0 0 0-.25.25v7.5c0 .138.112.25.25.25h7.5a.25.25 0 0 0 .25-.25v-7.5a.25.25 0 0 0-.25-.25Z"></path></svg></button><span class="prc-TooltipV2-Tooltip-cYMVY" data-direction="n" aria-hidden="true" id=":r1f:" popover="auto" style="top: 315.5px; left: 541.463px;">Copy raw file</span></div><div><button data-component="IconButton" type="button" data-testid="download-raw-button" data-hotkey="Control+Shift+S" class="Box-sc-g0xbh4-0 ivobqY prc-Button-ButtonBase-c50BI prc-Button-IconButton-szpyj" data-loading="false" data-no-visuals="true" data-size="small" data-variant="default" aria-describedby=":r1i:-loading-announcement" aria-labelledby=":r1h:"><svg aria-hidden="true" focusable="false" class="octicon octicon-download" viewBox="0 0 16 16" width="16" height="16" fill="currentColor" display="inline-block" overflow="visible" style="vertical-align: text-bottom;"><path d="M2.75 14A1.75 1.75 0 0 1 1 12.25v-2.5a.75.75 0 0 1 1.5 0v2.5c0 .138.112.25.25.25h10.5a.25.25 0 0 0 .25-.25v-2.5a.75.75 0 0 1 1.5 0v2.5A1.75 1.75 0 0 1 13.25 14Z"></path><path d="M7.25 7.689V2a.75.75 0 0 1 1.5 0v5.689l1.97-1.969a.749.749 0 1 1 1.06 1.06l-3.25 3.25a.749.749 0 0 1-1.06 0L4.22 6.78a.749.749 0 1 1 1.06-1.06l1.97 1.969Z"></path></svg></button><span class="prc-TooltipV2-Tooltip-cYMVY" data-direction="n" aria-hidden="true" id=":r1h:" popover="auto" style="top: 315.5px; left: 556.231px;">Download raw file</span></div></div><button hidden="" data-testid="raw-button-shortcut" data-hotkey="Control+/ Control+r" data-hotkey-scope="read-only-cursor-text-area"></button><button hidden="" data-testid="copy-raw-button-shortcut" data-hotkey="Control+Shift+C" data-hotkey-scope="read-only-cursor-text-area"></button><button hidden="" data-testid="download-raw-button-shortcut" data-hotkey="Control+Shift+S" data-hotkey-scope="read-only-cursor-text-area"></button><div class="Box-sc-g0xbh4-0 prc-ButtonGroup-ButtonGroup-vcMeG"><div><button aria-disabled="true" data-component="IconButton" type="button" class="prc-Button-ButtonBase-c50BI BlobViewHeader-module__IconButton_1--MzNlL prc-Button-IconButton-szpyj" data-loading="false" data-no-visuals="true" data-size="small" data-variant="default" aria-describedby=":r1k:-loading-announcement" aria-labelledby=":r1j:"><svg aria-hidden="true" focusable="false" class="octicon octicon-pencil" viewBox="0 0 16 16" width="16" height="16" fill="currentColor" display="inline-block" overflow="visible" style="vertical-align: text-bottom;"><path d="M11.013 1.427a1.75 1.75 0 0 1 2.474 0l1.086 1.086a1.75 1.75 0 0 1 0 2.474l-8.61 8.61c-.21.21-.47.364-.756.445l-3.251.93a.75.75 0 0 1-.927-.928l.929-3.25c.081-.286.235-.547.445-.758l8.61-8.61Zm.176 4.823L9.75 4.81l-6.286 6.287a.253.253 0 0 0-.064.108l-.558 1.953 1.953-.558a.253.253 0 0 0 .108-.064Zm1.238-3.763a.25.25 0 0 0-.354 0L10.811 3.75l1.439 1.44 1.263-1.263a.25.25 0 0 0 0-.354Z"></path></svg></button><span class="prc-TooltipV2-Tooltip-cYMVY" data-direction="sw" aria-hidden="true" id=":r1j:" popover="auto" style="top: 379px; left: 407.2px;">You must be signed in to make or propose changes</span></div><div><button data-component="IconButton" type="button" data-testid="more-edit-button" aria-haspopup="true" aria-expanded="false" tabindex="0" class="prc-Button-ButtonBase-c50BI prc-Button-IconButton-szpyj" data-loading="false" data-no-visuals="true" data-size="small" data-variant="default" aria-describedby=":r1l:-loading-announcement" aria-labelledby=":r1n:" id=":r1l:"><svg aria-hidden="true" focusable="false" class="octicon octicon-triangle-down" viewBox="0 0 16 16" width="16" height="16" fill="currentColor" display="inline-block" overflow="visible" style="vertical-align: text-bottom;"><path d="m4.427 7.427 3.396 3.396a.25.25 0 0 0 .354 0l3.396-3.396A.25.25 0 0 0 11.396 7H4.604a.25.25 0 0 0-.177.427Z"></path></svg></button><span class="prc-TooltipV2-Tooltip-cYMVY" data-direction="nw" aria-hidden="true" id=":r1n:" popover="auto">More edit options</span></div></div></div><div class="react-blob-header-edit-and-raw-actions-combined"><button data-component="IconButton" type="button" title="More file actions" data-testid="more-file-actions-button" aria-haspopup="true" aria-expanded="false" tabindex="0" class="prc-Button-ButtonBase-c50BI js-blob-dropdown-click BlobViewHeader-module__IconButton--uO1fA prc-Button-IconButton-szpyj" data-loading="false" data-no-visuals="true" data-size="small" data-variant="invisible" aria-describedby=":r1p:-loading-announcement" aria-labelledby=":r1r:" id=":r1p:"><svg aria-hidden="true" focusable="false" class="octicon octicon-kebab-horizontal" viewBox="0 0 16 16" width="16" height="16" fill="currentColor" display="inline-block" overflow="visible" style="vertical-align: text-bottom;"><path d="M8 9a1.5 1.5 0 1 0 0-3 1.5 1.5 0 0 0 0 3ZM1.5 9a1.5 1.5 0 1 0 0-3 1.5 1.5 0 0 0 0 3Zm13 0a1.5 1.5 0 1 0 0-3 1.5 1.5 0 0 0 0 3Z"></path></svg></button><span class="prc-TooltipV2-Tooltip-cYMVY" data-direction="nw" aria-hidden="true" id=":r1r:" popover="auto">Edit and raw actions</span></div></div></div></div><div></div></div><div class="Box-sc-g0xbh4-0 hycJXc"><section aria-labelledby="file-name-id-wide file-name-id-mobile" class="Box-sc-g0xbh4-0 iWAocR"><div class="FileRendererBlob-module__FileRendererWrapper--PLJ7W"><div data-hpc="true" data-host="https://notebooks.githubusercontent.com" data-type="ipynb" class="Box-sc-g0xbh4-0 gfbeGT FileRendererBlob-module__FileRendererViewport--WwSdq" style="height: 2694.89px;"><iframe src="./Main-flow-task3_files/ipynb.html" sandbox="allow-scripts allow-same-origin allow-top-navigation" name="887768c0-d3a0-477c-9160-492d81fb2558" title="File display" class="Box-sc-g0xbh4-0 xtOAR FileRendererBlob-module__fileContentFrame--tPzAR">Viewer requires iframe.</iframe></div></div></section></div></div></div>   </div></div></div></div></div></div></div><div id="find-result-marks-container" class="Box-sc-g0xbh4-0 cCoXib"></div><button hidden="" data-testid="" data-hotkey="Control+F6,Control+Shift+F6" data-hotkey-scope="read-only-cursor-text-area"></button><button hidden="" data-hotkey="Control+F6,Control+Shift+F6"></button></div>   <script type="application/json" id="__PRIMER_DATA_:rd:__">{"resolvedServerColorMode":"night"}</script></div>
</react-app>




  </div>

</turbo-frame>

    </main>
  </div>

  </div>

          <footer class="footer pt-8 pb-6 f6 color-fg-muted p-responsive" role="contentinfo" hidden="">
  <h2 class="sr-only">Footer</h2>

  


  <div class="d-flex flex-justify-center flex-items-center flex-column-reverse flex-lg-row flex-wrap flex-lg-nowrap">
    <div class="d-flex flex-items-center flex-shrink-0 mx-2">
      <a aria-label="GitHub Homepage" class="footer-octicon mr-2" href="https://github.com/">
        <svg aria-hidden="true" height="24" viewBox="0 0 24 24" version="1.1" width="24" data-view-component="true" class="octicon octicon-mark-github">
    <path d="M12 1C5.9225 1 1 5.9225 1 12C1 16.8675 4.14875 20.9787 8.52125 22.4362C9.07125 22.5325 9.2775 22.2025 9.2775 21.9137C9.2775 21.6525 9.26375 20.7862 9.26375 19.865C6.5 20.3737 5.785 19.1912 5.565 18.5725C5.44125 18.2562 4.905 17.28 4.4375 17.0187C4.0525 16.8125 3.5025 16.3037 4.42375 16.29C5.29 16.2762 5.90875 17.0875 6.115 17.4175C7.105 19.0812 8.68625 18.6137 9.31875 18.325C9.415 17.61 9.70375 17.1287 10.02 16.8537C7.5725 16.5787 5.015 15.63 5.015 11.4225C5.015 10.2262 5.44125 9.23625 6.1425 8.46625C6.0325 8.19125 5.6475 7.06375 6.2525 5.55125C6.2525 5.55125 7.17375 5.2625 9.2775 6.67875C10.1575 6.43125 11.0925 6.3075 12.0275 6.3075C12.9625 6.3075 13.8975 6.43125 14.7775 6.67875C16.8813 5.24875 17.8025 5.55125 17.8025 5.55125C18.4075 7.06375 18.0225 8.19125 17.9125 8.46625C18.6138 9.23625 19.04 10.2125 19.04 11.4225C19.04 15.6437 16.4688 16.5787 14.0213 16.8537C14.42 17.1975 14.7638 17.8575 14.7638 18.8887C14.7638 20.36 14.75 21.5425 14.75 21.9137C14.75 22.2025 14.9563 22.5462 15.5063 22.4362C19.8513 20.9787 23 16.8537 23 12C23 5.9225 18.0775 1 12 1Z"></path>
</svg>
</a>
      <span>
        © 2025 GitHub,&nbsp;Inc.
      </span>
    </div>

    <nav aria-label="Footer">
      <h3 class="sr-only" id="sr-footer-heading">Footer navigation</h3>

      <ul class="list-style-none d-flex flex-justify-center flex-wrap mb-2 mb-lg-0" aria-labelledby="sr-footer-heading">

          <li class="mx-2">
            <a data-analytics-event="{&quot;category&quot;:&quot;Footer&quot;,&quot;action&quot;:&quot;go to Terms&quot;,&quot;label&quot;:&quot;text:terms&quot;}" href="https://docs.github.com/site-policy/github-terms/github-terms-of-service" data-view-component="true" class="Link--secondary Link">Terms</a>
          </li>

          <li class="mx-2">
            <a data-analytics-event="{&quot;category&quot;:&quot;Footer&quot;,&quot;action&quot;:&quot;go to privacy&quot;,&quot;label&quot;:&quot;text:privacy&quot;}" href="https://docs.github.com/site-policy/privacy-policies/github-privacy-statement" data-view-component="true" class="Link--secondary Link">Privacy</a>
          </li>

          <li class="mx-2">
            <a data-analytics-event="{&quot;category&quot;:&quot;Footer&quot;,&quot;action&quot;:&quot;go to security&quot;,&quot;label&quot;:&quot;text:security&quot;}" href="https://github.com/security" data-view-component="true" class="Link--secondary Link">Security</a>
          </li>

          <li class="mx-2">
            <a data-analytics-event="{&quot;category&quot;:&quot;Footer&quot;,&quot;action&quot;:&quot;go to status&quot;,&quot;label&quot;:&quot;text:status&quot;}" href="https://www.githubstatus.com/" data-view-component="true" class="Link--secondary Link">Status</a>
          </li>

          <li class="mx-2">
            <a data-analytics-event="{&quot;category&quot;:&quot;Footer&quot;,&quot;action&quot;:&quot;go to docs&quot;,&quot;label&quot;:&quot;text:docs&quot;}" href="https://docs.github.com/" data-view-component="true" class="Link--secondary Link">Docs</a>
          </li>

          <li class="mx-2">
            <a data-analytics-event="{&quot;category&quot;:&quot;Footer&quot;,&quot;action&quot;:&quot;go to contact&quot;,&quot;label&quot;:&quot;text:contact&quot;}" href="https://support.github.com/?tags=dotcom-footer" data-view-component="true" class="Link--secondary Link">Contact</a>
          </li>

          <li class="mx-2">
  <cookie-consent-link data-catalyst="">
    <button type="button" class="Link--secondary underline-on-hover border-0 p-0 color-bg-transparent" data-action="click:cookie-consent-link#showConsentManagement" data-analytics-event="{&quot;location&quot;:&quot;footer&quot;,&quot;action&quot;:&quot;cookies&quot;,&quot;context&quot;:&quot;subfooter&quot;,&quot;tag&quot;:&quot;link&quot;,&quot;label&quot;:&quot;cookies_link_subfooter_footer&quot;}">
       Manage cookies
    </button>
  </cookie-consent-link>
</li>

<li class="mx-2">
  <cookie-consent-link data-catalyst="">
    <button type="button" class="Link--secondary underline-on-hover border-0 p-0 color-bg-transparent" data-action="click:cookie-consent-link#showConsentManagement" data-analytics-event="{&quot;location&quot;:&quot;footer&quot;,&quot;action&quot;:&quot;dont_share_info&quot;,&quot;context&quot;:&quot;subfooter&quot;,&quot;tag&quot;:&quot;link&quot;,&quot;label&quot;:&quot;dont_share_info_link_subfooter_footer&quot;}">
      Do not share my personal information
    </button>
  </cookie-consent-link>
</li>

      </ul>
    </nav>
  </div>
</footer>



    <ghcc-consent id="ghcc" class="position-fixed bottom-0 left-0" style="z-index: 999999" data-locale="en" data-initial-cookie-consent-allowed="" data-cookie-consent-required="false" data-catalyst=""></ghcc-consent>



  <div id="ajax-error-message" class="ajax-error-message flash flash-error" hidden="">
    <svg aria-hidden="true" height="16" viewBox="0 0 16 16" version="1.1" width="16" data-view-component="true" class="octicon octicon-alert">
    <path d="M6.457 1.047c.659-1.234 2.427-1.234 3.086 0l6.082 11.378A1.75 1.75 0 0 1 14.082 15H1.918a1.75 1.75 0 0 1-1.543-2.575Zm1.763.707a.25.25 0 0 0-.44 0L1.698 13.132a.25.25 0 0 0 .22.368h12.164a.25.25 0 0 0 .22-.368Zm.53 3.996v2.5a.75.75 0 0 1-1.5 0v-2.5a.75.75 0 0 1 1.5 0ZM9 11a1 1 0 1 1-2 0 1 1 0 0 1 2 0Z"></path>
</svg>
    <button type="button" class="flash-close js-ajax-error-dismiss" aria-label="Dismiss error">
      <svg aria-hidden="true" height="16" viewBox="0 0 16 16" version="1.1" width="16" data-view-component="true" class="octicon octicon-x">
    <path d="M3.72 3.72a.75.75 0 0 1 1.06 0L8 6.94l3.22-3.22a.749.749 0 0 1 1.275.326.749.749 0 0 1-.215.734L9.06 8l3.22 3.22a.749.749 0 0 1-.326 1.275.749.749 0 0 1-.734-.215L8 9.06l-3.22 3.22a.751.751 0 0 1-1.042-.018.751.751 0 0 1-.018-1.042L6.94 8 3.72 4.78a.75.75 0 0 1 0-1.06Z"></path>
</svg>
    </button>
    You can’t perform that action at this time.
  </div>

    <template id="site-details-dialog"></template>

    <div class="Popover js-hovercard-content position-absolute" style="display: none; outline: none;">
  <div class="Popover-message Popover-message--bottom-left Popover-message--large Box color-shadow-large" style="width:360px;"></div>
</div>

    <template id="snippet-clipboard-copy-button"></template>
<template id="snippet-clipboard-copy-button-unpositioned"></template>




    </div>

    <div id="js-global-screen-reader-notice" class="sr-only mt-n1" aria-live="polite" aria-atomic="true">Main-flow-task3/tas3.ipynb at main · GedelaSruthipriya/Main-flow-task3 · GitHub</div>
    <div id="js-global-screen-reader-notice-assertive" class="sr-only mt-n1" aria-live="assertive" aria-atomic="true"></div>
  


<div class="sr-only mt-n1" id="screenReaderAnnouncementDiv" role="alert" data-testid="screenReaderAnnouncement" aria-live="assertive"></div><div id="__primerPortalRoot__" style="position: absolute; top: 0px; left: 0px;"></div></body></html>